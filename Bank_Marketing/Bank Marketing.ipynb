{
 "cells": [
  {
   "cell_type": "markdown",
   "id": "f941f23c",
   "metadata": {},
   "source": [
    "# Imports"
   ]
  },
  {
   "cell_type": "code",
   "execution_count": 1,
   "id": "20c323d0",
   "metadata": {},
   "outputs": [],
   "source": [
    "import warnings\n",
    "import numpy as np\n",
    "import pandas as pd\n",
    "import seaborn as sns\n",
    "import matplotlib.pyplot as plt\n",
    "warnings.filterwarnings(\"ignore\")"
   ]
  },
  {
   "cell_type": "markdown",
   "id": "c1e9f52f",
   "metadata": {},
   "source": [
    "# Read the Data"
   ]
  },
  {
   "cell_type": "code",
   "execution_count": 2,
   "id": "6030c36b",
   "metadata": {},
   "outputs": [],
   "source": [
    "df = pd.read_csv(\"bank.csv\")"
   ]
  },
  {
   "cell_type": "markdown",
   "id": "89ed0c6a",
   "metadata": {},
   "source": [
    "# Data Pre-preocessing"
   ]
  },
  {
   "cell_type": "markdown",
   "id": "1b7fd299",
   "metadata": {},
   "source": [
    "### 1- Data Understanding"
   ]
  },
  {
   "cell_type": "code",
   "execution_count": 3,
   "id": "bd6ec21e",
   "metadata": {},
   "outputs": [
    {
     "data": {
      "text/html": [
       "<div>\n",
       "<style scoped>\n",
       "    .dataframe tbody tr th:only-of-type {\n",
       "        vertical-align: middle;\n",
       "    }\n",
       "\n",
       "    .dataframe tbody tr th {\n",
       "        vertical-align: top;\n",
       "    }\n",
       "\n",
       "    .dataframe thead th {\n",
       "        text-align: right;\n",
       "    }\n",
       "</style>\n",
       "<table border=\"1\" class=\"dataframe\">\n",
       "  <thead>\n",
       "    <tr style=\"text-align: right;\">\n",
       "      <th></th>\n",
       "      <th>age</th>\n",
       "      <th>job</th>\n",
       "      <th>marital</th>\n",
       "      <th>education</th>\n",
       "      <th>balance</th>\n",
       "      <th>housing</th>\n",
       "      <th>loan</th>\n",
       "      <th>contact</th>\n",
       "      <th>day</th>\n",
       "      <th>month</th>\n",
       "      <th>duration</th>\n",
       "      <th>campaign</th>\n",
       "      <th>pdays</th>\n",
       "      <th>previous</th>\n",
       "      <th>deposit</th>\n",
       "    </tr>\n",
       "  </thead>\n",
       "  <tbody>\n",
       "    <tr>\n",
       "      <th>0</th>\n",
       "      <td>59</td>\n",
       "      <td>admin.</td>\n",
       "      <td>married</td>\n",
       "      <td>secondary</td>\n",
       "      <td>2343</td>\n",
       "      <td>yes</td>\n",
       "      <td>no</td>\n",
       "      <td>unknown</td>\n",
       "      <td>5</td>\n",
       "      <td>may</td>\n",
       "      <td>1042</td>\n",
       "      <td>1</td>\n",
       "      <td>-1</td>\n",
       "      <td>0</td>\n",
       "      <td>yes</td>\n",
       "    </tr>\n",
       "    <tr>\n",
       "      <th>1</th>\n",
       "      <td>56</td>\n",
       "      <td>admin.</td>\n",
       "      <td>married</td>\n",
       "      <td>secondary</td>\n",
       "      <td>45</td>\n",
       "      <td>no</td>\n",
       "      <td>no</td>\n",
       "      <td>unknown</td>\n",
       "      <td>5</td>\n",
       "      <td>may</td>\n",
       "      <td>1467</td>\n",
       "      <td>1</td>\n",
       "      <td>-1</td>\n",
       "      <td>0</td>\n",
       "      <td>yes</td>\n",
       "    </tr>\n",
       "    <tr>\n",
       "      <th>2</th>\n",
       "      <td>41</td>\n",
       "      <td>technician</td>\n",
       "      <td>married</td>\n",
       "      <td>secondary</td>\n",
       "      <td>1270</td>\n",
       "      <td>yes</td>\n",
       "      <td>no</td>\n",
       "      <td>unknown</td>\n",
       "      <td>5</td>\n",
       "      <td>may</td>\n",
       "      <td>1389</td>\n",
       "      <td>1</td>\n",
       "      <td>-1</td>\n",
       "      <td>0</td>\n",
       "      <td>yes</td>\n",
       "    </tr>\n",
       "    <tr>\n",
       "      <th>3</th>\n",
       "      <td>55</td>\n",
       "      <td>services</td>\n",
       "      <td>married</td>\n",
       "      <td>secondary</td>\n",
       "      <td>2476</td>\n",
       "      <td>yes</td>\n",
       "      <td>no</td>\n",
       "      <td>unknown</td>\n",
       "      <td>5</td>\n",
       "      <td>may</td>\n",
       "      <td>579</td>\n",
       "      <td>1</td>\n",
       "      <td>-1</td>\n",
       "      <td>0</td>\n",
       "      <td>yes</td>\n",
       "    </tr>\n",
       "    <tr>\n",
       "      <th>4</th>\n",
       "      <td>54</td>\n",
       "      <td>admin.</td>\n",
       "      <td>married</td>\n",
       "      <td>tertiary</td>\n",
       "      <td>184</td>\n",
       "      <td>no</td>\n",
       "      <td>no</td>\n",
       "      <td>unknown</td>\n",
       "      <td>5</td>\n",
       "      <td>may</td>\n",
       "      <td>673</td>\n",
       "      <td>2</td>\n",
       "      <td>-1</td>\n",
       "      <td>0</td>\n",
       "      <td>yes</td>\n",
       "    </tr>\n",
       "  </tbody>\n",
       "</table>\n",
       "</div>"
      ],
      "text/plain": [
       "   age         job  marital  education  balance housing loan  contact  day  \\\n",
       "0   59      admin.  married  secondary     2343     yes   no  unknown    5   \n",
       "1   56      admin.  married  secondary       45      no   no  unknown    5   \n",
       "2   41  technician  married  secondary     1270     yes   no  unknown    5   \n",
       "3   55    services  married  secondary     2476     yes   no  unknown    5   \n",
       "4   54      admin.  married   tertiary      184      no   no  unknown    5   \n",
       "\n",
       "  month  duration  campaign  pdays  previous deposit  \n",
       "0   may      1042         1     -1         0     yes  \n",
       "1   may      1467         1     -1         0     yes  \n",
       "2   may      1389         1     -1         0     yes  \n",
       "3   may       579         1     -1         0     yes  \n",
       "4   may       673         2     -1         0     yes  "
      ]
     },
     "execution_count": 3,
     "metadata": {},
     "output_type": "execute_result"
    }
   ],
   "source": [
    "df.head(5)"
   ]
  },
  {
   "cell_type": "markdown",
   "id": "760a9bf9",
   "metadata": {},
   "source": [
    "- **Drop Un-necessary Columns**"
   ]
  },
  {
   "cell_type": "code",
   "execution_count": 4,
   "id": "6ee81198",
   "metadata": {},
   "outputs": [],
   "source": [
    "cols_to_drop = ['contact', 'day', 'month', 'duration', 'previous']\n",
    "df.drop(cols_to_drop, axis=1, inplace=True)"
   ]
  },
  {
   "cell_type": "markdown",
   "id": "ad2cba02",
   "metadata": {},
   "source": [
    "### 2- Check for Datatypes"
   ]
  },
  {
   "cell_type": "markdown",
   "id": "479339be",
   "metadata": {},
   "source": [
    "- **Display Datatypes**"
   ]
  },
  {
   "cell_type": "code",
   "execution_count": 5,
   "id": "7f409c70",
   "metadata": {
    "scrolled": true
   },
   "outputs": [
    {
     "data": {
      "text/html": [
       "<div>\n",
       "<style scoped>\n",
       "    .dataframe tbody tr th:only-of-type {\n",
       "        vertical-align: middle;\n",
       "    }\n",
       "\n",
       "    .dataframe tbody tr th {\n",
       "        vertical-align: top;\n",
       "    }\n",
       "\n",
       "    .dataframe thead th {\n",
       "        text-align: right;\n",
       "    }\n",
       "</style>\n",
       "<table border=\"1\" class=\"dataframe\">\n",
       "  <thead>\n",
       "    <tr style=\"text-align: right;\">\n",
       "      <th></th>\n",
       "      <th>age</th>\n",
       "      <th>job</th>\n",
       "      <th>marital</th>\n",
       "      <th>education</th>\n",
       "      <th>balance</th>\n",
       "      <th>housing</th>\n",
       "      <th>loan</th>\n",
       "      <th>campaign</th>\n",
       "      <th>pdays</th>\n",
       "      <th>deposit</th>\n",
       "    </tr>\n",
       "  </thead>\n",
       "  <tbody>\n",
       "    <tr>\n",
       "      <th>Dtypes</th>\n",
       "      <td>int64</td>\n",
       "      <td>object</td>\n",
       "      <td>object</td>\n",
       "      <td>object</td>\n",
       "      <td>int64</td>\n",
       "      <td>object</td>\n",
       "      <td>object</td>\n",
       "      <td>int64</td>\n",
       "      <td>int64</td>\n",
       "      <td>object</td>\n",
       "    </tr>\n",
       "    <tr>\n",
       "      <th>Num_Uniqe</th>\n",
       "      <td>76</td>\n",
       "      <td>12</td>\n",
       "      <td>3</td>\n",
       "      <td>4</td>\n",
       "      <td>3805</td>\n",
       "      <td>2</td>\n",
       "      <td>2</td>\n",
       "      <td>36</td>\n",
       "      <td>472</td>\n",
       "      <td>2</td>\n",
       "    </tr>\n",
       "  </tbody>\n",
       "</table>\n",
       "</div>"
      ],
      "text/plain": [
       "             age     job marital education balance housing    loan campaign  \\\n",
       "Dtypes     int64  object  object    object   int64  object  object    int64   \n",
       "Num_Uniqe     76      12       3         4    3805       2       2       36   \n",
       "\n",
       "           pdays deposit  \n",
       "Dtypes     int64  object  \n",
       "Num_Uniqe    472       2  "
      ]
     },
     "execution_count": 5,
     "metadata": {},
     "output_type": "execute_result"
    }
   ],
   "source": [
    "dtypes = df.dtypes\n",
    "n_uniq = df.nunique()\n",
    "pd.DataFrame({\"Dtypes\": dtypes, \"Num_Uniqe\": n_uniq}).T"
   ]
  },
  {
   "cell_type": "markdown",
   "id": "4da5dd11",
   "metadata": {},
   "source": [
    "- **Change In-correct Datatypes**"
   ]
  },
  {
   "cell_type": "code",
   "execution_count": 6,
   "id": "b2c13d2b",
   "metadata": {},
   "outputs": [],
   "source": [
    "cat_cols = ['job', 'marital', 'education', 'housing', 'loan', 'deposit']\n",
    "df[cat_cols] = df[cat_cols].astype('category')"
   ]
  },
  {
   "cell_type": "markdown",
   "id": "06b31970",
   "metadata": {},
   "source": [
    "- **Check dtypes after correction**"
   ]
  },
  {
   "cell_type": "code",
   "execution_count": 7,
   "id": "d7b21ec0",
   "metadata": {},
   "outputs": [
    {
     "data": {
      "text/html": [
       "<div>\n",
       "<style scoped>\n",
       "    .dataframe tbody tr th:only-of-type {\n",
       "        vertical-align: middle;\n",
       "    }\n",
       "\n",
       "    .dataframe tbody tr th {\n",
       "        vertical-align: top;\n",
       "    }\n",
       "\n",
       "    .dataframe thead th {\n",
       "        text-align: right;\n",
       "    }\n",
       "</style>\n",
       "<table border=\"1\" class=\"dataframe\">\n",
       "  <thead>\n",
       "    <tr style=\"text-align: right;\">\n",
       "      <th></th>\n",
       "      <th>age</th>\n",
       "      <th>job</th>\n",
       "      <th>marital</th>\n",
       "      <th>education</th>\n",
       "      <th>balance</th>\n",
       "      <th>housing</th>\n",
       "      <th>loan</th>\n",
       "      <th>campaign</th>\n",
       "      <th>pdays</th>\n",
       "      <th>deposit</th>\n",
       "    </tr>\n",
       "  </thead>\n",
       "  <tbody>\n",
       "    <tr>\n",
       "      <th>0</th>\n",
       "      <td>int64</td>\n",
       "      <td>category</td>\n",
       "      <td>category</td>\n",
       "      <td>category</td>\n",
       "      <td>int64</td>\n",
       "      <td>category</td>\n",
       "      <td>category</td>\n",
       "      <td>int64</td>\n",
       "      <td>int64</td>\n",
       "      <td>category</td>\n",
       "    </tr>\n",
       "  </tbody>\n",
       "</table>\n",
       "</div>"
      ],
      "text/plain": [
       "     age       job   marital education balance   housing      loan campaign  \\\n",
       "0  int64  category  category  category   int64  category  category    int64   \n",
       "\n",
       "   pdays   deposit  \n",
       "0  int64  category  "
      ]
     },
     "execution_count": 7,
     "metadata": {},
     "output_type": "execute_result"
    }
   ],
   "source": [
    "pd.DataFrame(df.dtypes).T"
   ]
  },
  {
   "cell_type": "markdown",
   "id": "7cab9200",
   "metadata": {},
   "source": [
    "### 3- Null Values"
   ]
  },
  {
   "cell_type": "markdown",
   "id": "a2b45168",
   "metadata": {},
   "source": [
    "- **Check for Null Values**"
   ]
  },
  {
   "cell_type": "code",
   "execution_count": 8,
   "id": "a65d3df1",
   "metadata": {
    "scrolled": true
   },
   "outputs": [
    {
     "data": {
      "text/html": [
       "<div>\n",
       "<style scoped>\n",
       "    .dataframe tbody tr th:only-of-type {\n",
       "        vertical-align: middle;\n",
       "    }\n",
       "\n",
       "    .dataframe tbody tr th {\n",
       "        vertical-align: top;\n",
       "    }\n",
       "\n",
       "    .dataframe thead th {\n",
       "        text-align: right;\n",
       "    }\n",
       "</style>\n",
       "<table border=\"1\" class=\"dataframe\">\n",
       "  <thead>\n",
       "    <tr style=\"text-align: right;\">\n",
       "      <th></th>\n",
       "      <th>age</th>\n",
       "      <th>job</th>\n",
       "      <th>marital</th>\n",
       "      <th>education</th>\n",
       "      <th>balance</th>\n",
       "      <th>housing</th>\n",
       "      <th>loan</th>\n",
       "      <th>campaign</th>\n",
       "      <th>pdays</th>\n",
       "      <th>deposit</th>\n",
       "    </tr>\n",
       "  </thead>\n",
       "  <tbody>\n",
       "    <tr>\n",
       "      <th>Null_sum</th>\n",
       "      <td>0.0</td>\n",
       "      <td>0.0</td>\n",
       "      <td>0.0</td>\n",
       "      <td>0.0</td>\n",
       "      <td>0.0</td>\n",
       "      <td>0.0</td>\n",
       "      <td>0.0</td>\n",
       "      <td>0.0</td>\n",
       "      <td>0.0</td>\n",
       "      <td>0.0</td>\n",
       "    </tr>\n",
       "    <tr>\n",
       "      <th>Ratio</th>\n",
       "      <td>0.0</td>\n",
       "      <td>0.0</td>\n",
       "      <td>0.0</td>\n",
       "      <td>0.0</td>\n",
       "      <td>0.0</td>\n",
       "      <td>0.0</td>\n",
       "      <td>0.0</td>\n",
       "      <td>0.0</td>\n",
       "      <td>0.0</td>\n",
       "      <td>0.0</td>\n",
       "    </tr>\n",
       "  </tbody>\n",
       "</table>\n",
       "</div>"
      ],
      "text/plain": [
       "          age  job  marital  education  balance  housing  loan  campaign  \\\n",
       "Null_sum  0.0  0.0      0.0        0.0      0.0      0.0   0.0       0.0   \n",
       "Ratio     0.0  0.0      0.0        0.0      0.0      0.0   0.0       0.0   \n",
       "\n",
       "          pdays  deposit  \n",
       "Null_sum    0.0      0.0  \n",
       "Ratio       0.0      0.0  "
      ]
     },
     "execution_count": 8,
     "metadata": {},
     "output_type": "execute_result"
    }
   ],
   "source": [
    "null = df.isnull().sum()\n",
    "ratio = null / df.shape[0]\n",
    "pd.DataFrame({\"Null_sum\": null, \"Ratio\": ratio}).T"
   ]
  },
  {
   "cell_type": "markdown",
   "id": "4cbda0d6",
   "metadata": {},
   "source": [
    "### 4- Handle Outliers"
   ]
  },
  {
   "cell_type": "markdown",
   "id": "658c7fdb",
   "metadata": {},
   "source": [
    "- **Check for Outliers**"
   ]
  },
  {
   "cell_type": "code",
   "execution_count": 9,
   "id": "bb6e267f",
   "metadata": {
    "scrolled": false
   },
   "outputs": [
    {
     "data": {
      "image/png": "[encoded data removed]",
      "text/plain": [
       "<Figure size 800x300 with 4 Axes>"
      ]
     },
     "metadata": {},
     "output_type": "display_data"
    }
   ],
   "source": [
    "num_cols = df.select_dtypes(\"number\").columns\n",
    "plt.figure(figsize=(8, 3))\n",
    "for i, col in enumerate(num_cols):\n",
    "    plt.subplot(2, 2, i+1)\n",
    "    sns.boxplot(df[col], orient=\"h\")\n",
    "    plt.title(f\"{col} boxplot\")\n",
    "plt.subplots_adjust(hspace=.6, wspace=.5)\n",
    "plt.show()"
   ]
  },
  {
   "cell_type": "markdown",
   "id": "58157303",
   "metadata": {},
   "source": [
    "- **Remove Outliers**"
   ]
  },
  {
   "cell_type": "code",
   "execution_count": 10,
   "id": "0a8320e4",
   "metadata": {},
   "outputs": [],
   "source": [
    "for col in num_cols:\n",
    "    Q1 = df[col].quantile(.25)\n",
    "    Q3 = df[col].quantile(.75)\n",
    "    IQR = Q3 - Q1\n",
    "    Lower_Fence = Q1 - 1.5 * IQR\n",
    "    Upper_Fence = Q3 + 1.5 * IQR\n",
    "    Lower_Outliers = df[df[col] < Lower_Fence][col].values\n",
    "    Upper_Outliers = df[df[col] > Upper_Fence][col].values\n",
    "    df[col].replace(Lower_Outliers, Lower_Fence, inplace=True)\n",
    "    df[col].replace(Upper_Outliers, Upper_Fence, inplace=True)"
   ]
  },
  {
   "cell_type": "markdown",
   "id": "1e7df385",
   "metadata": {},
   "source": [
    "- **Make Sure Outliers are removed**"
   ]
  },
  {
   "cell_type": "code",
   "execution_count": 11,
   "id": "283e1314",
   "metadata": {
    "scrolled": false
   },
   "outputs": [
    {
     "data": {
      "image/png": "[encoded data removed]",
      "text/plain": [
       "<Figure size 800x300 with 4 Axes>"
      ]
     },
     "metadata": {},
     "output_type": "display_data"
    }
   ],
   "source": [
    "num_cols = df.select_dtypes(\"number\").columns\n",
    "plt.figure(figsize=(8, 3))\n",
    "for i, col in enumerate(num_cols):\n",
    "    plt.subplot(2, 2, i+1)\n",
    "    sns.boxplot(df[col], orient=\"h\")\n",
    "    plt.title(f\"{col} boxplot\")\n",
    "plt.subplots_adjust(hspace=.6, wspace=.5)\n",
    "plt.show()"
   ]
  },
  {
   "cell_type": "markdown",
   "id": "9699c711",
   "metadata": {},
   "source": [
    "### 5- Visualization"
   ]
  },
  {
   "cell_type": "markdown",
   "id": "efe0c25b",
   "metadata": {},
   "source": [
    "- **Relationship between the numerical cols & the target**"
   ]
  },
  {
   "cell_type": "code",
   "execution_count": 12,
   "id": "6ebe5263",
   "metadata": {
    "scrolled": false
   },
   "outputs": [
    {
     "data": {
      "image/png": "[encoded data removed]",
      "text/plain": [
       "<Figure size 600x300 with 4 Axes>"
      ]
     },
     "metadata": {},
     "output_type": "display_data"
    }
   ],
   "source": [
    "num_cols = df.select_dtypes(\"number\").columns\n",
    "plt.figure(figsize=(6, 3))\n",
    "for i, col in enumerate(num_cols):\n",
    "    plt.subplot(2, 2, i+1)\n",
    "    sns.barplot(x=\"deposit\", y=col, data=df)\n",
    "    plt.xticks(rotation=90)\n",
    "plt.subplots_adjust(hspace=.8, wspace=.5)\n",
    "plt.show()"
   ]
  },
  {
   "cell_type": "markdown",
   "id": "0e6d55f3",
   "metadata": {},
   "source": [
    "- **Relationship between the categorical cols & the target**"
   ]
  },
  {
   "cell_type": "code",
   "execution_count": 13,
   "id": "f37a4364",
   "metadata": {
    "scrolled": false
   },
   "outputs": [
    {
     "data": {
      "text/html": [
       "<div>\n",
       "<style scoped>\n",
       "    .dataframe tbody tr th:only-of-type {\n",
       "        vertical-align: middle;\n",
       "    }\n",
       "\n",
       "    .dataframe tbody tr th {\n",
       "        vertical-align: top;\n",
       "    }\n",
       "\n",
       "    .dataframe thead th {\n",
       "        text-align: right;\n",
       "    }\n",
       "</style>\n",
       "<table border=\"1\" class=\"dataframe\">\n",
       "  <thead>\n",
       "    <tr style=\"text-align: right;\">\n",
       "      <th>job</th>\n",
       "      <th>admin.</th>\n",
       "      <th>blue-collar</th>\n",
       "      <th>entrepreneur</th>\n",
       "      <th>housemaid</th>\n",
       "      <th>management</th>\n",
       "      <th>retired</th>\n",
       "      <th>self-employed</th>\n",
       "      <th>services</th>\n",
       "      <th>student</th>\n",
       "      <th>technician</th>\n",
       "      <th>unemployed</th>\n",
       "      <th>unknown</th>\n",
       "    </tr>\n",
       "    <tr>\n",
       "      <th>deposit</th>\n",
       "      <th></th>\n",
       "      <th></th>\n",
       "      <th></th>\n",
       "      <th></th>\n",
       "      <th></th>\n",
       "      <th></th>\n",
       "      <th></th>\n",
       "      <th></th>\n",
       "      <th></th>\n",
       "      <th></th>\n",
       "      <th></th>\n",
       "      <th></th>\n",
       "    </tr>\n",
       "  </thead>\n",
       "  <tbody>\n",
       "    <tr>\n",
       "      <th>no</th>\n",
       "      <td>703</td>\n",
       "      <td>1236</td>\n",
       "      <td>205</td>\n",
       "      <td>165</td>\n",
       "      <td>1265</td>\n",
       "      <td>262</td>\n",
       "      <td>218</td>\n",
       "      <td>554</td>\n",
       "      <td>91</td>\n",
       "      <td>983</td>\n",
       "      <td>155</td>\n",
       "      <td>36</td>\n",
       "    </tr>\n",
       "    <tr>\n",
       "      <th>yes</th>\n",
       "      <td>631</td>\n",
       "      <td>708</td>\n",
       "      <td>123</td>\n",
       "      <td>109</td>\n",
       "      <td>1301</td>\n",
       "      <td>516</td>\n",
       "      <td>187</td>\n",
       "      <td>369</td>\n",
       "      <td>269</td>\n",
       "      <td>840</td>\n",
       "      <td>202</td>\n",
       "      <td>34</td>\n",
       "    </tr>\n",
       "  </tbody>\n",
       "</table>\n",
       "</div>"
      ],
      "text/plain": [
       "job      admin.  blue-collar  entrepreneur  housemaid  management  retired  \\\n",
       "deposit                                                                      \n",
       "no          703         1236           205        165        1265      262   \n",
       "yes         631          708           123        109        1301      516   \n",
       "\n",
       "job      self-employed  services  student  technician  unemployed  unknown  \n",
       "deposit                                                                     \n",
       "no                 218       554       91         983         155       36  \n",
       "yes                187       369      269         840         202       34  "
      ]
     },
     "metadata": {},
     "output_type": "display_data"
    },
    {
     "data": {
      "image/png": "[encoded data removed]",
      "text/plain": [
       "<Figure size 1000x500 with 2 Axes>"
      ]
     },
     "metadata": {},
     "output_type": "display_data"
    },
    {
     "name": "stdout",
     "output_type": "stream",
     "text": [
      "==================================================\n"
     ]
    },
    {
     "data": {
      "text/html": [
       "<div>\n",
       "<style scoped>\n",
       "    .dataframe tbody tr th:only-of-type {\n",
       "        vertical-align: middle;\n",
       "    }\n",
       "\n",
       "    .dataframe tbody tr th {\n",
       "        vertical-align: top;\n",
       "    }\n",
       "\n",
       "    .dataframe thead th {\n",
       "        text-align: right;\n",
       "    }\n",
       "</style>\n",
       "<table border=\"1\" class=\"dataframe\">\n",
       "  <thead>\n",
       "    <tr style=\"text-align: right;\">\n",
       "      <th>marital</th>\n",
       "      <th>divorced</th>\n",
       "      <th>married</th>\n",
       "      <th>single</th>\n",
       "    </tr>\n",
       "    <tr>\n",
       "      <th>deposit</th>\n",
       "      <th></th>\n",
       "      <th></th>\n",
       "      <th></th>\n",
       "    </tr>\n",
       "  </thead>\n",
       "  <tbody>\n",
       "    <tr>\n",
       "      <th>no</th>\n",
       "      <td>671</td>\n",
       "      <td>3596</td>\n",
       "      <td>1606</td>\n",
       "    </tr>\n",
       "    <tr>\n",
       "      <th>yes</th>\n",
       "      <td>622</td>\n",
       "      <td>2755</td>\n",
       "      <td>1912</td>\n",
       "    </tr>\n",
       "  </tbody>\n",
       "</table>\n",
       "</div>"
      ],
      "text/plain": [
       "marital  divorced  married  single\n",
       "deposit                           \n",
       "no            671     3596    1606\n",
       "yes           622     2755    1912"
      ]
     },
     "metadata": {},
     "output_type": "display_data"
    },
    {
     "data": {
      "image/png": "[encoded data removed]",
      "text/plain": [
       "<Figure size 1000x500 with 2 Axes>"
      ]
     },
     "metadata": {},
     "output_type": "display_data"
    },
    {
     "name": "stdout",
     "output_type": "stream",
     "text": [
      "==================================================\n"
     ]
    },
    {
     "data": {
      "text/html": [
       "<div>\n",
       "<style scoped>\n",
       "    .dataframe tbody tr th:only-of-type {\n",
       "        vertical-align: middle;\n",
       "    }\n",
       "\n",
       "    .dataframe tbody tr th {\n",
       "        vertical-align: top;\n",
       "    }\n",
       "\n",
       "    .dataframe thead th {\n",
       "        text-align: right;\n",
       "    }\n",
       "</style>\n",
       "<table border=\"1\" class=\"dataframe\">\n",
       "  <thead>\n",
       "    <tr style=\"text-align: right;\">\n",
       "      <th>education</th>\n",
       "      <th>primary</th>\n",
       "      <th>secondary</th>\n",
       "      <th>tertiary</th>\n",
       "      <th>unknown</th>\n",
       "    </tr>\n",
       "    <tr>\n",
       "      <th>deposit</th>\n",
       "      <th></th>\n",
       "      <th></th>\n",
       "      <th></th>\n",
       "      <th></th>\n",
       "    </tr>\n",
       "  </thead>\n",
       "  <tbody>\n",
       "    <tr>\n",
       "      <th>no</th>\n",
       "      <td>909</td>\n",
       "      <td>3026</td>\n",
       "      <td>1693</td>\n",
       "      <td>245</td>\n",
       "    </tr>\n",
       "    <tr>\n",
       "      <th>yes</th>\n",
       "      <td>591</td>\n",
       "      <td>2450</td>\n",
       "      <td>1996</td>\n",
       "      <td>252</td>\n",
       "    </tr>\n",
       "  </tbody>\n",
       "</table>\n",
       "</div>"
      ],
      "text/plain": [
       "education  primary  secondary  tertiary  unknown\n",
       "deposit                                         \n",
       "no             909       3026      1693      245\n",
       "yes            591       2450      1996      252"
      ]
     },
     "metadata": {},
     "output_type": "display_data"
    },
    {
     "data": {
      "image/png": "[encoded data removed]",
      "text/plain": [
       "<Figure size 1000x500 with 2 Axes>"
      ]
     },
     "metadata": {},
     "output_type": "display_data"
    },
    {
     "name": "stdout",
     "output_type": "stream",
     "text": [
      "==================================================\n"
     ]
    },
    {
     "data": {
      "text/html": [
       "<div>\n",
       "<style scoped>\n",
       "    .dataframe tbody tr th:only-of-type {\n",
       "        vertical-align: middle;\n",
       "    }\n",
       "\n",
       "    .dataframe tbody tr th {\n",
       "        vertical-align: top;\n",
       "    }\n",
       "\n",
       "    .dataframe thead th {\n",
       "        text-align: right;\n",
       "    }\n",
       "</style>\n",
       "<table border=\"1\" class=\"dataframe\">\n",
       "  <thead>\n",
       "    <tr style=\"text-align: right;\">\n",
       "      <th>housing</th>\n",
       "      <th>no</th>\n",
       "      <th>yes</th>\n",
       "    </tr>\n",
       "    <tr>\n",
       "      <th>deposit</th>\n",
       "      <th></th>\n",
       "      <th></th>\n",
       "    </tr>\n",
       "  </thead>\n",
       "  <tbody>\n",
       "    <tr>\n",
       "      <th>no</th>\n",
       "      <td>2527</td>\n",
       "      <td>3346</td>\n",
       "    </tr>\n",
       "    <tr>\n",
       "      <th>yes</th>\n",
       "      <td>3354</td>\n",
       "      <td>1935</td>\n",
       "    </tr>\n",
       "  </tbody>\n",
       "</table>\n",
       "</div>"
      ],
      "text/plain": [
       "housing    no   yes\n",
       "deposit            \n",
       "no       2527  3346\n",
       "yes      3354  1935"
      ]
     },
     "metadata": {},
     "output_type": "display_data"
    },
    {
     "data": {
      "image/png": "[encoded data removed]",
      "text/plain": [
       "<Figure size 1000x500 with 2 Axes>"
      ]
     },
     "metadata": {},
     "output_type": "display_data"
    },
    {
     "name": "stdout",
     "output_type": "stream",
     "text": [
      "==================================================\n"
     ]
    },
    {
     "data": {
      "text/html": [
       "<div>\n",
       "<style scoped>\n",
       "    .dataframe tbody tr th:only-of-type {\n",
       "        vertical-align: middle;\n",
       "    }\n",
       "\n",
       "    .dataframe tbody tr th {\n",
       "        vertical-align: top;\n",
       "    }\n",
       "\n",
       "    .dataframe thead th {\n",
       "        text-align: right;\n",
       "    }\n",
       "</style>\n",
       "<table border=\"1\" class=\"dataframe\">\n",
       "  <thead>\n",
       "    <tr style=\"text-align: right;\">\n",
       "      <th>loan</th>\n",
       "      <th>no</th>\n",
       "      <th>yes</th>\n",
       "    </tr>\n",
       "    <tr>\n",
       "      <th>deposit</th>\n",
       "      <th></th>\n",
       "      <th></th>\n",
       "    </tr>\n",
       "  </thead>\n",
       "  <tbody>\n",
       "    <tr>\n",
       "      <th>no</th>\n",
       "      <td>4897</td>\n",
       "      <td>976</td>\n",
       "    </tr>\n",
       "    <tr>\n",
       "      <th>yes</th>\n",
       "      <td>4805</td>\n",
       "      <td>484</td>\n",
       "    </tr>\n",
       "  </tbody>\n",
       "</table>\n",
       "</div>"
      ],
      "text/plain": [
       "loan       no  yes\n",
       "deposit           \n",
       "no       4897  976\n",
       "yes      4805  484"
      ]
     },
     "metadata": {},
     "output_type": "display_data"
    },
    {
     "data": {
      "text/plain": [
       "<Axes: xlabel='loan', ylabel='deposit'>"
      ]
     },
     "execution_count": 13,
     "metadata": {},
     "output_type": "execute_result"
    },
    {
     "data": {
      "image/png": "[encoded data removed]",
      "text/plain": [
       "<Figure size 640x480 with 2 Axes>"
      ]
     },
     "metadata": {},
     "output_type": "display_data"
    }
   ],
   "source": [
    "for col in cat_cols[:-2]:\n",
    "    agg = df.pivot_table(index = \"deposit\", columns=col, aggfunc=len, values=\"loan\")\n",
    "    plt.figure(figsize=(10, 5))\n",
    "    display(agg)\n",
    "    sns.heatmap(agg, annot=True)\n",
    "    plt.show()\n",
    "    print(\"=\"*50)\n",
    "\n",
    "agg = df.pivot_table(index = \"deposit\", columns=\"loan\", aggfunc=len, values=\"marital\")\n",
    "display(agg)\n",
    "sns.heatmap(agg, annot=True)"
   ]
  },
  {
   "cell_type": "markdown",
   "id": "c3e50413",
   "metadata": {},
   "source": [
    "### 6- Remove Duplicates "
   ]
  },
  {
   "cell_type": "markdown",
   "id": "86aeae94",
   "metadata": {},
   "source": [
    "- **Check for Duplicates**"
   ]
  },
  {
   "cell_type": "code",
   "execution_count": 14,
   "id": "9398a45c",
   "metadata": {},
   "outputs": [
    {
     "data": {
      "text/plain": [
       "194"
      ]
     },
     "execution_count": 14,
     "metadata": {},
     "output_type": "execute_result"
    }
   ],
   "source": [
    "df.duplicated().sum()"
   ]
  },
  {
   "cell_type": "markdown",
   "id": "45d0b73c",
   "metadata": {},
   "source": [
    "- **Remove Duplicates**"
   ]
  },
  {
   "cell_type": "code",
   "execution_count": 15,
   "id": "d1ef56ab",
   "metadata": {},
   "outputs": [],
   "source": [
    "df.drop_duplicates(inplace=True)"
   ]
  },
  {
   "cell_type": "markdown",
   "id": "1d99d466",
   "metadata": {},
   "source": [
    "- **Make Sure that Duplicates are Removed**"
   ]
  },
  {
   "cell_type": "code",
   "execution_count": 16,
   "id": "0b0736e5",
   "metadata": {},
   "outputs": [
    {
     "data": {
      "text/plain": [
       "0"
      ]
     },
     "execution_count": 16,
     "metadata": {},
     "output_type": "execute_result"
    }
   ],
   "source": [
    "df.duplicated().sum()"
   ]
  },
  {
   "cell_type": "markdown",
   "id": "cb5a807e",
   "metadata": {},
   "source": [
    "### 7- Data Splitting"
   ]
  },
  {
   "cell_type": "code",
   "execution_count": 17,
   "id": "ad2e0ac2",
   "metadata": {},
   "outputs": [],
   "source": [
    "X = df.drop(\"deposit\", axis=1)\n",
    "y = df[[\"deposit\"]]"
   ]
  },
  {
   "cell_type": "markdown",
   "id": "c410252c",
   "metadata": {},
   "source": [
    "### 8- Normalization"
   ]
  },
  {
   "cell_type": "code",
   "execution_count": 18,
   "id": "ec589f54",
   "metadata": {},
   "outputs": [],
   "source": [
    "from sklearn.preprocessing import MinMaxScaler\n",
    "num_cols = X.select_dtypes(\"number\").columns\n",
    "scaler = MinMaxScaler()\n",
    "scaler.fit(X[num_cols])\n",
    "X[num_cols] = scaler.transform(X[num_cols])"
   ]
  },
  {
   "cell_type": "markdown",
   "id": "ddde2f94",
   "metadata": {},
   "source": [
    "### 9- Encoding"
   ]
  },
  {
   "cell_type": "code",
   "execution_count": 19,
   "id": "613d1a71",
   "metadata": {
    "scrolled": true
   },
   "outputs": [
    {
     "data": {
      "text/html": [
       "<div>\n",
       "<style scoped>\n",
       "    .dataframe tbody tr th:only-of-type {\n",
       "        vertical-align: middle;\n",
       "    }\n",
       "\n",
       "    .dataframe tbody tr th {\n",
       "        vertical-align: top;\n",
       "    }\n",
       "\n",
       "    .dataframe thead th {\n",
       "        text-align: right;\n",
       "    }\n",
       "</style>\n",
       "<table border=\"1\" class=\"dataframe\">\n",
       "  <thead>\n",
       "    <tr style=\"text-align: right;\">\n",
       "      <th></th>\n",
       "      <th>job</th>\n",
       "      <th>marital</th>\n",
       "      <th>education</th>\n",
       "      <th>housing</th>\n",
       "      <th>loan</th>\n",
       "    </tr>\n",
       "  </thead>\n",
       "  <tbody>\n",
       "    <tr>\n",
       "      <th>0</th>\n",
       "      <td>12</td>\n",
       "      <td>3</td>\n",
       "      <td>4</td>\n",
       "      <td>2</td>\n",
       "      <td>2</td>\n",
       "    </tr>\n",
       "  </tbody>\n",
       "</table>\n",
       "</div>"
      ],
      "text/plain": [
       "   job  marital  education  housing  loan\n",
       "0   12        3          4        2     2"
      ]
     },
     "execution_count": 19,
     "metadata": {},
     "output_type": "execute_result"
    }
   ],
   "source": [
    "string_cols = ['job', 'marital', 'education', 'housing', 'loan']\n",
    "pd.DataFrame(df[string_cols].nunique()).T"
   ]
  },
  {
   "cell_type": "code",
   "execution_count": 20,
   "id": "5305ef05",
   "metadata": {},
   "outputs": [],
   "source": [
    "ordinal_cols = ['education', 'marital', 'housing', 'loan']\n",
    "binary_cols = ['job']"
   ]
  },
  {
   "cell_type": "markdown",
   "id": "4d94c1a8",
   "metadata": {},
   "source": [
    "- **Ordinal Encoding**"
   ]
  },
  {
   "cell_type": "code",
   "execution_count": 21,
   "id": "172f455d",
   "metadata": {},
   "outputs": [],
   "source": [
    "labels = {\n",
    "          'education': {'unknown': 0, 'primary': 1, 'tertiary': 2, 'secondary':3},\n",
    "          'marital': {'single': 0, 'divorced': 1, 'married': 2},\n",
    "          'housing': {'no': 0, 'yes': 1},\n",
    "          'loan': {'no': 0, 'yes': 1}\n",
    "         }"
   ]
  },
  {
   "cell_type": "code",
   "execution_count": 22,
   "id": "ad2d6ca2",
   "metadata": {},
   "outputs": [],
   "source": [
    "for col in ordinal_cols:\n",
    "    X[col] = X[col].map(labels[col])"
   ]
  },
  {
   "cell_type": "markdown",
   "id": "5af74342",
   "metadata": {},
   "source": [
    "- **Binary Encoding**"
   ]
  },
  {
   "cell_type": "code",
   "execution_count": 23,
   "id": "be6a197d",
   "metadata": {},
   "outputs": [],
   "source": [
    "from category_encoders import BinaryEncoder\n",
    "binary_encoder = BinaryEncoder(cols=binary_cols)\n",
    "X = binary_encoder.fit_transform(X)"
   ]
  },
  {
   "cell_type": "markdown",
   "id": "b9f41dc4",
   "metadata": {},
   "source": [
    "- **Label Encoding**\n",
    "    - is the same as Ordinal Encoding but special to the target column"
   ]
  },
  {
   "cell_type": "code",
   "execution_count": 27,
   "id": "f11ca31b",
   "metadata": {},
   "outputs": [],
   "source": [
    "from sklearn.preprocessing import LabelEncoder\n",
    "label_encoder = LabelEncoder()\n",
    "y[\"deposit\"] = label_encoder.fit_transform(y[\"deposit\"])"
   ]
  },
  {
   "cell_type": "code",
   "execution_count": null,
   "id": "9c5b5a76",
   "metadata": {},
   "outputs": [],
   "source": []
  }
 ],
 "metadata": {
  "kernelspec": {
   "display_name": "Python 3 (ipykernel)",
   "language": "python",
   "name": "python3"
  },
  "language_info": {
   "codemirror_mode": {
    "name": "ipython",
    "version": 3
   },
   "file_extension": ".py",
   "mimetype": "text/x-python",
   "name": "python",
   "nbconvert_exporter": "python",
   "pygments_lexer": "ipython3",
   "version": "3.10.9"
  }
 },
 "nbformat": 4,
 "nbformat_minor": 5
}
