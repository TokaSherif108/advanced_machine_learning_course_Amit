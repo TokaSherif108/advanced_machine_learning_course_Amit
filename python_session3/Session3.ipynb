{
 "cells": [
  {
   "cell_type": "markdown",
   "metadata": {
    "id": "G6KtbdtZ7XAt"
   },
   "source": [
    "# Strings Cont"
   ]
  },
  {
   "cell_type": "markdown",
   "metadata": {
    "id": "NMFLI5yd7ldr"
   },
   "source": [
    "**Membership**\n",
    "\n",
    "Returns true if a character exists in the given string"
   ]
  },
  {
   "cell_type": "code",
   "execution_count": null,
   "metadata": {
    "colab": {
     "base_uri": "https://localhost:8080/"
    },
    "id": "cnbGtDxM7aM9",
    "outputId": "c22664ad-6e36-4ba0-e4d9-368b27661804"
   },
   "outputs": [
    {
     "data": {
      "text/plain": [
       "True"
      ]
     },
     "execution_count": 186,
     "metadata": {},
     "output_type": "execute_result"
    }
   ],
   "source": [
    "\"X\" in \"Xavier\""
   ]
  },
  {
   "cell_type": "code",
   "execution_count": null,
   "metadata": {
    "colab": {
     "base_uri": "https://localhost:8080/"
    },
    "id": "6MDT4LJc731i",
    "outputId": "5b7a786a-c918-4f4e-bf97-9ccf7ba886ac"
   },
   "outputs": [
    {
     "data": {
      "text/plain": [
       "False"
      ]
     },
     "execution_count": 187,
     "metadata": {},
     "output_type": "execute_result"
    }
   ],
   "source": [
    "\"z\" in \"Xavier\""
   ]
  },
  {
   "cell_type": "code",
   "execution_count": null,
   "metadata": {
    "colab": {
     "base_uri": "https://localhost:8080/"
    },
    "id": "eCwBWAL3ANc_",
    "outputId": "63961d76-45cb-4a02-91bb-618edd79ea9d"
   },
   "outputs": [
    {
     "data": {
      "text/plain": [
       "True"
      ]
     },
     "execution_count": 188,
     "metadata": {},
     "output_type": "execute_result"
    }
   ],
   "source": [
    "\"z\" not in \"Xavier\""
   ]
  },
  {
   "cell_type": "markdown",
   "metadata": {
    "id": "HkRDEkW08KG2"
   },
   "source": [
    "**String Operations**"
   ]
  },
  {
   "cell_type": "code",
   "execution_count": null,
   "metadata": {
    "colab": {
     "base_uri": "https://localhost:8080/",
     "height": 36
    },
    "id": "YjuaFrnV8fti",
    "outputId": "27d4fd26-0d5f-421a-c57f-c682c9445e5f"
   },
   "outputs": [
    {
     "data": {
      "application/vnd.google.colaboratory.intrinsic+json": {
       "type": "string"
      },
      "text/plain": [
       "'ALI'"
      ]
     },
     "execution_count": 5,
     "metadata": {},
     "output_type": "execute_result"
    }
   ],
   "source": [
    "# convert string to capitalized string\n",
    "s = \"ali\"\n",
    "s.upper()"
   ]
  },
  {
   "cell_type": "code",
   "execution_count": null,
   "metadata": {
    "colab": {
     "base_uri": "https://localhost:8080/",
     "height": 36
    },
    "id": "PgsYad4l8yaS",
    "outputId": "70007315-6236-4c18-9284-c6805e5dcbe1"
   },
   "outputs": [
    {
     "data": {
      "application/vnd.google.colaboratory.intrinsic+json": {
       "type": "string"
      },
      "text/plain": [
       "'ali'"
      ]
     },
     "execution_count": 6,
     "metadata": {},
     "output_type": "execute_result"
    }
   ],
   "source": [
    "# convert string to a string in lowercase\n",
    "s = \"ALI\"\n",
    "s.lower()"
   ]
  },
  {
   "cell_type": "code",
   "execution_count": null,
   "metadata": {
    "colab": {
     "base_uri": "https://localhost:8080/"
    },
    "id": "COMGmcmN9Edp",
    "outputId": "5b081302-6b07-4d96-cc3e-a7f56439b717"
   },
   "outputs": [
    {
     "data": {
      "text/plain": [
       "11"
      ]
     },
     "execution_count": 8,
     "metadata": {},
     "output_type": "execute_result"
    }
   ],
   "source": [
    "# search for a string within our string and return the index of the first character\n",
    "s = \"Welcome to Amit\"\n",
    "s.find(\"Amit\")"
   ]
  },
  {
   "cell_type": "code",
   "execution_count": null,
   "metadata": {
    "colab": {
     "base_uri": "https://localhost:8080/",
     "height": 36
    },
    "id": "XbKSXgg59FBE",
    "outputId": "679e6932-1564-4c83-a515-663dbe185935"
   },
   "outputs": [
    {
     "data": {
      "application/vnd.google.colaboratory.intrinsic+json": {
       "type": "string"
      },
      "text/plain": [
       "'Amit'"
      ]
     },
     "execution_count": 31,
     "metadata": {},
     "output_type": "execute_result"
    }
   ],
   "source": [
    "# remove white spaces from the beginning and end of the string\n",
    "s = \"      Amit      \"\n",
    "s.strip()"
   ]
  },
  {
   "cell_type": "markdown",
   "metadata": {
    "id": "0GEitXsYEoS-"
   },
   "source": [
    "**Text Formating**"
   ]
  },
  {
   "cell_type": "code",
   "execution_count": null,
   "metadata": {
    "id": "YdE-8dH3EvRX"
   },
   "outputs": [],
   "source": [
    "# The first way\n",
    "name = \"Ali\"\n",
    "age = 40\n",
    "salary = 15000"
   ]
  },
  {
   "cell_type": "code",
   "execution_count": null,
   "metadata": {
    "colab": {
     "base_uri": "https://localhost:8080/"
    },
    "id": "-tHK3L9XFiJ-",
    "outputId": "38c5277f-8c3f-4c23-8b0a-2d31e29f47b4"
   },
   "outputs": [
    {
     "name": "stdout",
     "output_type": "stream",
     "text": [
      "my name is Ali and may age is 40\n"
     ]
    }
   ],
   "source": [
    "s = \"my name is {} and my age is {}\".format(name, age)\n",
    "print(s)"
   ]
  },
  {
   "cell_type": "code",
   "execution_count": null,
   "metadata": {
    "colab": {
     "base_uri": "https://localhost:8080/"
    },
    "id": "9WJqhcX5FHin",
    "outputId": "fc5b4e53-1295-4bb9-e537-13f9464a8e14"
   },
   "outputs": [
    {
     "name": "stdout",
     "output_type": "stream",
     "text": [
      "my name is Ali and may age is 40\n"
     ]
    }
   ],
   "source": [
    "s = \"my name is {} and my age is {}\".format(name, age, salary)\n",
    "print(s)"
   ]
  },
  {
   "cell_type": "code",
   "execution_count": null,
   "metadata": {
    "colab": {
     "base_uri": "https://localhost:8080/"
    },
    "id": "P3nFm8ApFvco",
    "outputId": "83908a5f-9ad7-418f-f2c6-7563d2859f43"
   },
   "outputs": [
    {
     "name": "stdout",
     "output_type": "stream",
     "text": [
      "my name is Ali, may age is 40, and my salary is 15000\n"
     ]
    }
   ],
   "source": [
    "s = \"my name is {}, my age is {}, and my salary is {}\".format(name, age, salary)\n",
    "print(s)"
   ]
  },
  {
   "cell_type": "code",
   "execution_count": null,
   "metadata": {
    "colab": {
     "base_uri": "https://localhost:8080/"
    },
    "id": "Qb7Ti5bmFlGG",
    "outputId": "9737f15d-9dc8-469d-ac8e-ed022a5790d5"
   },
   "outputs": [
    {
     "name": "stdout",
     "output_type": "stream",
     "text": [
      "my name is Ali, my age is 40, and my salary is 15000\n"
     ]
    }
   ],
   "source": [
    "s = \"my name is {0}, my age is {1}, and my salary is {2}\".format(name, age, salary)\n",
    "print(s)"
   ]
  },
  {
   "cell_type": "code",
   "execution_count": null,
   "metadata": {
    "colab": {
     "base_uri": "https://localhost:8080/"
    },
    "id": "fIzGBOS4GF52",
    "outputId": "1d2cbe01-ca9b-4a20-f946-c387e9dfa12d"
   },
   "outputs": [
    {
     "name": "stdout",
     "output_type": "stream",
     "text": [
      "my name is 40, my age is 15000, and my salary is Ali\n"
     ]
    }
   ],
   "source": [
    "s = \"my name is {1}, my age is {2}, and my salary is {0}\".format(name, age, salary)\n",
    "print(s)"
   ]
  },
  {
   "cell_type": "markdown",
   "metadata": {
    "id": "aN5l2gAYBDyK"
   },
   "source": [
    "**Scape characters**"
   ]
  },
  {
   "cell_type": "code",
   "execution_count": null,
   "metadata": {
    "colab": {
     "base_uri": "https://localhost:8080/"
    },
    "id": "uxD7zXO2Cgbu",
    "outputId": "2c6acb92-bdb3-4de0-d382-8e69b079ee4f"
   },
   "outputs": [
    {
     "name": "stdout",
     "output_type": "stream",
     "text": [
      "Amit\t\n"
     ]
    }
   ],
   "source": [
    "print(\"Amit\\t\")"
   ]
  },
  {
   "cell_type": "code",
   "execution_count": null,
   "metadata": {
    "colab": {
     "base_uri": "https://localhost:8080/"
    },
    "id": "joSUrBNqCgby",
    "outputId": "4136f56f-94d5-4653-ee8e-2a931b5dc34b"
   },
   "outputs": [
    {
     "name": "stdout",
     "output_type": "stream",
     "text": [
      "Amit\n",
      "\n"
     ]
    }
   ],
   "source": [
    "print(\"Amit\\n\")"
   ]
  },
  {
   "cell_type": "code",
   "execution_count": null,
   "metadata": {
    "colab": {
     "base_uri": "https://localhost:8080/"
    },
    "id": "79dLPUIwCqP3",
    "outputId": "5d4ca9c7-e0bc-4b0a-dc25-352022303b1a"
   },
   "outputs": [
    {
     "name": "stdout",
     "output_type": "stream",
     "text": [
      "Amit\b\n"
     ]
    }
   ],
   "source": [
    "print(\"Amit\\b\")"
   ]
  },
  {
   "cell_type": "code",
   "execution_count": null,
   "metadata": {
    "colab": {
     "base_uri": "https://localhost:8080/"
    },
    "id": "PVFUlwCZCgb0",
    "outputId": "32416f54-ed87-4b4a-853c-dd2ffdeb67e0"
   },
   "outputs": [
    {
     "name": "stdout",
     "output_type": "stream",
     "text": [
      "\"Amit\"\n"
     ]
    }
   ],
   "source": [
    "print(\"\\\"Amit\\\"\")"
   ]
  },
  {
   "cell_type": "code",
   "execution_count": null,
   "metadata": {
    "colab": {
     "base_uri": "https://localhost:8080/"
    },
    "id": "0ElfhKZgCNMg",
    "outputId": "bb94426d-1229-4672-d69c-661c23129da5"
   },
   "outputs": [
    {
     "name": "stdout",
     "output_type": "stream",
     "text": [
      "'Amit'\n"
     ]
    }
   ],
   "source": [
    "print('\\'Amit\\'')"
   ]
  },
  {
   "cell_type": "code",
   "execution_count": null,
   "metadata": {
    "colab": {
     "base_uri": "https://localhost:8080/"
    },
    "id": "_CH0KYaNCeBg",
    "outputId": "15ae035f-d871-4d40-8a1b-fcaef046b3e6"
   },
   "outputs": [
    {
     "name": "stdout",
     "output_type": "stream",
     "text": [
      "Amit\\\n"
     ]
    }
   ],
   "source": [
    "print(\"Amit\\\\\")"
   ]
  },
  {
   "cell_type": "markdown",
   "metadata": {
    "id": "WJoL-k4sDejO"
   },
   "source": [
    "**Stop Scape characters**"
   ]
  },
  {
   "cell_type": "code",
   "execution_count": null,
   "metadata": {
    "colab": {
     "base_uri": "https://localhost:8080/"
    },
    "id": "C2NHRm3PBN0b",
    "outputId": "c7f094a5-59fe-4839-df43-3ea90dd1ede9"
   },
   "outputs": [
    {
     "name": "stdout",
     "output_type": "stream",
     "text": [
      "Amit\\t\n"
     ]
    }
   ],
   "source": [
    "print(\"Amit\\\\t\")"
   ]
  },
  {
   "cell_type": "code",
   "execution_count": null,
   "metadata": {
    "colab": {
     "base_uri": "https://localhost:8080/"
    },
    "id": "hIiRLOOCBFwo",
    "outputId": "f61ce2b4-e5d6-4c4a-86e9-09234444e966"
   },
   "outputs": [
    {
     "name": "stdout",
     "output_type": "stream",
     "text": [
      "ahmed\\n\n"
     ]
    }
   ],
   "source": [
    "print(\"Amit\\\\n\")"
   ]
  },
  {
   "cell_type": "code",
   "execution_count": null,
   "metadata": {
    "colab": {
     "base_uri": "https://localhost:8080/"
    },
    "id": "OGUmzezrBYNS",
    "outputId": "dfff4289-88dc-4ab2-80ec-bbd03a844820"
   },
   "outputs": [
    {
     "name": "stdout",
     "output_type": "stream",
     "text": [
      "Amit\"\n"
     ]
    }
   ],
   "source": [
    "print(\"Amit\\\"\")"
   ]
  },
  {
   "cell_type": "markdown",
   "metadata": {
    "id": "2IV0ALOQIP9D"
   },
   "source": [
    "# Operators\n",
    "1. Arithmetic Operators\n",
    "\n",
    "2. Assignment Operators\n",
    "\n",
    "3. Comparison Operators\n",
    "\n",
    "4. Logical Operators\n",
    "\n",
    "5. Bitwise Operators\n"
   ]
  },
  {
   "cell_type": "markdown",
   "metadata": {
    "id": "ehuyxSo3LUtY"
   },
   "source": [
    "## 1. Arithmatic Opeartors"
   ]
  },
  {
   "cell_type": "code",
   "execution_count": null,
   "metadata": {
    "id": "yzf8WWlILKDx"
   },
   "outputs": [],
   "source": [
    "print(5 + 5)\n",
    "print(5 - 5)\n",
    "print(5 * 5)\n",
    "print(5 / 5)\n",
    "print(5 // 5)\n",
    "print(5 % 5)\n",
    "print(5 ** 5)"
   ]
  },
  {
   "cell_type": "markdown",
   "metadata": {
    "id": "NfCe8HIHLeyr"
   },
   "source": [
    "## 2. Assignment Operators"
   ]
  },
  {
   "cell_type": "code",
   "execution_count": null,
   "metadata": {
    "colab": {
     "base_uri": "https://localhost:8080/"
    },
    "id": "l-7mzyyaIUkm",
    "outputId": "806e38e6-ec18-4ee2-c055-7707c3b3ba55"
   },
   "outputs": [
    {
     "name": "stdout",
     "output_type": "stream",
     "text": [
      "5\n"
     ]
    }
   ],
   "source": [
    "a = 5\n",
    "print(a)\n",
    "# print(id(a))"
   ]
  },
  {
   "cell_type": "code",
   "execution_count": null,
   "metadata": {
    "colab": {
     "base_uri": "https://localhost:8080/"
    },
    "id": "i3tLstdc086u",
    "outputId": "81582151-3ada-4a8c-9192-61fde0085d8d"
   },
   "outputs": [
    {
     "name": "stdout",
     "output_type": "stream",
     "text": [
      "10\n"
     ]
    }
   ],
   "source": [
    "a += 5\n",
    "print(a)\n",
    "# print(id(a))"
   ]
  },
  {
   "cell_type": "code",
   "execution_count": null,
   "metadata": {
    "colab": {
     "base_uri": "https://localhost:8080/"
    },
    "id": "ii-r25jL0-3c",
    "outputId": "e1f893b1-63d1-4e0a-93f9-78042029e3d6"
   },
   "outputs": [
    {
     "name": "stdout",
     "output_type": "stream",
     "text": [
      "40\n"
     ]
    }
   ],
   "source": [
    "a *= 2\n",
    "print(a)\n",
    "# print(id(a))"
   ]
  },
  {
   "cell_type": "markdown",
   "metadata": {
    "id": "vH7W3aYgLb_P"
   },
   "source": [
    "## 3. Comparison Operators:"
   ]
  },
  {
   "cell_type": "markdown",
   "metadata": {
    "id": "GbcCAZkXkxUR"
   },
   "source": [
    "**Basic Comparison**"
   ]
  },
  {
   "cell_type": "code",
   "execution_count": null,
   "metadata": {
    "colab": {
     "base_uri": "https://localhost:8080/"
    },
    "id": "H07V1pvJLjoM",
    "outputId": "f5c61677-2ddd-468a-df84-526699f509c0"
   },
   "outputs": [
    {
     "name": "stdout",
     "output_type": "stream",
     "text": [
      "True\n",
      "False\n",
      "True\n",
      "False\n",
      "True\n",
      "False\n"
     ]
    }
   ],
   "source": [
    "print(5 == 5)\n",
    "print(5 != 5)\n",
    "print(5 > 4)\n",
    "print(5 < 4)\n",
    "print(5 <= 5)\n",
    "print(5 >= 8)"
   ]
  },
  {
   "cell_type": "markdown",
   "metadata": {
    "id": "cipM3FVWsaC1"
   },
   "source": [
    "**Chained Comparison Operators**"
   ]
  },
  {
   "cell_type": "code",
   "execution_count": null,
   "metadata": {
    "colab": {
     "base_uri": "https://localhost:8080/"
    },
    "id": "Iqz9O3PkGpCs",
    "outputId": "f297b458-7e69-4211-c964-63237ee76ffd"
   },
   "outputs": [
    {
     "data": {
      "text/plain": [
       "True"
      ]
     },
     "execution_count": 142,
     "metadata": {},
     "output_type": "execute_result"
    }
   ],
   "source": [
    "1 < 3 > 2"
   ]
  },
  {
   "cell_type": "code",
   "execution_count": null,
   "metadata": {
    "colab": {
     "base_uri": "https://localhost:8080/"
    },
    "id": "hRIqZyZCGpCn",
    "outputId": "e201aef2-38b6-4fd2-c461-428d394a733d"
   },
   "outputs": [
    {
     "data": {
      "text/plain": [
       "False"
      ]
     },
     "execution_count": 143,
     "metadata": {},
     "output_type": "execute_result"
    }
   ],
   "source": [
    "1 < 2 > 3"
   ]
  },
  {
   "cell_type": "code",
   "execution_count": null,
   "metadata": {
    "colab": {
     "base_uri": "https://localhost:8080/"
    },
    "id": "sAUVTqj9GpCr",
    "outputId": "06787417-5288-41cf-d14e-1ded189d3845"
   },
   "outputs": [
    {
     "data": {
      "text/plain": [
       "True"
      ]
     },
     "execution_count": 144,
     "metadata": {},
     "output_type": "execute_result"
    }
   ],
   "source": [
    "\"5.5\" == \"5.5\" in \"version 5.5\""
   ]
  },
  {
   "cell_type": "markdown",
   "metadata": {
    "id": "PuSZuvabk10R"
   },
   "source": [
    "**Identity Comparison (Check if two variabels are the same object)**\n",
    "\n",
    "return True if two objects are the same. In other words if they have the same id"
   ]
  },
  {
   "cell_type": "code",
   "execution_count": null,
   "metadata": {
    "colab": {
     "base_uri": "https://localhost:8080/"
    },
    "id": "eKRgQatThM9h",
    "outputId": "be7bf02b-6348-49b7-e067-4e003ceac07d"
   },
   "outputs": [
    {
     "data": {
      "text/plain": [
       "True"
      ]
     },
     "execution_count": 113,
     "metadata": {},
     "output_type": "execute_result"
    }
   ],
   "source": [
    "x = 5\n",
    "y = 5\n",
    "\n",
    "x is y"
   ]
  },
  {
   "cell_type": "code",
   "execution_count": null,
   "metadata": {
    "colab": {
     "base_uri": "https://localhost:8080/"
    },
    "id": "9VjAK-c1nanB",
    "outputId": "1553b8cc-a273-4e07-bc8b-de0827647725"
   },
   "outputs": [
    {
     "name": "stdout",
     "output_type": "stream",
     "text": [
      "139646916526448\n",
      "139646916526448\n"
     ]
    }
   ],
   "source": [
    "print(id(x))\n",
    "print(id(y))"
   ]
  },
  {
   "cell_type": "code",
   "execution_count": null,
   "metadata": {
    "colab": {
     "base_uri": "https://localhost:8080/"
    },
    "id": "FyxsSzasnmxe",
    "outputId": "7257f65e-94bb-4b3d-ecdf-5ba8e8e3ac71"
   },
   "outputs": [
    {
     "data": {
      "text/plain": [
       "True"
      ]
     },
     "execution_count": 177,
     "metadata": {},
     "output_type": "execute_result"
    }
   ],
   "source": [
    "x = \"Welcome\"\n",
    "y = \"Welcome\"\n",
    "\n",
    "x is y"
   ]
  },
  {
   "cell_type": "code",
   "execution_count": null,
   "metadata": {
    "colab": {
     "base_uri": "https://localhost:8080/"
    },
    "id": "28vjUQOD_VKn",
    "outputId": "76cb7502-3fc0-4d22-ec06-1cbaad8c3291"
   },
   "outputs": [
    {
     "data": {
      "text/plain": [
       "False"
      ]
     },
     "execution_count": 182,
     "metadata": {},
     "output_type": "execute_result"
    }
   ],
   "source": [
    "x = \"Welcome\"\n",
    "y = \"Welcome\"\n",
    "\n",
    "x is not y"
   ]
  },
  {
   "cell_type": "code",
   "execution_count": null,
   "metadata": {
    "colab": {
     "base_uri": "https://localhost:8080/"
    },
    "id": "aIIyp5jMnu2v",
    "outputId": "15883f98-10e5-4888-f28b-73660a34ca90"
   },
   "outputs": [
    {
     "name": "stdout",
     "output_type": "stream",
     "text": [
      "139645659668976\n",
      "139645818531952\n"
     ]
    }
   ],
   "source": [
    "print(id(x))\n",
    "print(id(y))"
   ]
  },
  {
   "cell_type": "code",
   "execution_count": null,
   "metadata": {
    "colab": {
     "base_uri": "https://localhost:8080/"
    },
    "id": "oQh8w0TeoOyf",
    "outputId": "f85a3543-ebaf-4e20-d750-579abbdb84e9"
   },
   "outputs": [
    {
     "data": {
      "text/plain": [
       "False"
      ]
     },
     "execution_count": 179,
     "metadata": {},
     "output_type": "execute_result"
    }
   ],
   "source": [
    "x = [1, 3]\n",
    "y = [1, 4]\n",
    "\n",
    "x is y"
   ]
  },
  {
   "cell_type": "code",
   "execution_count": null,
   "metadata": {
    "colab": {
     "base_uri": "https://localhost:8080/"
    },
    "id": "0B8GRLii_dSW",
    "outputId": "09f7feea-fde4-41a2-fae2-eae61727968a"
   },
   "outputs": [
    {
     "data": {
      "text/plain": [
       "True"
      ]
     },
     "execution_count": 178,
     "metadata": {},
     "output_type": "execute_result"
    }
   ],
   "source": [
    "x = [1, 3]\n",
    "y = [1, 4]\n",
    "\n",
    "x is not y"
   ]
  },
  {
   "cell_type": "code",
   "execution_count": null,
   "metadata": {
    "colab": {
     "base_uri": "https://localhost:8080/"
    },
    "id": "ijepaIpfoUqI",
    "outputId": "cff9d213-9a12-4cca-e64f-e8bb31ce489e"
   },
   "outputs": [
    {
     "name": "stdout",
     "output_type": "stream",
     "text": [
      "139645659662848\n",
      "139645659662848\n"
     ]
    }
   ],
   "source": [
    "print(id(x))\n",
    "print(id(y))"
   ]
  },
  {
   "cell_type": "markdown",
   "metadata": {
    "id": "strYeugILooz"
   },
   "source": [
    "## 4. Logical Operators"
   ]
  },
  {
   "cell_type": "code",
   "execution_count": null,
   "metadata": {
    "colab": {
     "base_uri": "https://localhost:8080/"
    },
    "id": "RPkY88sKLtAr",
    "outputId": "d338246f-2bb6-4595-c9c2-09eda630506f"
   },
   "outputs": [
    {
     "data": {
      "text/plain": [
       "False"
      ]
     },
     "execution_count": 128,
     "metadata": {},
     "output_type": "execute_result"
    }
   ],
   "source": [
    "4 < 5 and 5 > 6"
   ]
  },
  {
   "cell_type": "code",
   "execution_count": null,
   "metadata": {
    "colab": {
     "base_uri": "https://localhost:8080/"
    },
    "id": "cZVMTiVXqbTM",
    "outputId": "736fe8ca-b5cc-4461-eacd-fd15e6e277e5"
   },
   "outputs": [
    {
     "data": {
      "text/plain": [
       "True"
      ]
     },
     "execution_count": 139,
     "metadata": {},
     "output_type": "execute_result"
    }
   ],
   "source": [
    "1 == 0 or 1 == 1"
   ]
  },
  {
   "cell_type": "code",
   "execution_count": null,
   "metadata": {
    "colab": {
     "base_uri": "https://localhost:8080/"
    },
    "id": "xqJLFaWVryON",
    "outputId": "4537893c-ad6c-44d6-a89c-8cde2c3073c7"
   },
   "outputs": [
    {
     "data": {
      "text/plain": [
       "False"
      ]
     },
     "execution_count": 140,
     "metadata": {},
     "output_type": "execute_result"
    }
   ],
   "source": [
    "not 1 == 1"
   ]
  },
  {
   "cell_type": "markdown",
   "metadata": {
    "id": "Udqj3Z5sLtWr"
   },
   "source": [
    "## 5. Bitwise Operators"
   ]
  },
  {
   "cell_type": "markdown",
   "metadata": {
    "id": "C6XNO4dft_Bk"
   },
   "source": [
    "**Bitwise AND Operator &**"
   ]
  },
  {
   "cell_type": "code",
   "execution_count": null,
   "metadata": {
    "colab": {
     "base_uri": "https://localhost:8080/"
    },
    "id": "6Xjhd6mAt6cH",
    "outputId": "3b8580b9-d006-4deb-ab22-3245733710bf"
   },
   "outputs": [
    {
     "name": "stdout",
     "output_type": "stream",
     "text": [
      "8\n"
     ]
    }
   ],
   "source": [
    "a = 12    # binary: 1100\n",
    "b = 10    # binary: 1010\n",
    "result = a & b\n",
    "print(result)   # Output: 8 (binary: 1000)"
   ]
  },
  {
   "cell_type": "markdown",
   "metadata": {
    "id": "alYfOGF4uKmy"
   },
   "source": [
    "**Bitwise OR Operator |**"
   ]
  },
  {
   "cell_type": "code",
   "execution_count": null,
   "metadata": {
    "colab": {
     "base_uri": "https://localhost:8080/"
    },
    "id": "6XcZjFmzuKmy",
    "outputId": "75993f7f-f122-40a2-f9cc-fb23a10670ac"
   },
   "outputs": [
    {
     "name": "stdout",
     "output_type": "stream",
     "text": [
      "14\n"
     ]
    }
   ],
   "source": [
    "a = 12    # binary: 1100\n",
    "b = 10    # binary: 1010\n",
    "result = a | b\n",
    "print(result)   # Output: 8 (binary: 1110)"
   ]
  },
  {
   "cell_type": "markdown",
   "metadata": {
    "id": "EvcRI9v6xSGn"
   },
   "source": [
    "**Bitwise XOR Operator ^**"
   ]
  },
  {
   "cell_type": "code",
   "execution_count": null,
   "metadata": {
    "colab": {
     "base_uri": "https://localhost:8080/"
    },
    "id": "A1ZXpH2SxToN",
    "outputId": "dd66db84-8852-45b5-d16d-cc59f666c910"
   },
   "outputs": [
    {
     "name": "stdout",
     "output_type": "stream",
     "text": [
      "6\n"
     ]
    }
   ],
   "source": [
    "a = 12    # binary: 1100\n",
    "b = 10    # binary: 1010\n",
    "result = a ^ b\n",
    "print(result)   # Output: 8 (binary: 1110)"
   ]
  },
  {
   "cell_type": "code",
   "execution_count": null,
   "metadata": {
    "colab": {
     "base_uri": "https://localhost:8080/"
    },
    "id": "7y1qyRrBxiBz",
    "outputId": "ab8d4dcc-faf2-4d69-b649-215699961962"
   },
   "outputs": [
    {
     "data": {
      "text/plain": [
       "False"
      ]
     },
     "execution_count": 163,
     "metadata": {},
     "output_type": "execute_result"
    }
   ],
   "source": [
    "a = 12"
   ]
  },
  {
   "cell_type": "markdown",
   "metadata": {
    "id": "NH0lnsXkuaIC"
   },
   "source": [
    "**~ Operator**"
   ]
  },
  {
   "cell_type": "code",
   "execution_count": null,
   "metadata": {
    "colab": {
     "base_uri": "https://localhost:8080/"
    },
    "id": "RryYXhu8uJHU",
    "outputId": "ad9bd540-089a-44da-842e-dbd89060bd86"
   },
   "outputs": [
    {
     "name": "stdout",
     "output_type": "stream",
     "text": [
      "-13\n"
     ]
    }
   ],
   "source": [
    "a = 12    # binary: 1100\n",
    "result = ~a\n",
    "print(result)   # Output: 8 (binary: 1110)"
   ]
  },
  {
   "cell_type": "markdown",
   "metadata": {
    "id": "Hb5DqMvoqYnL"
   },
   "source": [
    "# Range"
   ]
  },
  {
   "cell_type": "markdown",
   "metadata": {
    "id": "R3FPn37CjmhU"
   },
   "source": [
    "**Define a range**"
   ]
  },
  {
   "cell_type": "code",
   "execution_count": null,
   "metadata": {
    "id": "abNrWGyjrVX1"
   },
   "outputs": [],
   "source": [
    "my_range = range(100)"
   ]
  },
  {
   "cell_type": "code",
   "execution_count": null,
   "metadata": {
    "id": "IyQkFTYYrsaL"
   },
   "outputs": [],
   "source": [
    "my_range = range(10, 100)"
   ]
  },
  {
   "cell_type": "code",
   "execution_count": null,
   "metadata": {
    "id": "n9VZEcrKj_4D"
   },
   "outputs": [],
   "source": [
    "my_range = range(0, 100, 10)"
   ]
  },
  {
   "cell_type": "markdown",
   "metadata": {
    "id": "SxIZrLFrj8jL"
   },
   "source": [
    "**Acess range items**"
   ]
  },
  {
   "cell_type": "code",
   "execution_count": null,
   "metadata": {
    "colab": {
     "base_uri": "https://localhost:8080/"
    },
    "id": "RzAaGtrNj-kB",
    "outputId": "6701f0a0-b908-4fec-c8b4-daa5cc0ddccc"
   },
   "outputs": [
    {
     "data": {
      "text/plain": [
       "30"
      ]
     },
     "execution_count": 14,
     "metadata": {},
     "output_type": "execute_result"
    }
   ],
   "source": [
    "my_range = range(0, 100, 10)\n",
    "\n",
    "my_range [3]"
   ]
  },
  {
   "cell_type": "markdown",
   "metadata": {
    "id": "zXU6jLhTrH1o"
   },
   "source": [
    "**Print range object**"
   ]
  },
  {
   "cell_type": "code",
   "execution_count": null,
   "metadata": {
    "colab": {
     "base_uri": "https://localhost:8080/"
    },
    "id": "YbQbAg-urOOM",
    "outputId": "85f9df25-7705-48de-bdd9-7196d8529e63"
   },
   "outputs": [
    {
     "name": "stdout",
     "output_type": "stream",
     "text": [
      "range(0, 100, 10)\n"
     ]
    }
   ],
   "source": [
    "# when we try to print it the normal way it just displays its definition\n",
    "print(my_range)"
   ]
  },
  {
   "cell_type": "code",
   "execution_count": null,
   "metadata": {
    "colab": {
     "base_uri": "https://localhost:8080/"
    },
    "id": "G12FXrZdkYvb",
    "outputId": "64ac05f4-05b1-4159-9c34-832bb5593a45"
   },
   "outputs": [
    {
     "name": "stdout",
     "output_type": "stream",
     "text": [
      "0 10 20 30 40 50 60 70 80 90 "
     ]
    }
   ],
   "source": [
    "# the first way: use for loops\n",
    "for i in my_range:\n",
    "  print(i, end=\" \")"
   ]
  },
  {
   "cell_type": "code",
   "execution_count": null,
   "metadata": {
    "colab": {
     "base_uri": "https://localhost:8080/"
    },
    "id": "quh1ZpI2rg1N",
    "outputId": "cd07f83d-08aa-4835-c0b5-3b6f54cd7da1"
   },
   "outputs": [
    {
     "name": "stdout",
     "output_type": "stream",
     "text": [
      "[0, 10, 20, 30, 40, 50, 60, 70, 80, 90]\n"
     ]
    }
   ],
   "source": [
    "# the second way: convert it into a list\n",
    "range_to_list = list(my_range)\n",
    "print(range_to_list)"
   ]
  },
  {
   "cell_type": "markdown",
   "metadata": {
    "id": "gLAxQnhni2_K"
   },
   "source": [
    "# Lists\n"
   ]
  },
  {
   "cell_type": "markdown",
   "metadata": {
    "id": "SvsnTpN21vx_"
   },
   "source": [
    "**Define a list**"
   ]
  },
  {
   "cell_type": "code",
   "execution_count": null,
   "metadata": {
    "colab": {
     "base_uri": "https://localhost:8080/"
    },
    "id": "W9VIrQ7Oi2_O",
    "outputId": "44ecf5aa-bf0f-4d08-fa0e-8e030b0a0b3c"
   },
   "outputs": [
    {
     "data": {
      "text/plain": [
       "[1, 2, 3]"
      ]
     },
     "execution_count": 289,
     "metadata": {},
     "output_type": "execute_result"
    }
   ],
   "source": [
    "# the first way to define a list\n",
    "my_list = [1, 2, 3]\n",
    "my_list"
   ]
  },
  {
   "cell_type": "code",
   "execution_count": null,
   "metadata": {
    "colab": {
     "base_uri": "https://localhost:8080/"
    },
    "id": "C6vb7K5V11kI",
    "outputId": "d6d51eb7-4dc9-4197-b672-c7f32c73cdba"
   },
   "outputs": [
    {
     "data": {
      "text/plain": [
       "[1, 2, 3]"
      ]
     },
     "execution_count": 290,
     "metadata": {},
     "output_type": "execute_result"
    }
   ],
   "source": [
    "# the second way to define a list\n",
    "my_list = list((1, 2, 3))\n",
    "my_list"
   ]
  },
  {
   "cell_type": "code",
   "execution_count": null,
   "metadata": {
    "colab": {
     "base_uri": "https://localhost:8080/"
    },
    "id": "RrVJLSP8i2_P",
    "outputId": "ef875066-56c1-4402-a07e-a444e2c918b9"
   },
   "outputs": [
    {
     "data": {
      "text/plain": [
       "list"
      ]
     },
     "execution_count": 291,
     "metadata": {},
     "output_type": "execute_result"
    }
   ],
   "source": [
    "type(my_list)"
   ]
  },
  {
   "cell_type": "markdown",
   "metadata": {
    "id": "u2XO3kRxt7Fn"
   },
   "source": [
    "**Get list length (Number of Items it contains)**"
   ]
  },
  {
   "cell_type": "code",
   "execution_count": null,
   "metadata": {
    "colab": {
     "base_uri": "https://localhost:8080/"
    },
    "id": "_sVGywDIi2_R",
    "outputId": "f38e57a2-6533-4938-c6e2-ddf30524c798"
   },
   "outputs": [
    {
     "data": {
      "text/plain": [
       "3"
      ]
     },
     "execution_count": 258,
     "metadata": {},
     "output_type": "execute_result"
    }
   ],
   "source": [
    "my_list = [1, 2, 3]\n",
    "len(my_list)"
   ]
  },
  {
   "cell_type": "markdown",
   "metadata": {
    "id": "II4FRCimuH0S"
   },
   "source": [
    "**A list can contain items of different type**"
   ]
  },
  {
   "cell_type": "code",
   "execution_count": null,
   "metadata": {
    "colab": {
     "base_uri": "https://localhost:8080/"
    },
    "id": "V_O8QhDJi2_R",
    "outputId": "8a80bc65-bc7a-4464-a861-56da8cad6fd3"
   },
   "outputs": [
    {
     "data": {
      "text/plain": [
       "['A string', 23, 5.2, None]"
      ]
     },
     "execution_count": 247,
     "metadata": {},
     "output_type": "execute_result"
    }
   ],
   "source": [
    "my_list = ['A string', 23, 5.2, None]\n",
    "my_list"
   ]
  },
  {
   "cell_type": "markdown",
   "metadata": {
    "id": "D2PLlV_g0pTg"
   },
   "source": [
    "**A list can contain items of any type (Numbers, Booleans, Lists, Tuples, Objects, etc)**"
   ]
  },
  {
   "cell_type": "code",
   "execution_count": null,
   "metadata": {
    "colab": {
     "base_uri": "https://localhost:8080/"
    },
    "id": "AQHlKauD0pBg",
    "outputId": "100fbb65-2765-4b4b-f367-cf2d0836f9d4"
   },
   "outputs": [
    {
     "data": {
      "text/plain": [
       "[1, 'Ali', [True, 1, 'Omar', None], [False, 'Amit'], 7]"
      ]
     },
     "execution_count": 249,
     "metadata": {},
     "output_type": "execute_result"
    }
   ],
   "source": [
    "lst = [True, 1, \"Omar\", None]\n",
    "x = 7\n",
    "\n",
    "my_list = [1, \"Ali\", lst, [False, \"Amit\"], 7]\n",
    "my_list"
   ]
  },
  {
   "cell_type": "markdown",
   "metadata": {
    "id": "P62uCrRni2_V"
   },
   "source": [
    "**Indexing**\n"
   ]
  },
  {
   "cell_type": "code",
   "execution_count": null,
   "metadata": {
    "id": "N9RzkHoXi2_V"
   },
   "outputs": [],
   "source": [
    "my_list = ['one', 'two', 'three', 4, 5]"
   ]
  },
  {
   "cell_type": "code",
   "execution_count": null,
   "metadata": {
    "colab": {
     "base_uri": "https://localhost:8080/",
     "height": 36
    },
    "id": "LnegBBmpi2_W",
    "outputId": "8fe696f2-af49-40eb-8e3e-22df614c3d9d"
   },
   "outputs": [
    {
     "data": {
      "application/vnd.google.colaboratory.intrinsic+json": {
       "type": "string"
      },
      "text/plain": [
       "'one'"
      ]
     },
     "execution_count": 236,
     "metadata": {},
     "output_type": "execute_result"
    }
   ],
   "source": [
    "my_list[0]"
   ]
  },
  {
   "cell_type": "code",
   "execution_count": null,
   "metadata": {
    "colab": {
     "base_uri": "https://localhost:8080/"
    },
    "id": "0BJudLWhi2_X",
    "outputId": "b419339d-9443-467c-90a6-49199b0662a7"
   },
   "outputs": [
    {
     "data": {
      "text/plain": [
       "5"
      ]
     },
     "execution_count": 239,
     "metadata": {},
     "output_type": "execute_result"
    }
   ],
   "source": [
    "my_list[-1]"
   ]
  },
  {
   "cell_type": "markdown",
   "metadata": {
    "id": "enM36VS4y9c8"
   },
   "source": [
    "**Slicing**"
   ]
  },
  {
   "cell_type": "code",
   "execution_count": null,
   "metadata": {
    "colab": {
     "base_uri": "https://localhost:8080/"
    },
    "id": "iMcu431Wi2_W",
    "outputId": "100509a0-c69d-4e93-a5a1-0be14157c9e0"
   },
   "outputs": [
    {
     "data": {
      "text/plain": [
       "['two', 'three', 4, 5]"
      ]
     },
     "execution_count": 241,
     "metadata": {},
     "output_type": "execute_result"
    }
   ],
   "source": [
    "my_list[1:]"
   ]
  },
  {
   "cell_type": "code",
   "execution_count": null,
   "metadata": {
    "colab": {
     "base_uri": "https://localhost:8080/"
    },
    "id": "UPg1J6Aci2_W",
    "outputId": "73227f49-a3dd-4005-8a20-dccdda644f57"
   },
   "outputs": [
    {
     "data": {
      "text/plain": [
       "['one', 'two', 'three']"
      ]
     },
     "execution_count": 242,
     "metadata": {},
     "output_type": "execute_result"
    }
   ],
   "source": [
    "my_list[:3]"
   ]
  },
  {
   "cell_type": "code",
   "execution_count": null,
   "metadata": {
    "colab": {
     "base_uri": "https://localhost:8080/"
    },
    "id": "5hCSnj8RyuxC",
    "outputId": "b0be6e4e-17a9-4854-e67d-70445ab02396"
   },
   "outputs": [
    {
     "data": {
      "text/plain": [
       "[5, 4, 'three', 'two', 'one']"
      ]
     },
     "execution_count": 243,
     "metadata": {},
     "output_type": "execute_result"
    }
   ],
   "source": [
    "my_list[-1: : -1]\n"
   ]
  },
  {
   "cell_type": "markdown",
   "metadata": {
    "id": "laciLylEuCX6"
   },
   "source": [
    "**Duplicate list using multiplication operator**"
   ]
  },
  {
   "cell_type": "code",
   "execution_count": null,
   "metadata": {
    "colab": {
     "base_uri": "https://localhost:8080/"
    },
    "id": "luB0s-MVi2_Q",
    "outputId": "80cefedb-537c-4c07-9913-802db39d726f"
   },
   "outputs": [
    {
     "name": "stdout",
     "output_type": "stream",
     "text": [
      "['one', 'two', 'three', 4, 5]\n",
      "['one', 'two', 'three', 4, 5, 'one', 'two', 'three', 4, 5]\n"
     ]
    }
   ],
   "source": [
    "old_list = ['one', 'two', 'three', 4, 5]\n",
    "\n",
    "new_list = old_list * 2\n",
    "\n",
    "print(old_list)\n",
    "print(new_list)"
   ]
  },
  {
   "cell_type": "markdown",
   "metadata": {
    "id": "qg7d6PDK8SW8"
   },
   "source": [
    "**Sort a list**"
   ]
  },
  {
   "cell_type": "code",
   "execution_count": null,
   "metadata": {
    "colab": {
     "base_uri": "https://localhost:8080/"
    },
    "id": "MNDF712k8SCd",
    "outputId": "9a40f08d-6221-45f7-ddd6-077b1a47d931"
   },
   "outputs": [
    {
     "data": {
      "text/plain": [
       "[1, 2, 3, 4, 5]"
      ]
     },
     "execution_count": 284,
     "metadata": {},
     "output_type": "execute_result"
    }
   ],
   "source": [
    "my_list = [3, 4, 5, 1, 2]\n",
    "my_list.sort()\n",
    "\n",
    "my_list"
   ]
  },
  {
   "cell_type": "code",
   "execution_count": null,
   "metadata": {
    "colab": {
     "base_uri": "https://localhost:8080/"
    },
    "id": "NFRtXtVf8yYn",
    "outputId": "98ca2344-4d8b-4636-e921-9eab08f37017"
   },
   "outputs": [
    {
     "data": {
      "text/plain": [
       "[5, 4, 3, 2, 1]"
      ]
     },
     "execution_count": 285,
     "metadata": {},
     "output_type": "execute_result"
    }
   ],
   "source": [
    "my_list = [3, 4, 5, 1, 2]\n",
    "my_list.sort(reverse = True)\n",
    "\n",
    "my_list"
   ]
  },
  {
   "cell_type": "markdown",
   "metadata": {
    "id": "YVGE4AXdvUdB"
   },
   "source": [
    "**Add new item to a list**"
   ]
  },
  {
   "cell_type": "code",
   "execution_count": null,
   "metadata": {
    "colab": {
     "base_uri": "https://localhost:8080/"
    },
    "id": "XTwNUcSNv2LK",
    "outputId": "792e69b8-0ed6-4a21-fcae-60d31e72cc61"
   },
   "outputs": [
    {
     "data": {
      "text/plain": [
       "['A string', 23, 5.2, None, 15]"
      ]
     },
     "execution_count": 227,
     "metadata": {},
     "output_type": "execute_result"
    }
   ],
   "source": [
    "my_list = ['A string', 23, 5.2, None]\n",
    "\n",
    "my_list.append(15)\n",
    "my_list"
   ]
  },
  {
   "cell_type": "code",
   "execution_count": null,
   "metadata": {
    "colab": {
     "base_uri": "https://localhost:8080/"
    },
    "id": "uQ_EPHgywLzK",
    "outputId": "2e6f322d-1cf3-4b15-e602-0472407aa6be"
   },
   "outputs": [
    {
     "data": {
      "text/plain": [
       "['A string', 23, 5.2, None, [1, 2, 3]]"
      ]
     },
     "execution_count": 231,
     "metadata": {},
     "output_type": "execute_result"
    }
   ],
   "source": [
    "my_list = ['A string', 23, 5.2, None]\n",
    "lst = [1, 2, 3]\n",
    "\n",
    "my_list.append(lst)\n",
    "my_list"
   ]
  },
  {
   "cell_type": "markdown",
   "metadata": {
    "id": "iGLkA_wT67JV"
   },
   "source": [
    "**Add a new item to a list at certain position**"
   ]
  },
  {
   "cell_type": "code",
   "execution_count": null,
   "metadata": {
    "colab": {
     "base_uri": "https://localhost:8080/"
    },
    "id": "23fn7GVi7BYi",
    "outputId": "c34a1d0d-a7f2-4c1d-ce05-f71c0a2a8627"
   },
   "outputs": [
    {
     "data": {
      "text/plain": [
       "['A string', 23, 5.2, 15, None]"
      ]
     },
     "execution_count": 281,
     "metadata": {},
     "output_type": "execute_result"
    }
   ],
   "source": [
    "my_list = ['A string', 23, 5.2, None]\n",
    "\n",
    "my_list.insert(-1 , 15)\n",
    "my_list"
   ]
  },
  {
   "cell_type": "markdown",
   "metadata": {
    "id": "7_AZbhQT5YMW"
   },
   "source": [
    "**Remove an Item from a list**"
   ]
  },
  {
   "cell_type": "code",
   "execution_count": null,
   "metadata": {
    "colab": {
     "base_uri": "https://localhost:8080/"
    },
    "id": "UGM77Cbb5aw2",
    "outputId": "35385930-97a5-46c0-d650-150eeb983d75"
   },
   "outputs": [
    {
     "data": {
      "text/plain": [
       "['A string', 5.2, None, 23]"
      ]
     },
     "execution_count": 272,
     "metadata": {},
     "output_type": "execute_result"
    }
   ],
   "source": [
    "my_list = ['A string', 23, 5.2, None, 23]\n",
    "\n",
    "my_list.remove(23)\n",
    "my_list"
   ]
  },
  {
   "cell_type": "markdown",
   "metadata": {
    "id": "hDVYa0vL5yZF"
   },
   "source": [
    "**Remove item from a list by position**"
   ]
  },
  {
   "cell_type": "code",
   "execution_count": null,
   "metadata": {
    "colab": {
     "base_uri": "https://localhost:8080/"
    },
    "id": "JL9SxTDK53af",
    "outputId": "d9b2c983-e056-471c-c1bb-9625039ebed7"
   },
   "outputs": [
    {
     "name": "stdout",
     "output_type": "stream",
     "text": [
      "23\n",
      "['A string', 5.2, None, 23]\n"
     ]
    }
   ],
   "source": [
    "my_list = ['A string', 23, 5.2, None, 23]\n",
    "\n",
    "removed_item = my_list.pop(1)\n",
    "\n",
    "print(removed_item)\n",
    "print(my_list)"
   ]
  },
  {
   "cell_type": "markdown",
   "metadata": {
    "id": "X3ERMAUDG9rO"
   },
   "source": [
    "**Get frequency of an item in a list**"
   ]
  },
  {
   "cell_type": "code",
   "execution_count": null,
   "metadata": {
    "colab": {
     "base_uri": "https://localhost:8080/"
    },
    "id": "BM_ziVCsG9rb",
    "outputId": "8c8b54fc-f3d9-4fb4-bf9c-9be97d877432"
   },
   "outputs": [
    {
     "data": {
      "text/plain": [
       "3"
      ]
     },
     "execution_count": 342,
     "metadata": {},
     "output_type": "execute_result"
    }
   ],
   "source": [
    "my_list = [5, 1, 2, 5, 9, 2, 3, 2, 4, 5]\n",
    "my_list.count(5)"
   ]
  },
  {
   "cell_type": "markdown",
   "metadata": {
    "id": "s9jDX_12G9rc"
   },
   "source": [
    "**Get index of an element in a list**"
   ]
  },
  {
   "cell_type": "code",
   "execution_count": null,
   "metadata": {
    "colab": {
     "base_uri": "https://localhost:8080/"
    },
    "id": "FTf3cwxzG9rc",
    "outputId": "fbfe537e-50ed-4e97-c858-f03c40b59769"
   },
   "outputs": [
    {
     "data": {
      "text/plain": [
       "4"
      ]
     },
     "execution_count": 343,
     "metadata": {},
     "output_type": "execute_result"
    }
   ],
   "source": [
    "my_list = [5, 1, 2, 5, 9, 2, 3, 2, 4, 5]\n",
    "my_list.index(9)"
   ]
  },
  {
   "cell_type": "markdown",
   "metadata": {
    "id": "wGgM8oiM6Lzd"
   },
   "source": [
    "**Copy a list**"
   ]
  },
  {
   "cell_type": "code",
   "execution_count": null,
   "metadata": {
    "colab": {
     "base_uri": "https://localhost:8080/"
    },
    "id": "GPBP75bd6Ocl",
    "outputId": "91a690b5-c6d5-4835-872e-cc6cc093f78d"
   },
   "outputs": [
    {
     "name": "stdout",
     "output_type": "stream",
     "text": [
      "['A string', 23, 5.2, None, 23]\n",
      "139645657762496\n",
      "139645659904448\n"
     ]
    }
   ],
   "source": [
    "my_list = ['A string', 23, 5.2, None, 23]\n",
    "new_list = my_list.copy()\n",
    "\n",
    "print(new_list)\n",
    "print(id(my_list))\n",
    "print(id(new_list))"
   ]
  },
  {
   "cell_type": "markdown",
   "metadata": {
    "id": "mmImo5dQ6b2g"
   },
   "source": [
    "**Empty a list**"
   ]
  },
  {
   "cell_type": "code",
   "execution_count": null,
   "metadata": {
    "colab": {
     "base_uri": "https://localhost:8080/"
    },
    "id": "0SyMpl7_6cvN",
    "outputId": "b8d7cf37-b50e-4c75-eb99-7f2ac37557b0"
   },
   "outputs": [
    {
     "data": {
      "text/plain": [
       "[]"
      ]
     },
     "execution_count": 278,
     "metadata": {},
     "output_type": "execute_result"
    }
   ],
   "source": [
    "my_list = ['A string', 23, 5.2, None, 23]\n",
    "\n",
    "my_list.clear()\n",
    "my_list"
   ]
  },
  {
   "cell_type": "markdown",
   "metadata": {
    "id": "pvpR34Wcuivk"
   },
   "source": [
    "**Merge Two lists into one list using + operator**"
   ]
  },
  {
   "cell_type": "code",
   "execution_count": null,
   "metadata": {
    "colab": {
     "base_uri": "https://localhost:8080/"
    },
    "id": "3nwuaKnGi2_S",
    "outputId": "387f07e3-44d2-4d40-8401-ecbcb998e87d"
   },
   "outputs": [
    {
     "data": {
      "text/plain": [
       "['A string', 23, 5.2, None, 'ahmed', 55]"
      ]
     },
     "execution_count": 217,
     "metadata": {},
     "output_type": "execute_result"
    }
   ],
   "source": [
    "list1 = ['A string', 23, 5.2, None]\n",
    "list2 = ['ahmed', 55]\n",
    "\n",
    "list3 = list1 + list2\n",
    "list3"
   ]
  },
  {
   "cell_type": "markdown",
   "metadata": {
    "id": "D8dJZUJQwWA-"
   },
   "source": [
    "**Add items of one list to anohter**\n"
   ]
  },
  {
   "cell_type": "code",
   "execution_count": null,
   "metadata": {
    "colab": {
     "base_uri": "https://localhost:8080/"
    },
    "id": "aFyK4826weL7",
    "outputId": "7380e640-ea65-4ddf-aa7b-973df1d2d3e3"
   },
   "outputs": [
    {
     "data": {
      "text/plain": [
       "['A string', 23, 5.2, None, 1, 2, 3]"
      ]
     },
     "execution_count": 233,
     "metadata": {},
     "output_type": "execute_result"
    }
   ],
   "source": [
    "my_list = ['A string', 23, 5.2, None]\n",
    "lst = [1, 2, 3]\n",
    "\n",
    "my_list.extend(lst)\n",
    "my_list"
   ]
  },
  {
   "cell_type": "code",
   "execution_count": null,
   "metadata": {
    "id": "ZVBGlBRAi2_U"
   },
   "outputs": [],
   "source": [
    "my_list.extend(set((15,)))"
   ]
  },
  {
   "cell_type": "code",
   "execution_count": null,
   "metadata": {
    "id": "e82XvmFTi2_U",
    "outputId": "e2ce1cf3-1033-459d-b719-5452f37dd5c4"
   },
   "outputs": [
    {
     "data": {
      "text/plain": [
       "['A string', 23, 100.232, 'o', 'ahmed', 15]"
      ]
     },
     "execution_count": 11,
     "metadata": {},
     "output_type": "execute_result"
    }
   ],
   "source": [
    "my_list"
   ]
  },
  {
   "cell_type": "markdown",
   "metadata": {
    "id": "laGgdHKH506d"
   },
   "source": [
    "# Tuples\n"
   ]
  },
  {
   "cell_type": "markdown",
   "metadata": {
    "id": "i69_QapP9U3E"
   },
   "source": [
    "**Define a Tuple**"
   ]
  },
  {
   "cell_type": "code",
   "execution_count": null,
   "metadata": {
    "colab": {
     "base_uri": "https://localhost:8080/"
    },
    "id": "-oudyUHt506j",
    "outputId": "26800145-6d67-4a38-c1e2-41c9fc279b53"
   },
   "outputs": [
    {
     "data": {
      "text/plain": [
       "(1, 2, 3)"
      ]
     },
     "execution_count": 330,
     "metadata": {},
     "output_type": "execute_result"
    }
   ],
   "source": [
    "# the first way to define a tuple\n",
    "my_tuple = (1, 2, 3)\n",
    "my_tuple"
   ]
  },
  {
   "cell_type": "code",
   "execution_count": null,
   "metadata": {
    "colab": {
     "base_uri": "https://localhost:8080/"
    },
    "id": "EfBSEIOv-pcd",
    "outputId": "5bddbacd-a894-4090-e091-7c0c93482394"
   },
   "outputs": [
    {
     "data": {
      "text/plain": [
       "(1, 2, 3)"
      ]
     },
     "execution_count": 295,
     "metadata": {},
     "output_type": "execute_result"
    }
   ],
   "source": [
    "# the second way to define a tuple\n",
    "my_tuple = tuple((1, 2, 3))\n",
    "my_tuple"
   ]
  },
  {
   "cell_type": "code",
   "execution_count": null,
   "metadata": {
    "colab": {
     "base_uri": "https://localhost:8080/"
    },
    "id": "sUPYuQWv9Zx1",
    "outputId": "e08241b1-cc1c-4d94-8ef4-a6c0d8e16651"
   },
   "outputs": [
    {
     "data": {
      "text/plain": [
       "tuple"
      ]
     },
     "execution_count": 296,
     "metadata": {},
     "output_type": "execute_result"
    }
   ],
   "source": [
    "type(my_tuple)"
   ]
  },
  {
   "cell_type": "code",
   "execution_count": null,
   "metadata": {
    "colab": {
     "base_uri": "https://localhost:8080/"
    },
    "id": "m7MK4UEdFoGk",
    "outputId": "845de8ed-0307-41d8-eb76-19cc299df391"
   },
   "outputs": [
    {
     "name": "stdout",
     "output_type": "stream",
     "text": [
      "<class 'int'>\n"
     ]
    }
   ],
   "source": [
    "# note if your tuple will have one item then you should use the second way\n",
    "my_tuple = (1) # (\"Ali\")\n",
    "\n",
    "print(type(my_tuple))"
   ]
  },
  {
   "cell_type": "markdown",
   "metadata": {
    "id": "CaR3xWfg9fRs"
   },
   "source": [
    "**Get the length of a tuple (Number of items it contains)**"
   ]
  },
  {
   "cell_type": "code",
   "execution_count": null,
   "metadata": {
    "colab": {
     "base_uri": "https://localhost:8080/"
    },
    "id": "cwDvNviv506m",
    "outputId": "5ac167a6-f06d-46cf-d572-104a8acb28ee"
   },
   "outputs": [
    {
     "data": {
      "text/plain": [
       "3"
      ]
     },
     "execution_count": 298,
     "metadata": {},
     "output_type": "execute_result"
    }
   ],
   "source": [
    "len(my_tuple)"
   ]
  },
  {
   "cell_type": "markdown",
   "metadata": {
    "id": "-Pvzn5lu-L79"
   },
   "source": [
    "**A tuple can contain items of different type**"
   ]
  },
  {
   "cell_type": "code",
   "execution_count": null,
   "metadata": {
    "colab": {
     "base_uri": "https://localhost:8080/"
    },
    "id": "9HdQTY2Q506n",
    "outputId": "1c1ddd1a-2cff-46bf-b8c4-acaca296fba1"
   },
   "outputs": [
    {
     "data": {
      "text/plain": [
       "('A string', 23, 5.2, None)"
      ]
     },
     "execution_count": 299,
     "metadata": {},
     "output_type": "execute_result"
    }
   ],
   "source": [
    "my_tuple = ('A string', 23, 5.2, None)\n",
    "my_tuple"
   ]
  },
  {
   "cell_type": "markdown",
   "metadata": {
    "id": "uxZY0-oZ_Fh1"
   },
   "source": [
    "**A tuple can contain items of any type (Numbers, Booleans, Lists, Tuples, Objects, etc)**"
   ]
  },
  {
   "cell_type": "code",
   "execution_count": null,
   "metadata": {
    "colab": {
     "base_uri": "https://localhost:8080/"
    },
    "id": "HrgFLOUs_ICM",
    "outputId": "3fbd5fb0-4297-405d-8a9e-f328a3dd5e72"
   },
   "outputs": [
    {
     "data": {
      "text/plain": [
       "(1, 'Ali', [True, 1, 'Omar', None], [False, 'Amit'], 7, (1, 2, 3))"
      ]
     },
     "execution_count": 300,
     "metadata": {},
     "output_type": "execute_result"
    }
   ],
   "source": [
    "lst = [True, 1, \"Omar\", None]\n",
    "t = (1, 2, 3)\n",
    "x = 7\n",
    "\n",
    "my_tuple = (1, \"Ali\", lst, [False, \"Amit\"], 7, t)\n",
    "my_tuple"
   ]
  },
  {
   "cell_type": "markdown",
   "metadata": {
    "id": "vUkq4bX__YBN"
   },
   "source": [
    "**Indexing**\n"
   ]
  },
  {
   "cell_type": "code",
   "execution_count": null,
   "metadata": {
    "id": "reVEZ27w_ctj"
   },
   "outputs": [],
   "source": [
    "my_tuple = ['one', 'two', 'three', 4, 5]"
   ]
  },
  {
   "cell_type": "code",
   "execution_count": null,
   "metadata": {
    "colab": {
     "base_uri": "https://localhost:8080/",
     "height": 36
    },
    "id": "s0Nvlsfg506n",
    "outputId": "318fd539-3305-4556-a817-a7d41bc83fa2"
   },
   "outputs": [
    {
     "data": {
      "application/vnd.google.colaboratory.intrinsic+json": {
       "type": "string"
      },
      "text/plain": [
       "'one'"
      ]
     },
     "execution_count": 303,
     "metadata": {},
     "output_type": "execute_result"
    }
   ],
   "source": [
    "my_tuple[0]"
   ]
  },
  {
   "cell_type": "code",
   "execution_count": null,
   "metadata": {
    "colab": {
     "base_uri": "https://localhost:8080/"
    },
    "id": "YrXJKIBI506o",
    "outputId": "3171959a-7067-44a0-acc0-a67340eb3f96"
   },
   "outputs": [
    {
     "data": {
      "text/plain": [
       "5"
      ]
     },
     "execution_count": 304,
     "metadata": {},
     "output_type": "execute_result"
    }
   ],
   "source": [
    "my_tuple[-1]"
   ]
  },
  {
   "cell_type": "markdown",
   "metadata": {
    "id": "ZUwJvXM2_yFN"
   },
   "source": [
    "**Slicing**"
   ]
  },
  {
   "cell_type": "code",
   "execution_count": null,
   "metadata": {
    "id": "oO0dMy37_06L"
   },
   "outputs": [],
   "source": [
    "my_tuple = ('one', 'two', 'three', 4, 5)"
   ]
  },
  {
   "cell_type": "code",
   "execution_count": null,
   "metadata": {
    "colab": {
     "base_uri": "https://localhost:8080/"
    },
    "id": "UhUL3d_6_yFa",
    "outputId": "3085fd7f-6758-47ab-c231-2fba977c4757"
   },
   "outputs": [
    {
     "data": {
      "text/plain": [
       "('two', 'three', 4, 5)"
      ]
     },
     "execution_count": 313,
     "metadata": {},
     "output_type": "execute_result"
    }
   ],
   "source": [
    "my_tuple[1:]"
   ]
  },
  {
   "cell_type": "code",
   "execution_count": null,
   "metadata": {
    "colab": {
     "base_uri": "https://localhost:8080/"
    },
    "id": "O2J-5Nip_yFa",
    "outputId": "70cd18a9-0dfd-4c0b-cdd8-940d89006414"
   },
   "outputs": [
    {
     "data": {
      "text/plain": [
       "('one', 'two', 'three')"
      ]
     },
     "execution_count": 314,
     "metadata": {},
     "output_type": "execute_result"
    }
   ],
   "source": [
    "my_tuple[:3]"
   ]
  },
  {
   "cell_type": "code",
   "execution_count": null,
   "metadata": {
    "colab": {
     "base_uri": "https://localhost:8080/"
    },
    "id": "jy188ti9_yFb",
    "outputId": "cee5bb5d-262c-4fc7-d16e-10810db71867"
   },
   "outputs": [
    {
     "data": {
      "text/plain": [
       "(5, 4, 'three', 'two', 'one')"
      ]
     },
     "execution_count": 315,
     "metadata": {},
     "output_type": "execute_result"
    }
   ],
   "source": [
    "my_tuple[-1: : -1]\n"
   ]
  },
  {
   "cell_type": "markdown",
   "metadata": {
    "id": "-quV7G7O__lp"
   },
   "source": [
    "**Duplicate list using multiplication operator**"
   ]
  },
  {
   "cell_type": "code",
   "execution_count": null,
   "metadata": {
    "colab": {
     "base_uri": "https://localhost:8080/"
    },
    "id": "j_feGf8-ABTu",
    "outputId": "ed32a8d0-7a0e-433f-d852-b6827fab341b"
   },
   "outputs": [
    {
     "name": "stdout",
     "output_type": "stream",
     "text": [
      "('one', 'two', 'three', 4, 5)\n",
      "('one', 'two', 'three', 4, 5, 'one', 'two', 'three', 4, 5)\n"
     ]
    }
   ],
   "source": [
    "old_tuple = ('one', 'two', 'three', 4, 5)\n",
    "\n",
    "new_tuple = old_tuple * 2\n",
    "\n",
    "print(old_tuple)\n",
    "print(new_tuple)"
   ]
  },
  {
   "cell_type": "markdown",
   "metadata": {
    "id": "J1F5XpqvCgSN"
   },
   "source": [
    "**Merge Two lists into one list using + operator**"
   ]
  },
  {
   "cell_type": "code",
   "execution_count": null,
   "metadata": {
    "colab": {
     "base_uri": "https://localhost:8080/"
    },
    "id": "NkqUkmPgCgSd",
    "outputId": "ad00806a-9e68-44ed-adc4-66fb6818147e"
   },
   "outputs": [
    {
     "data": {
      "text/plain": [
       "('A string', 23, 5.2, None, 'ahmed', 55)"
      ]
     },
     "execution_count": 321,
     "metadata": {},
     "output_type": "execute_result"
    }
   ],
   "source": [
    "tuple1 = ('A string', 23, 5.2, None)\n",
    "tuple2 = ('ahmed', 55)\n",
    "\n",
    "tuple3 = tuple1 + tuple2\n",
    "tuple3"
   ]
  },
  {
   "cell_type": "code",
   "execution_count": null,
   "metadata": {
    "colab": {
     "base_uri": "https://localhost:8080/"
    },
    "id": "9qAprRTYE-sK",
    "outputId": "aa761f4b-1792-4574-bb40-3e3228eb1b8c"
   },
   "outputs": [
    {
     "data": {
      "text/plain": [
       "str"
      ]
     },
     "execution_count": 326,
     "metadata": {},
     "output_type": "execute_result"
    }
   ],
   "source": [
    "tuple1 = ('A string')\n",
    "tuple2 = ('ahmed')\n",
    "\n",
    "tuple3 = tuple1 + tuple2\n",
    "tuple3"
   ]
  },
  {
   "cell_type": "markdown",
   "metadata": {
    "id": "f1kdFzemGRng"
   },
   "source": [
    "**Get frequency of an item in a tuple**"
   ]
  },
  {
   "cell_type": "code",
   "execution_count": null,
   "metadata": {
    "colab": {
     "base_uri": "https://localhost:8080/"
    },
    "id": "6SwbpYpsGROP",
    "outputId": "4af2731d-0086-42b0-8e8a-3185e84a44e6"
   },
   "outputs": [
    {
     "data": {
      "text/plain": [
       "3"
      ]
     },
     "execution_count": 340,
     "metadata": {},
     "output_type": "execute_result"
    }
   ],
   "source": [
    "my_tuple = (5, 1, 2, 5, 9, 2, 3, 2, 4, 5)\n",
    "my_tuple.count(5)"
   ]
  },
  {
   "cell_type": "markdown",
   "metadata": {
    "id": "GgwgYqiZGgsS"
   },
   "source": [
    "**Get index of an element in a tuple**"
   ]
  },
  {
   "cell_type": "code",
   "execution_count": null,
   "metadata": {
    "colab": {
     "base_uri": "https://localhost:8080/"
    },
    "id": "DFw--2hHGkD2",
    "outputId": "94403475-b2e4-4795-f8e9-fe5e681daa39"
   },
   "outputs": [
    {
     "data": {
      "text/plain": [
       "4"
      ]
     },
     "execution_count": 341,
     "metadata": {},
     "output_type": "execute_result"
    }
   ],
   "source": [
    "my_tuple = (5, 1, 2, 5, 9, 2, 3, 2, 4, 5)\n",
    "my_tuple.index(9)"
   ]
  },
  {
   "cell_type": "markdown",
   "metadata": {
    "id": "_We884dm506p"
   },
   "source": [
    "**Immutability**\n",
    "\n",
    "Tupels are immutable which means they cannot be changed hence you cannot **add items** to them, **remove items** from them, nor you can **sort them**"
   ]
  },
  {
   "cell_type": "code",
   "execution_count": null,
   "metadata": {
    "id": "GH6TwTBWBKTT"
   },
   "outputs": [],
   "source": [
    "my_tuple = ('one', 'two', 'three', 4, 5)"
   ]
  },
  {
   "cell_type": "code",
   "execution_count": null,
   "metadata": {
    "id": "f6RsezWI506p"
   },
   "outputs": [],
   "source": [
    "my_tuple[0]= 'ahmed'"
   ]
  },
  {
   "cell_type": "code",
   "execution_count": null,
   "metadata": {
    "id": "iTt-d7c-506r",
    "scrolled": true
   },
   "outputs": [],
   "source": [
    "my_tuple.append('nope')"
   ]
  },
  {
   "cell_type": "markdown",
   "metadata": {
    "id": "p_71fwRA6K3E"
   },
   "source": [
    "**How to modify tuples?**\n",
    "\n",
    "convert it into a list, then modify it, and finally convert it back into tuple"
   ]
  },
  {
   "cell_type": "code",
   "execution_count": null,
   "metadata": {
    "colab": {
     "base_uri": "https://localhost:8080/"
    },
    "id": "HvvjSix2506r",
    "outputId": "51edce5a-690b-4ecb-d51a-32c3965a6f77"
   },
   "outputs": [
    {
     "data": {
      "text/plain": [
       "('one', 'two', 'three', 4, 5, 'ahmed')"
      ]
     },
     "execution_count": 320,
     "metadata": {},
     "output_type": "execute_result"
    }
   ],
   "source": [
    "my_tuple = ('one', 'two', 'three', 4, 5)\n",
    "\n",
    "tuple_to_list = list(my_tuple) # convert tuple into list\n",
    "\n",
    "tuple_to_list.append('ahmed') # modify the list\n",
    "\n",
    "my_tuple = tuple(tuple_to_list) # convert the list back into a tuple\n",
    "\n",
    "my_tuple"
   ]
  },
  {
   "cell_type": "markdown",
   "metadata": {
    "id": "mD1bTLsijqYM"
   },
   "source": [
    "# Sets\n"
   ]
  },
  {
   "cell_type": "markdown",
   "metadata": {
    "id": "CPDb0KmMJYuw"
   },
   "source": [
    "**Define a set**"
   ]
  },
  {
   "cell_type": "code",
   "execution_count": 89,
   "metadata": {
    "colab": {
     "base_uri": "https://localhost:8080/"
    },
    "id": "p508SbRwIvq2",
    "outputId": "59ef44b6-1ec1-4947-a2c7-3e183d8d8249"
   },
   "outputs": [
    {
     "data": {
      "text/plain": [
       "{1, 2, 3, 4}"
      ]
     },
     "execution_count": 89,
     "metadata": {},
     "output_type": "execute_result"
    }
   ],
   "source": [
    "# the first way to define a set\n",
    "my_set = {1, 1, 2, 3, 4, 2, 4}\n",
    "my_set"
   ]
  },
  {
   "cell_type": "code",
   "execution_count": null,
   "metadata": {
    "colab": {
     "base_uri": "https://localhost:8080/"
    },
    "id": "1wNj9T-0Je3f",
    "outputId": "9ab23fb8-f477-4f4a-d79d-c366ffb3628e"
   },
   "outputs": [
    {
     "data": {
      "text/plain": [
       "{1, 2, 3, 4}"
      ]
     },
     "execution_count": 346,
     "metadata": {},
     "output_type": "execute_result"
    }
   ],
   "source": [
    "# the second way to define a set\n",
    "my_set = set((1, 2, 3, 4))\n",
    "my_set"
   ]
  },
  {
   "cell_type": "code",
   "execution_count": null,
   "metadata": {
    "colab": {
     "base_uri": "https://localhost:8080/"
    },
    "id": "F7NQ7TUHJrpR",
    "outputId": "c815c0e2-13f9-43a4-f481-2570e8e60f97"
   },
   "outputs": [
    {
     "data": {
      "text/plain": [
       "set"
      ]
     },
     "execution_count": 347,
     "metadata": {},
     "output_type": "execute_result"
    }
   ],
   "source": [
    "type(my_set)"
   ]
  },
  {
   "cell_type": "markdown",
   "metadata": {
    "id": "kOScICuDJyfu"
   },
   "source": [
    "**Get set length (Number of Items a set contains)**"
   ]
  },
  {
   "cell_type": "code",
   "execution_count": null,
   "metadata": {
    "colab": {
     "base_uri": "https://localhost:8080/"
    },
    "id": "LEqOWTrwJyfu",
    "outputId": "2e2c1a76-04f5-4096-fc14-3b1d020ddfd6"
   },
   "outputs": [
    {
     "data": {
      "text/plain": [
       "4"
      ]
     },
     "execution_count": 348,
     "metadata": {},
     "output_type": "execute_result"
    }
   ],
   "source": [
    "my_set = {1, 2, 3, 4}\n",
    "len(my_set)"
   ]
  },
  {
   "cell_type": "markdown",
   "metadata": {
    "id": "tvkjPrveJ_AV"
   },
   "source": [
    "**A set can contain items of different type**"
   ]
  },
  {
   "cell_type": "code",
   "execution_count": null,
   "metadata": {
    "colab": {
     "base_uri": "https://localhost:8080/"
    },
    "id": "53Sk1UE2J_AW",
    "outputId": "c6246136-9409-446f-936c-2ad4fbbc5ce1"
   },
   "outputs": [
    {
     "data": {
      "text/plain": [
       "{23, 5.2, 'A string', None}"
      ]
     },
     "execution_count": 349,
     "metadata": {},
     "output_type": "execute_result"
    }
   ],
   "source": [
    "my_set = {'A string', 23, 5.2, None}\n",
    "my_set"
   ]
  },
  {
   "cell_type": "markdown",
   "metadata": {
    "id": "C1VfyFfZKH34"
   },
   "source": [
    "**A set can contain items of only immutable types (Numbers, Booleans, Tuples, etc)**"
   ]
  },
  {
   "cell_type": "code",
   "execution_count": null,
   "metadata": {
    "id": "AtgTcSSNK5re"
   },
   "outputs": [],
   "source": [
    "lst = [True, 1, \"Omar\", None]\n",
    "t = (1, 2, 3)\n",
    "s = {\"Ali\", 5}\n",
    "x = 7\n",
    "\n",
    "my_set = {1, \"Ali\", 7, t}\n",
    "my_set"
   ]
  },
  {
   "cell_type": "code",
   "execution_count": null,
   "metadata": {
    "id": "NyL2yv1yKH4I"
   },
   "outputs": [],
   "source": [
    "# The following will raise an error since set can only contain immutable type.\n",
    "lst = [True, 1, \"Omar\", None]\n",
    "t = (1, 2, 3)\n",
    "s = {\"Ali\", 5}\n",
    "x = 7\n",
    "\n",
    "my_set = {1, \"Ali\", lst, [False, \"Amit\"], s, 7, t}\n",
    "my_set"
   ]
  },
  {
   "cell_type": "markdown",
   "metadata": {
    "id": "Qh9PekmrNxK0"
   },
   "source": [
    "**Access items in a set**"
   ]
  },
  {
   "cell_type": "code",
   "execution_count": null,
   "metadata": {
    "colab": {
     "base_uri": "https://localhost:8080/"
    },
    "id": "LIzHwvjGNxK0",
    "outputId": "1ce949e6-ffe8-442c-b15a-7a996765c28c"
   },
   "outputs": [
    {
     "name": "stdout",
     "output_type": "stream",
     "text": [
      "1 2 3 4 5 "
     ]
    }
   ],
   "source": [
    "# The first way: iterate over the elements using for loop\n",
    "my_set = {3, 4, 5, 1, 2, 2}\n",
    "\n",
    "for i in my_set:\n",
    "  print(i, end=\" \")"
   ]
  },
  {
   "cell_type": "code",
   "execution_count": null,
   "metadata": {
    "colab": {
     "base_uri": "https://localhost:8080/"
    },
    "id": "rTK6sdOzhIcd",
    "outputId": "27d865c3-a957-4821-e2fe-46ca66225963"
   },
   "outputs": [
    {
     "name": "stdout",
     "output_type": "stream",
     "text": [
      "[1, 2, 3, 4, 5]\n",
      "1\n",
      "5\n"
     ]
    }
   ],
   "source": [
    "# the second way: convert the set into a list\n",
    "my_set = {3, 4, 5, 1, 2, 2}\n",
    "\n",
    "set_to_list = list(my_set)\n",
    "\n",
    "print(set_to_list)\n",
    "print(set_to_list[0])\n",
    "print(set_to_list[-1])"
   ]
  },
  {
   "cell_type": "markdown",
   "metadata": {
    "id": "8wtDMhrGaatI"
   },
   "source": [
    "**Add item to a set**"
   ]
  },
  {
   "cell_type": "code",
   "execution_count": null,
   "metadata": {
    "colab": {
     "base_uri": "https://localhost:8080/"
    },
    "id": "B45u8Hi6jqYP",
    "outputId": "c66a88a4-8e3d-459c-8b92-ad6e98dd767f"
   },
   "outputs": [
    {
     "name": "stdout",
     "output_type": "stream",
     "text": [
      "set()\n",
      "{1, 2, 'Ali'}\n"
     ]
    }
   ],
   "source": [
    "my_set = set()\n",
    "print(my_set)\n",
    "\n",
    "my_set.add(1)\n",
    "my_set.add(2)\n",
    "my_set.add(\"Ali\")\n",
    "\n",
    "print(my_set)"
   ]
  },
  {
   "cell_type": "code",
   "execution_count": null,
   "metadata": {
    "colab": {
     "base_uri": "https://localhost:8080/"
    },
    "id": "3aZ-vwu6Ivq2",
    "outputId": "915cc7be-9728-4e62-b19b-37dc1e758ba6"
   },
   "outputs": [
    {
     "name": "stdout",
     "output_type": "stream",
     "text": [
      "{1, 2}\n",
      "{1, 2, 5}\n"
     ]
    }
   ],
   "source": [
    "my_set = {1, 2, 2}\n",
    "print(my_set)\n",
    "\n",
    "my_set.add(5)\n",
    "print(my_set)"
   ]
  },
  {
   "cell_type": "markdown",
   "metadata": {
    "id": "78RYw33wauyw"
   },
   "source": [
    "**Remove an element from the set**"
   ]
  },
  {
   "cell_type": "code",
   "execution_count": null,
   "metadata": {
    "colab": {
     "base_uri": "https://localhost:8080/"
    },
    "id": "P6HmYsLIIvq2",
    "outputId": "87f820ae-a605-417b-b189-aff0fc27ff3c"
   },
   "outputs": [
    {
     "data": {
      "text/plain": [
       "{1, 3, 4, 5}"
      ]
     },
     "execution_count": 415,
     "metadata": {},
     "output_type": "execute_result"
    }
   ],
   "source": [
    "# The first way (it will raise an error if the element you are trying to remove is not existed in the set)\n",
    "my_set = {3, 4, 5, 1, 2, 2}\n",
    "\n",
    "my_set.remove(2)\n",
    "my_set"
   ]
  },
  {
   "cell_type": "code",
   "execution_count": null,
   "metadata": {
    "colab": {
     "base_uri": "https://localhost:8080/"
    },
    "id": "-3tDcGsNcLL3",
    "outputId": "770f4b2b-3413-449d-ccd2-f1bc172e4cf4"
   },
   "outputs": [
    {
     "data": {
      "text/plain": [
       "{1, 3, 4, 5}"
      ]
     },
     "execution_count": 412,
     "metadata": {},
     "output_type": "execute_result"
    }
   ],
   "source": [
    "# The second way (it will not raise an error if the element is not existed, it will just ignore the operation)\n",
    "my_set = {3, 4, 5, 1, 2, 2}\n",
    "\n",
    "my_set.discard(2)\n",
    "my_set"
   ]
  },
  {
   "cell_type": "markdown",
   "metadata": {
    "id": "p7MJ5ScdeqH7"
   },
   "source": [
    "**Merge Two sets into one set**"
   ]
  },
  {
   "cell_type": "code",
   "execution_count": null,
   "metadata": {
    "colab": {
     "base_uri": "https://localhost:8080/"
    },
    "id": "agw6aNXCeqIL",
    "outputId": "5e905a4f-0435-4cb6-8056-330bace5262e"
   },
   "outputs": [
    {
     "data": {
      "text/plain": [
       "{23, 5.2, 55, 'A string', None, 'ahmed'}"
      ]
     },
     "execution_count": 425,
     "metadata": {},
     "output_type": "execute_result"
    }
   ],
   "source": [
    "set1 = {'A string', 23, 5.2, None}\n",
    "set2 = {'ahmed', 55}\n",
    "\n",
    "set3 = set1.union(set2)\n",
    "set3"
   ]
  },
  {
   "cell_type": "markdown",
   "metadata": {
    "id": "H_53I1WsfP2G"
   },
   "source": [
    "**Add items of one set to anohter**"
   ]
  },
  {
   "cell_type": "code",
   "execution_count": null,
   "metadata": {
    "colab": {
     "base_uri": "https://localhost:8080/"
    },
    "id": "_Qke1kfJfUrI",
    "outputId": "a447a7f6-26cd-434e-c702-f4842172bbe5"
   },
   "outputs": [
    {
     "data": {
      "text/plain": [
       "{23, 5.2, 55, 'A string', None, 'ahmed'}"
      ]
     },
     "execution_count": 426,
     "metadata": {},
     "output_type": "execute_result"
    }
   ],
   "source": [
    "my_set = {'A string', 23, 5.2, None}\n",
    "s = {'ahmed', 55}\n",
    "\n",
    "my_set.update(set2)\n",
    "my_set"
   ]
  },
  {
   "cell_type": "markdown",
   "metadata": {
    "id": "vcifumfHf1Vd"
   },
   "source": [
    "**Get intersection between two sets**"
   ]
  },
  {
   "cell_type": "code",
   "execution_count": null,
   "metadata": {
    "colab": {
     "base_uri": "https://localhost:8080/"
    },
    "id": "x6_xepC1f5DE",
    "outputId": "58dadcd5-44f0-45b9-a658-83dd5758707c"
   },
   "outputs": [
    {
     "data": {
      "text/plain": [
       "{None, 'ahmed'}"
      ]
     },
     "execution_count": 3,
     "metadata": {},
     "output_type": "execute_result"
    }
   ],
   "source": [
    "# The first way (return the result in a new set)\n",
    "set1 = {23, 5.2, 'ahmed', None}\n",
    "set2 = {None, 'ahmed', 55}\n",
    "\n",
    "intersection_set = set1.intersection(set2)\n",
    "intersection_set"
   ]
  },
  {
   "cell_type": "code",
   "execution_count": null,
   "metadata": {
    "colab": {
     "base_uri": "https://localhost:8080/"
    },
    "id": "0oK7ALSigTj9",
    "outputId": "4c89c680-9e5c-4940-8b62-fd06391bfe9f"
   },
   "outputs": [
    {
     "data": {
      "text/plain": [
       "{None, 'ahmed'}"
      ]
     },
     "execution_count": 4,
     "metadata": {},
     "output_type": "execute_result"
    }
   ],
   "source": [
    "# The second way (save the result in the set itself)\n",
    "my_set = {23, 5.2, 'ahmed', None}\n",
    "s = {None, 'ahmed', 55}\n",
    "\n",
    "my_set.intersection_update(s)\n",
    "my_set"
   ]
  },
  {
   "cell_type": "markdown",
   "metadata": {},
   "source": [
    "**Check if a set is subset of another set**"
   ]
  },
  {
   "cell_type": "code",
   "execution_count": null,
   "metadata": {},
   "outputs": [],
   "source": [
    "set1 = {1, 2, 3}\n",
    "set2 = {1, 2, 3, 4, 5}\n",
    "\n",
    "print(set1.issubset(set2))"
   ]
  },
  {
   "cell_type": "markdown",
   "metadata": {
    "id": "clRJOnax4dW5"
   },
   "source": [
    "**Empty the set**"
   ]
  },
  {
   "cell_type": "code",
   "execution_count": 91,
   "metadata": {
    "colab": {
     "base_uri": "https://localhost:8080/"
    },
    "id": "xvInZYix4f8v",
    "outputId": "feb3cf42-efb7-4a97-c35c-db5b7109be7f"
   },
   "outputs": [
    {
     "name": "stdout",
     "output_type": "stream",
     "text": [
      "{1, 2, 3, 4, 5}\n",
      "set()\n"
     ]
    }
   ],
   "source": [
    "my_set = {3, 4, 5, 1, 2, 2}\n",
    "print(my_set)\n",
    "\n",
    "my_set.clear()\n",
    "print(my_set)"
   ]
  },
  {
   "cell_type": "markdown",
   "metadata": {
    "id": "DaxdEOY1kVY7"
   },
   "source": [
    "# Dictionaries\n",
    "\n",
    "\n",
    "\n",
    "## Constructing a Dictionary"
   ]
  },
  {
   "cell_type": "markdown",
   "metadata": {
    "id": "172H7lADrlgx"
   },
   "source": [
    "**Define a Dictionary**"
   ]
  },
  {
   "cell_type": "code",
   "execution_count": 54,
   "metadata": {
    "colab": {
     "base_uri": "https://localhost:8080/"
    },
    "id": "FjHg0pJlIvq3",
    "outputId": "d563abb8-b19d-4088-dd98-7bcdcaa100c5"
   },
   "outputs": [
    {
     "data": {
      "text/plain": [
       "{'name': 'Ahmed', 'age': 50, 'salary': 15000}"
      ]
     },
     "execution_count": 54,
     "metadata": {},
     "output_type": "execute_result"
    }
   ],
   "source": [
    "# the first way\n",
    "my_dict = {\"name\": \"Ahmed\", \"age\": 50, \"salary\": 15000}\n",
    "my_dict"
   ]
  },
  {
   "cell_type": "code",
   "execution_count": 60,
   "metadata": {
    "colab": {
     "base_uri": "https://localhost:8080/"
    },
    "id": "mfjVS5V9sGAQ",
    "outputId": "252e6d38-e8de-4c07-902a-fb249d563258"
   },
   "outputs": [
    {
     "data": {
      "text/plain": [
       "{'name': 'Ahmed', 'age': 50, 'salary': 15000}"
      ]
     },
     "execution_count": 60,
     "metadata": {},
     "output_type": "execute_result"
    }
   ],
   "source": [
    "# the second way\n",
    "my_dict = dict([(\"name\", \"Ahmed\"), (\"age\", 50), (\"salary\", 15000)])\n",
    "my_dict"
   ]
  },
  {
   "cell_type": "markdown",
   "metadata": {
    "id": "6HjAbtPsyVrs"
   },
   "source": [
    "**Note that key should be immutable while values could be whatever you want**"
   ]
  },
  {
   "cell_type": "code",
   "execution_count": 53,
   "metadata": {
    "colab": {
     "base_uri": "https://localhost:8080/"
    },
    "id": "d_Oj4UgVxKx9",
    "outputId": "e9535e61-ffaf-4dcf-850c-86e6c4032feb"
   },
   "outputs": [
    {
     "data": {
      "text/plain": [
       "{'name': 'Ahmed', 'age': 50, 5: 'number', True: 1, False: 20, (5, 7): 50}"
      ]
     },
     "execution_count": 53,
     "metadata": {},
     "output_type": "execute_result"
    }
   ],
   "source": [
    "my_dict = {\"name\": \"Ahmed\", \"age\": 50, 5: \"number\", True: 1, False: 20, (5, 7): 50}\n",
    "my_dict"
   ]
  },
  {
   "cell_type": "markdown",
   "metadata": {
    "id": "donHIhRgr2nY"
   },
   "source": [
    "**Access an element in a dictionary**"
   ]
  },
  {
   "cell_type": "code",
   "execution_count": 43,
   "metadata": {
    "colab": {
     "base_uri": "https://localhost:8080/"
    },
    "id": "Ip9w1LFVr7Fb",
    "outputId": "95385cb6-e674-4967-ef47-824678eb8196"
   },
   "outputs": [
    {
     "data": {
      "text/plain": [
       "50"
      ]
     },
     "execution_count": 43,
     "metadata": {},
     "output_type": "execute_result"
    }
   ],
   "source": [
    "my_dict = {\"name\": \"Ahmed\", \"age\": 50, \"salary\": 15000}\n",
    "my_dict[\"age\"]"
   ]
  },
  {
   "cell_type": "markdown",
   "metadata": {
    "id": "c1VNKXzetfC7"
   },
   "source": [
    "**Modify dictionary values**"
   ]
  },
  {
   "cell_type": "code",
   "execution_count": 39,
   "metadata": {
    "colab": {
     "base_uri": "https://localhost:8080/"
    },
    "id": "h5MpHhSbtjjG",
    "outputId": "944b1fd6-f075-4690-826a-210413f3ba33"
   },
   "outputs": [
    {
     "data": {
      "text/plain": [
       "{'name': 'Ali', 'age': 50, 'salary': 15000}"
      ]
     },
     "execution_count": 39,
     "metadata": {},
     "output_type": "execute_result"
    }
   ],
   "source": [
    "my_dict = {\"name\": \"Ahmed\", \"age\": 50, \"salary\": 15000}\n",
    "\n",
    "my_dict[\"name\"] = \"Ali\"\n",
    "my_dict"
   ]
  },
  {
   "cell_type": "markdown",
   "metadata": {
    "id": "ol-BCElqkVZP"
   },
   "source": [
    "**Get keys of a dictionary**\n",
    "\n"
   ]
  },
  {
   "cell_type": "code",
   "execution_count": 40,
   "metadata": {
    "colab": {
     "base_uri": "https://localhost:8080/"
    },
    "id": "yHM6Dv3CkVZQ",
    "outputId": "c44b85dd-6d83-473b-eeb7-b9473bc1984e"
   },
   "outputs": [
    {
     "data": {
      "text/plain": [
       "dict_keys(['name', 'age', 'salary'])"
      ]
     },
     "execution_count": 40,
     "metadata": {},
     "output_type": "execute_result"
    }
   ],
   "source": [
    "my_dict = {\"name\": \"Ahmed\", \"age\": 50, \"salary\": 15000}\n",
    "\n",
    "my_dict.keys()"
   ]
  },
  {
   "cell_type": "markdown",
   "metadata": {
    "id": "oA_eIrKAtQd1"
   },
   "source": [
    "**Get values of a dictionary**\n",
    "\n"
   ]
  },
  {
   "cell_type": "code",
   "execution_count": 41,
   "metadata": {
    "colab": {
     "base_uri": "https://localhost:8080/"
    },
    "id": "h-f7ZFbotQd1",
    "outputId": "7fc098ed-63f7-4377-fc7e-4356a4401e04"
   },
   "outputs": [
    {
     "data": {
      "text/plain": [
       "dict_values(['Ahmed', 50, 15000])"
      ]
     },
     "execution_count": 41,
     "metadata": {},
     "output_type": "execute_result"
    }
   ],
   "source": [
    "my_dict = {\"name\": \"Ahmed\", \"age\": 50, \"salary\": 15000}\n",
    "\n",
    "my_dict.values()"
   ]
  },
  {
   "cell_type": "markdown",
   "metadata": {
    "id": "Q5ZkwwPMzVYV"
   },
   "source": [
    "**Check if a key is in a dictionary**"
   ]
  },
  {
   "cell_type": "code",
   "execution_count": 68,
   "metadata": {
    "colab": {
     "base_uri": "https://localhost:8080/"
    },
    "id": "i7zyX0sNzYTh",
    "outputId": "92ad6323-35d9-4545-b39e-96b994b46c12"
   },
   "outputs": [
    {
     "data": {
      "text/plain": [
       "True"
      ]
     },
     "execution_count": 68,
     "metadata": {},
     "output_type": "execute_result"
    }
   ],
   "source": [
    "# the first way\n",
    "my_dict = {\"name\": \"Ahmed\", \"age\": 50, \"salary\": 15000}\n",
    "\n",
    "\"name\" in my_dict"
   ]
  },
  {
   "cell_type": "code",
   "execution_count": 69,
   "metadata": {
    "colab": {
     "base_uri": "https://localhost:8080/"
    },
    "id": "ef1tZYDVzq4z",
    "outputId": "c3fe126c-4753-4825-a1a4-115e50023d0d"
   },
   "outputs": [
    {
     "data": {
      "text/plain": [
       "True"
      ]
     },
     "execution_count": 69,
     "metadata": {},
     "output_type": "execute_result"
    }
   ],
   "source": [
    "# the second way\n",
    "my_dict = {\"name\": \"Ahmed\", \"age\": 50, \"salary\": 15000}\n",
    "\n",
    "\"name\" in my_dict.keys()"
   ]
  },
  {
   "cell_type": "markdown",
   "metadata": {
    "id": "aoHwn54Tz1ID"
   },
   "source": [
    "**Empty dictionary**"
   ]
  },
  {
   "cell_type": "code",
   "execution_count": 70,
   "metadata": {
    "colab": {
     "base_uri": "https://localhost:8080/"
    },
    "id": "wegMs48rz3ui",
    "outputId": "1fd05caf-4722-468f-adf0-5d2ae99da5de"
   },
   "outputs": [
    {
     "data": {
      "text/plain": [
       "{}"
      ]
     },
     "execution_count": 70,
     "metadata": {},
     "output_type": "execute_result"
    }
   ],
   "source": [
    "my_dict = {\"name\": \"Ahmed\", \"age\": 50, \"salary\": 15000}\n",
    "my_dict.clear()\n",
    "my_dict"
   ]
  },
  {
   "cell_type": "markdown",
   "metadata": {
    "id": "Lgoj-IEbwFIe"
   },
   "source": [
    "**return list of tuples, where each tuple is a key-value pair**"
   ]
  },
  {
   "cell_type": "code",
   "execution_count": 63,
   "metadata": {
    "colab": {
     "base_uri": "https://localhost:8080/"
    },
    "id": "qPUZ34M8kVZS",
    "outputId": "7f219444-bd5f-4b27-ae87-e3624b7afeb4"
   },
   "outputs": [
    {
     "data": {
      "text/plain": [
       "('name', 'Ahmed')"
      ]
     },
     "execution_count": 63,
     "metadata": {},
     "output_type": "execute_result"
    }
   ],
   "source": [
    "# the first way\n",
    "my_dict = {\"name\": \"Ahmed\", \"age\": 50, \"salary\": 15000}\n",
    "\n",
    "items = my_dict.items()\n",
    "\n",
    "items = list(items)\n",
    "\n",
    "items[0]"
   ]
  },
  {
   "cell_type": "code",
   "execution_count": 65,
   "metadata": {
    "colab": {
     "base_uri": "https://localhost:8080/"
    },
    "id": "aVaSc1ddyrgJ",
    "outputId": "96b628e2-51ac-4a7f-f4fe-40f05ac80c2d"
   },
   "outputs": [
    {
     "name": "stdout",
     "output_type": "stream",
     "text": [
      "('name', 'Ahmed')\n",
      "('age', 50)\n",
      "('salary', 15000)\n"
     ]
    }
   ],
   "source": [
    "# the second way: this doesn't return a list of tuples but display each key-value pair\n",
    "my_dict = {\"name\": \"Ahmed\", \"age\": 50, \"salary\": 15000}\n",
    "\n",
    "for key_value_pair in my_dict.items():\n",
    "  print(key_value_pair)"
   ]
  },
  {
   "cell_type": "markdown",
   "metadata": {
    "id": "Bki1fRHrkghI"
   },
   "source": [
    "# if Statements\n",
    "\n"
   ]
  },
  {
   "cell_type": "markdown",
   "metadata": {
    "id": "aS2juOIckghL"
   },
   "source": [
    "## First Example\n",
    "\n"
   ]
  },
  {
   "cell_type": "code",
   "execution_count": 78,
   "metadata": {
    "colab": {
     "base_uri": "https://localhost:8080/"
    },
    "id": "xWOelfs7kghM",
    "outputId": "bbe4f5e2-beb3-4cfb-8020-fe3b67b54695"
   },
   "outputs": [
    {
     "name": "stdout",
     "output_type": "stream",
     "text": [
      "They are equal\n"
     ]
    }
   ],
   "source": [
    "x = 5\n",
    "if x == 5:\n",
    "  print(\"They are equal\")"
   ]
  },
  {
   "cell_type": "code",
   "execution_count": 79,
   "metadata": {
    "id": "YOYpzwUO1su8"
   },
   "outputs": [],
   "source": [
    "x = 6\n",
    "\n",
    "if x == 5:\n",
    "  print(\"Not equal!\")"
   ]
  },
  {
   "cell_type": "code",
   "execution_count": 80,
   "metadata": {
    "colab": {
     "base_uri": "https://localhost:8080/"
    },
    "id": "bclEl5Id1qGy",
    "outputId": "cfcb80be-8849-4b24-ae30-2a70fe9f9648"
   },
   "outputs": [
    {
     "name": "stdout",
     "output_type": "stream",
     "text": [
      "Not equal!\n"
     ]
    }
   ],
   "source": [
    "x = 6\n",
    "\n",
    "if x != 5:\n",
    "  print(\"Not equal!\")"
   ]
  },
  {
   "cell_type": "markdown",
   "metadata": {
    "id": "UBfM-4tU1xZy"
   },
   "source": [
    "**if else statement**"
   ]
  },
  {
   "cell_type": "code",
   "execution_count": 82,
   "metadata": {
    "colab": {
     "base_uri": "https://localhost:8080/"
    },
    "id": "CGVmP9uXkghN",
    "outputId": "a28eafe5-755a-4acc-9b26-354bfcb7991a"
   },
   "outputs": [
    {
     "name": "stdout",
     "output_type": "stream",
     "text": [
      "Not equal!\n"
     ]
    }
   ],
   "source": [
    "x = 6\n",
    "if x == 5:\n",
    "  print(\"They are equal\")\n",
    "else:\n",
    "  print(\"Not equal!\")"
   ]
  },
  {
   "cell_type": "markdown",
   "metadata": {
    "id": "vp_pgOKlkghO"
   },
   "source": [
    "**Multiple if statements**\n",
    "\n"
   ]
  },
  {
   "cell_type": "code",
   "execution_count": 83,
   "metadata": {
    "colab": {
     "base_uri": "https://localhost:8080/"
    },
    "id": "AcpnNHZW1dx6",
    "outputId": "fea6d8c3-bfb0-4552-efe3-f210bd3e8a4c"
   },
   "outputs": [
    {
     "name": "stdout",
     "output_type": "stream",
     "text": [
      "Not equal!\n",
      "Not equal!\n"
     ]
    }
   ],
   "source": [
    "x = 6\n",
    "\n",
    "if x != 5:\n",
    "  print(\"Not equal!\")\n",
    "if x == 5:\n",
    "  print(\"They are equal\")\n",
    "else:\n",
    "  print(\"Not equal!\")"
   ]
  },
  {
   "cell_type": "markdown",
   "metadata": {
    "id": "jTWWwUA72ARC"
   },
   "source": [
    "**if elif else statement**"
   ]
  },
  {
   "cell_type": "code",
   "execution_count": 85,
   "metadata": {
    "colab": {
     "base_uri": "https://localhost:8080/"
    },
    "id": "QQCrF7D-kghP",
    "outputId": "46a97084-2419-4a2e-c91e-f82d8c6544df"
   },
   "outputs": [
    {
     "name": "stdout",
     "output_type": "stream",
     "text": [
      "Welcome George!\n"
     ]
    }
   ],
   "source": [
    "person = 'George'\n",
    "\n",
    "if person == 'Sammy':\n",
    "    print('Welcome Sammy!')\n",
    "elif person =='George':\n",
    "    print('Welcome George!')\n",
    "else:\n",
    "    print(\"Welcome, what's your name?\")\n"
   ]
  },
  {
   "cell_type": "markdown",
   "metadata": {
    "id": "enjJtXszkghP"
   },
   "source": [
    "**Task: take the mark from the user and convert it to grade according to the following guidelines**\n",
    "1. 85-100 A\n",
    "2. 75-85 B\n",
    "3. 65-75 C\n",
    "4. 50-65 D\n",
    "5. <50 F"
   ]
  },
  {
   "cell_type": "code",
   "execution_count": 86,
   "metadata": {
    "colab": {
     "base_uri": "https://localhost:8080/"
    },
    "id": "hUNJb-g8kghQ",
    "outputId": "0459f32d-a107-4b91-a7b9-21d6539192ed"
   },
   "outputs": [
    {
     "name": "stdout",
     "output_type": "stream",
     "text": [
      "enter your grade 50\n",
      "D\n"
     ]
    }
   ],
   "source": [
    "x=int(input('enter your grade '))\n",
    "\n",
    "if x>=85 and x<=100:\n",
    "    print('A')\n",
    "elif x>=75 and x<85:\n",
    "    print('B')\n",
    "elif x>=65 and x<75:\n",
    "    print('C')\n",
    "elif x>=50 and x<65:\n",
    "    print('D')\n",
    "elif x<50:\n",
    "    print('good luck next year')\n",
    "else:\n",
    "    print('enter a valid data')\n"
   ]
  },
  {
   "cell_type": "code",
   "execution_count": null,
   "metadata": {
    "id": "CmWmPpNYkghS"
   },
   "outputs": [],
   "source": []
  }
 ],
 "metadata": {
  "colab": {
   "collapsed_sections": [
    "G6KtbdtZ7XAt",
    "2IV0ALOQIP9D",
    "ehuyxSo3LUtY",
    "NfCe8HIHLeyr",
    "vH7W3aYgLb_P",
    "strYeugILooz",
    "Udqj3Z5sLtWr",
    "Hb5DqMvoqYnL",
    "gLAxQnhni2_K",
    "laGgdHKH506d",
    "Bki1fRHrkghI",
    "aS2juOIckghL"
   ],
   "provenance": [],
   "toc_visible": true
  },
  "kernelspec": {
   "display_name": "Python 3 (ipykernel)",
   "language": "python",
   "name": "python3"
  },
  "language_info": {
   "codemirror_mode": {
    "name": "ipython",
    "version": 3
   },
   "file_extension": ".py",
   "mimetype": "text/x-python",
   "name": "python",
   "nbconvert_exporter": "python",
   "pygments_lexer": "ipython3",
   "version": "3.11.3"
  }
 },
 "nbformat": 4,
 "nbformat_minor": 1
}
