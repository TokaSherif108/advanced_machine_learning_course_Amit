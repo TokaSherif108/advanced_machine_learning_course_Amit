{
  "nbformat": 4,
  "nbformat_minor": 0,
  "metadata": {
    "colab": {
      "provenance": []
    },
    "kernelspec": {
      "name": "python3",
      "display_name": "Python 3"
    },
    "language_info": {
      "name": "python"
    }
  },
  "cells": [
    {
      "cell_type": "code",
      "execution_count": 54,
      "metadata": {
        "id": "bqQB865Utxbt"
      },
      "outputs": [],
      "source": [
        "# Import libraries necessary for this project\n",
        "import numpy as np\n",
        "import pandas as pd\n",
        "from sklearn.model_selection import ShuffleSplit"
      ]
    },
    {
      "cell_type": "code",
      "source": [
        "# Pretty display for notebooks\n",
        "%matplotlib inline\n",
        "\n",
        "# Load the Boston housing dataset\n",
        "data = pd.read_csv('housing.csv')"
      ],
      "metadata": {
        "id": "E2KQ8HCmt92i"
      },
      "execution_count": 55,
      "outputs": []
    },
    {
      "cell_type": "code",
      "source": [
        "data.head()"
      ],
      "metadata": {
        "colab": {
          "base_uri": "https://localhost:8080/",
          "height": 206
        },
        "id": "Llv4nuj2ylAG",
        "outputId": "55c27da4-eed6-4576-9b7b-b82d52cd0886"
      },
      "execution_count": 56,
      "outputs": [
        {
          "output_type": "execute_result",
          "data": {
            "text/plain": [
              "      RM  LSTAT  PTRATIO      MEDV\n",
              "0  6.575   4.98     15.3  504000.0\n",
              "1  6.421   9.14     17.8  453600.0\n",
              "2  7.185   4.03     17.8  728700.0\n",
              "3  6.998   2.94     18.7  701400.0\n",
              "4  7.147   5.33     18.7  760200.0"
            ],
            "text/html": [
              "\n",
              "  <div id=\"df-daae4419-709c-46a0-a384-99861bc08ef8\" class=\"colab-df-container\">\n",
              "    <div>\n",
              "<style scoped>\n",
              "    .dataframe tbody tr th:only-of-type {\n",
              "        vertical-align: middle;\n",
              "    }\n",
              "\n",
              "    .dataframe tbody tr th {\n",
              "        vertical-align: top;\n",
              "    }\n",
              "\n",
              "    .dataframe thead th {\n",
              "        text-align: right;\n",
              "    }\n",
              "</style>\n",
              "<table border=\"1\" class=\"dataframe\">\n",
              "  <thead>\n",
              "    <tr style=\"text-align: right;\">\n",
              "      <th></th>\n",
              "      <th>RM</th>\n",
              "      <th>LSTAT</th>\n",
              "      <th>PTRATIO</th>\n",
              "      <th>MEDV</th>\n",
              "    </tr>\n",
              "  </thead>\n",
              "  <tbody>\n",
              "    <tr>\n",
              "      <th>0</th>\n",
              "      <td>6.575</td>\n",
              "      <td>4.98</td>\n",
              "      <td>15.3</td>\n",
              "      <td>504000.0</td>\n",
              "    </tr>\n",
              "    <tr>\n",
              "      <th>1</th>\n",
              "      <td>6.421</td>\n",
              "      <td>9.14</td>\n",
              "      <td>17.8</td>\n",
              "      <td>453600.0</td>\n",
              "    </tr>\n",
              "    <tr>\n",
              "      <th>2</th>\n",
              "      <td>7.185</td>\n",
              "      <td>4.03</td>\n",
              "      <td>17.8</td>\n",
              "      <td>728700.0</td>\n",
              "    </tr>\n",
              "    <tr>\n",
              "      <th>3</th>\n",
              "      <td>6.998</td>\n",
              "      <td>2.94</td>\n",
              "      <td>18.7</td>\n",
              "      <td>701400.0</td>\n",
              "    </tr>\n",
              "    <tr>\n",
              "      <th>4</th>\n",
              "      <td>7.147</td>\n",
              "      <td>5.33</td>\n",
              "      <td>18.7</td>\n",
              "      <td>760200.0</td>\n",
              "    </tr>\n",
              "  </tbody>\n",
              "</table>\n",
              "</div>\n",
              "    <div class=\"colab-df-buttons\">\n",
              "\n",
              "  <div class=\"colab-df-container\">\n",
              "    <button class=\"colab-df-convert\" onclick=\"convertToInteractive('df-daae4419-709c-46a0-a384-99861bc08ef8')\"\n",
              "            title=\"Convert this dataframe to an interactive table.\"\n",
              "            style=\"display:none;\">\n",
              "\n",
              "  <svg xmlns=\"http://www.w3.org/2000/svg\" height=\"24px\" viewBox=\"0 -960 960 960\">\n",
              "    <path d=\"M120-120v-720h720v720H120Zm60-500h600v-160H180v160Zm220 220h160v-160H400v160Zm0 220h160v-160H400v160ZM180-400h160v-160H180v160Zm440 0h160v-160H620v160ZM180-180h160v-160H180v160Zm440 0h160v-160H620v160Z\"/>\n",
              "  </svg>\n",
              "    </button>\n",
              "\n",
              "  <style>\n",
              "    .colab-df-container {\n",
              "      display:flex;\n",
              "      gap: 12px;\n",
              "    }\n",
              "\n",
              "    .colab-df-convert {\n",
              "      background-color: #E8F0FE;\n",
              "      border: none;\n",
              "      border-radius: 50%;\n",
              "      cursor: pointer;\n",
              "      display: none;\n",
              "      fill: #1967D2;\n",
              "      height: 32px;\n",
              "      padding: 0 0 0 0;\n",
              "      width: 32px;\n",
              "    }\n",
              "\n",
              "    .colab-df-convert:hover {\n",
              "      background-color: #E2EBFA;\n",
              "      box-shadow: 0px 1px 2px rgba(60, 64, 67, 0.3), 0px 1px 3px 1px rgba(60, 64, 67, 0.15);\n",
              "      fill: #174EA6;\n",
              "    }\n",
              "\n",
              "    .colab-df-buttons div {\n",
              "      margin-bottom: 4px;\n",
              "    }\n",
              "\n",
              "    [theme=dark] .colab-df-convert {\n",
              "      background-color: #3B4455;\n",
              "      fill: #D2E3FC;\n",
              "    }\n",
              "\n",
              "    [theme=dark] .colab-df-convert:hover {\n",
              "      background-color: #434B5C;\n",
              "      box-shadow: 0px 1px 3px 1px rgba(0, 0, 0, 0.15);\n",
              "      filter: drop-shadow(0px 1px 2px rgba(0, 0, 0, 0.3));\n",
              "      fill: #FFFFFF;\n",
              "    }\n",
              "  </style>\n",
              "\n",
              "    <script>\n",
              "      const buttonEl =\n",
              "        document.querySelector('#df-daae4419-709c-46a0-a384-99861bc08ef8 button.colab-df-convert');\n",
              "      buttonEl.style.display =\n",
              "        google.colab.kernel.accessAllowed ? 'block' : 'none';\n",
              "\n",
              "      async function convertToInteractive(key) {\n",
              "        const element = document.querySelector('#df-daae4419-709c-46a0-a384-99861bc08ef8');\n",
              "        const dataTable =\n",
              "          await google.colab.kernel.invokeFunction('convertToInteractive',\n",
              "                                                    [key], {});\n",
              "        if (!dataTable) return;\n",
              "\n",
              "        const docLinkHtml = 'Like what you see? Visit the ' +\n",
              "          '<a target=\"_blank\" href=https://colab.research.google.com/notebooks/data_table.ipynb>data table notebook</a>'\n",
              "          + ' to learn more about interactive tables.';\n",
              "        element.innerHTML = '';\n",
              "        dataTable['output_type'] = 'display_data';\n",
              "        await google.colab.output.renderOutput(dataTable, element);\n",
              "        const docLink = document.createElement('div');\n",
              "        docLink.innerHTML = docLinkHtml;\n",
              "        element.appendChild(docLink);\n",
              "      }\n",
              "    </script>\n",
              "  </div>\n",
              "\n",
              "\n",
              "<div id=\"df-4632c81d-677d-4164-a6e9-e08ded534ece\">\n",
              "  <button class=\"colab-df-quickchart\" onclick=\"quickchart('df-4632c81d-677d-4164-a6e9-e08ded534ece')\"\n",
              "            title=\"Suggest charts\"\n",
              "            style=\"display:none;\">\n",
              "\n",
              "<svg xmlns=\"http://www.w3.org/2000/svg\" height=\"24px\"viewBox=\"0 0 24 24\"\n",
              "     width=\"24px\">\n",
              "    <g>\n",
              "        <path d=\"M19 3H5c-1.1 0-2 .9-2 2v14c0 1.1.9 2 2 2h14c1.1 0 2-.9 2-2V5c0-1.1-.9-2-2-2zM9 17H7v-7h2v7zm4 0h-2V7h2v10zm4 0h-2v-4h2v4z\"/>\n",
              "    </g>\n",
              "</svg>\n",
              "  </button>\n",
              "\n",
              "<style>\n",
              "  .colab-df-quickchart {\n",
              "      --bg-color: #E8F0FE;\n",
              "      --fill-color: #1967D2;\n",
              "      --hover-bg-color: #E2EBFA;\n",
              "      --hover-fill-color: #174EA6;\n",
              "      --disabled-fill-color: #AAA;\n",
              "      --disabled-bg-color: #DDD;\n",
              "  }\n",
              "\n",
              "  [theme=dark] .colab-df-quickchart {\n",
              "      --bg-color: #3B4455;\n",
              "      --fill-color: #D2E3FC;\n",
              "      --hover-bg-color: #434B5C;\n",
              "      --hover-fill-color: #FFFFFF;\n",
              "      --disabled-bg-color: #3B4455;\n",
              "      --disabled-fill-color: #666;\n",
              "  }\n",
              "\n",
              "  .colab-df-quickchart {\n",
              "    background-color: var(--bg-color);\n",
              "    border: none;\n",
              "    border-radius: 50%;\n",
              "    cursor: pointer;\n",
              "    display: none;\n",
              "    fill: var(--fill-color);\n",
              "    height: 32px;\n",
              "    padding: 0;\n",
              "    width: 32px;\n",
              "  }\n",
              "\n",
              "  .colab-df-quickchart:hover {\n",
              "    background-color: var(--hover-bg-color);\n",
              "    box-shadow: 0 1px 2px rgba(60, 64, 67, 0.3), 0 1px 3px 1px rgba(60, 64, 67, 0.15);\n",
              "    fill: var(--button-hover-fill-color);\n",
              "  }\n",
              "\n",
              "  .colab-df-quickchart-complete:disabled,\n",
              "  .colab-df-quickchart-complete:disabled:hover {\n",
              "    background-color: var(--disabled-bg-color);\n",
              "    fill: var(--disabled-fill-color);\n",
              "    box-shadow: none;\n",
              "  }\n",
              "\n",
              "  .colab-df-spinner {\n",
              "    border: 2px solid var(--fill-color);\n",
              "    border-color: transparent;\n",
              "    border-bottom-color: var(--fill-color);\n",
              "    animation:\n",
              "      spin 1s steps(1) infinite;\n",
              "  }\n",
              "\n",
              "  @keyframes spin {\n",
              "    0% {\n",
              "      border-color: transparent;\n",
              "      border-bottom-color: var(--fill-color);\n",
              "      border-left-color: var(--fill-color);\n",
              "    }\n",
              "    20% {\n",
              "      border-color: transparent;\n",
              "      border-left-color: var(--fill-color);\n",
              "      border-top-color: var(--fill-color);\n",
              "    }\n",
              "    30% {\n",
              "      border-color: transparent;\n",
              "      border-left-color: var(--fill-color);\n",
              "      border-top-color: var(--fill-color);\n",
              "      border-right-color: var(--fill-color);\n",
              "    }\n",
              "    40% {\n",
              "      border-color: transparent;\n",
              "      border-right-color: var(--fill-color);\n",
              "      border-top-color: var(--fill-color);\n",
              "    }\n",
              "    60% {\n",
              "      border-color: transparent;\n",
              "      border-right-color: var(--fill-color);\n",
              "    }\n",
              "    80% {\n",
              "      border-color: transparent;\n",
              "      border-right-color: var(--fill-color);\n",
              "      border-bottom-color: var(--fill-color);\n",
              "    }\n",
              "    90% {\n",
              "      border-color: transparent;\n",
              "      border-bottom-color: var(--fill-color);\n",
              "    }\n",
              "  }\n",
              "</style>\n",
              "\n",
              "  <script>\n",
              "    async function quickchart(key) {\n",
              "      const quickchartButtonEl =\n",
              "        document.querySelector('#' + key + ' button');\n",
              "      quickchartButtonEl.disabled = true;  // To prevent multiple clicks.\n",
              "      quickchartButtonEl.classList.add('colab-df-spinner');\n",
              "      try {\n",
              "        const charts = await google.colab.kernel.invokeFunction(\n",
              "            'suggestCharts', [key], {});\n",
              "      } catch (error) {\n",
              "        console.error('Error during call to suggestCharts:', error);\n",
              "      }\n",
              "      quickchartButtonEl.classList.remove('colab-df-spinner');\n",
              "      quickchartButtonEl.classList.add('colab-df-quickchart-complete');\n",
              "    }\n",
              "    (() => {\n",
              "      let quickchartButtonEl =\n",
              "        document.querySelector('#df-4632c81d-677d-4164-a6e9-e08ded534ece button');\n",
              "      quickchartButtonEl.style.display =\n",
              "        google.colab.kernel.accessAllowed ? 'block' : 'none';\n",
              "    })();\n",
              "  </script>\n",
              "</div>\n",
              "\n",
              "    </div>\n",
              "  </div>\n"
            ],
            "application/vnd.google.colaboratory.intrinsic+json": {
              "type": "dataframe",
              "variable_name": "data",
              "summary": "{\n  \"name\": \"data\",\n  \"rows\": 489,\n  \"fields\": [\n    {\n      \"column\": \"RM\",\n      \"properties\": {\n        \"dtype\": \"number\",\n        \"std\": 0.6436497627572431,\n        \"min\": 3.561,\n        \"max\": 8.398,\n        \"num_unique_values\": 430,\n        \"samples\": [\n          5.67,\n          6.232,\n          6.8\n        ],\n        \"semantic_type\": \"\",\n        \"description\": \"\"\n      }\n    },\n    {\n      \"column\": \"LSTAT\",\n      \"properties\": {\n        \"dtype\": \"number\",\n        \"std\": 7.081989789065134,\n        \"min\": 1.98,\n        \"max\": 37.97,\n        \"num_unique_values\": 442,\n        \"samples\": [\n          12.73,\n          4.14,\n          5.52\n        ],\n        \"semantic_type\": \"\",\n        \"description\": \"\"\n      }\n    },\n    {\n      \"column\": \"PTRATIO\",\n      \"properties\": {\n        \"dtype\": \"number\",\n        \"std\": 2.1112675026309873,\n        \"min\": 12.6,\n        \"max\": 22.0,\n        \"num_unique_values\": 44,\n        \"samples\": [\n          19.6,\n          16.6,\n          15.6\n        ],\n        \"semantic_type\": \"\",\n        \"description\": \"\"\n      }\n    },\n    {\n      \"column\": \"MEDV\",\n      \"properties\": {\n        \"dtype\": \"number\",\n        \"std\": 165340.27765266786,\n        \"min\": 105000.0,\n        \"max\": 1024800.0,\n        \"num_unique_values\": 228,\n        \"samples\": [\n          296100.0,\n          472500.0,\n          396900.0\n        ],\n        \"semantic_type\": \"\",\n        \"description\": \"\"\n      }\n    }\n  ]\n}"
            }
          },
          "metadata": {},
          "execution_count": 56
        }
      ]
    },
    {
      "cell_type": "code",
      "source": [
        "#write your code here\n",
        "\n",
        "#1- type of all data\n",
        "# print the shape of your data\n",
        "# display the basic statistics\n",
        "# display statistics of prediction column"
      ],
      "metadata": {
        "id": "p_vQ88kNuLXj"
      },
      "execution_count": 57,
      "outputs": []
    },
    {
      "cell_type": "code",
      "source": [
        "#1- type of all data\n",
        "data.info()"
      ],
      "metadata": {
        "colab": {
          "base_uri": "https://localhost:8080/"
        },
        "id": "YY46Ir6cxloY",
        "outputId": "481c434f-b1bd-4045-deb3-52e288d4b06c"
      },
      "execution_count": 58,
      "outputs": [
        {
          "output_type": "stream",
          "name": "stdout",
          "text": [
            "<class 'pandas.core.frame.DataFrame'>\n",
            "RangeIndex: 489 entries, 0 to 488\n",
            "Data columns (total 4 columns):\n",
            " #   Column   Non-Null Count  Dtype  \n",
            "---  ------   --------------  -----  \n",
            " 0   RM       489 non-null    float64\n",
            " 1   LSTAT    489 non-null    float64\n",
            " 2   PTRATIO  489 non-null    float64\n",
            " 3   MEDV     489 non-null    float64\n",
            "dtypes: float64(4)\n",
            "memory usage: 15.4 KB\n"
          ]
        }
      ]
    },
    {
      "cell_type": "code",
      "source": [
        "# print the shape of your data\n",
        "data.shape"
      ],
      "metadata": {
        "colab": {
          "base_uri": "https://localhost:8080/"
        },
        "id": "Z1hCQcGLxpnf",
        "outputId": "138be8c3-77ce-4e67-d6df-1f1b10db034a"
      },
      "execution_count": 59,
      "outputs": [
        {
          "output_type": "execute_result",
          "data": {
            "text/plain": [
              "(489, 4)"
            ]
          },
          "metadata": {},
          "execution_count": 59
        }
      ]
    },
    {
      "cell_type": "code",
      "source": [
        "# display the basic statistics\n"
      ],
      "metadata": {
        "id": "5sbuIGHFxuGv"
      },
      "execution_count": 60,
      "outputs": []
    },
    {
      "cell_type": "code",
      "source": [
        "# display statistics of prediction column"
      ],
      "metadata": {
        "id": "jgLkwkA2yvdb"
      },
      "execution_count": 61,
      "outputs": []
    },
    {
      "cell_type": "code",
      "source": [
        "prices = data['MEDV'] #target\n",
        "features = data.drop('MEDV', axis = 1)\n",
        "# print the shape of the data\n",
        "print('Boston housing dataset has {0} data points with {1} variables each.'.format(*data.shape))"
      ],
      "metadata": {
        "colab": {
          "base_uri": "https://localhost:8080/"
        },
        "id": "Ya4pdPXDzXOS",
        "outputId": "7eed179a-0bb2-4f3b-f78e-9abe05afc27f"
      },
      "execution_count": 62,
      "outputs": [
        {
          "output_type": "stream",
          "name": "stdout",
          "text": [
            "Boston housing dataset has 489 data points with 4 variables each.\n"
          ]
        }
      ]
    },
    {
      "cell_type": "markdown",
      "source": [
        "## Data Exploration"
      ],
      "metadata": {
        "id": "YsL1q7BN1Jd2"
      }
    },
    {
      "cell_type": "markdown",
      "source": [
        "### Implementation: Calculate Statistics\n",
        "***\n",
        "***"
      ],
      "metadata": {
        "id": "_utxHDuR1YV4"
      }
    },
    {
      "cell_type": "markdown",
      "source": [
        "* claculate the statistics for the code below\n",
        "* get the minimum  and the max of the price data\n",
        "* get the mean\n",
        "* get the median\n",
        "* get the mode\n",
        "* calculate the std\n",
        "- need to print the data"
      ],
      "metadata": {
        "id": "YUoJN_lV1ZiZ"
      }
    },
    {
      "cell_type": "code",
      "source": [
        "#getting min of prices\n",
        "min_price = prices.min()"
      ],
      "metadata": {
        "id": "IlTqhyWK1dxX"
      },
      "execution_count": 63,
      "outputs": []
    },
    {
      "cell_type": "code",
      "source": [
        "#getting max of prices\n",
        "max_price = prices.max()"
      ],
      "metadata": {
        "id": "o4jAaKDT1qky"
      },
      "execution_count": 64,
      "outputs": []
    },
    {
      "cell_type": "code",
      "source": [
        "#calculating mean\n",
        "total = len(prices)  #total of number of prices\n",
        "total_price = sum(prices) #sum of prices\n",
        "mean = total_price/total"
      ],
      "metadata": {
        "colab": {
          "base_uri": "https://localhost:8080/",
          "height": 211
        },
        "id": "jnwDpO7712c8",
        "outputId": "2d02a4f8-2252-4ed7-ed7d-17b8b26f7a5f"
      },
      "execution_count": 67,
      "outputs": [
        {
          "output_type": "error",
          "ename": "TypeError",
          "evalue": "'float' object is not callable",
          "traceback": [
            "\u001b[0;31m---------------------------------------------------------------------------\u001b[0m",
            "\u001b[0;31mTypeError\u001b[0m                                 Traceback (most recent call last)",
            "\u001b[0;32m<ipython-input-67-10c3d3753d1c>\u001b[0m in \u001b[0;36m<cell line: 4>\u001b[0;34m()\u001b[0m\n\u001b[1;32m      2\u001b[0m \u001b[0mtotal\u001b[0m \u001b[0;34m=\u001b[0m \u001b[0mlen\u001b[0m\u001b[0;34m(\u001b[0m\u001b[0mprices\u001b[0m\u001b[0;34m)\u001b[0m  \u001b[0;31m#total of number of prices\u001b[0m\u001b[0;34m\u001b[0m\u001b[0;34m\u001b[0m\u001b[0m\n\u001b[1;32m      3\u001b[0m \u001b[0;31m# Use a different variable name to avoid overwriting the built-in sum function\u001b[0m\u001b[0;34m\u001b[0m\u001b[0;34m\u001b[0m\u001b[0m\n\u001b[0;32m----> 4\u001b[0;31m \u001b[0mtotal_price\u001b[0m \u001b[0;34m=\u001b[0m \u001b[0msum\u001b[0m\u001b[0;34m(\u001b[0m\u001b[0mprices\u001b[0m\u001b[0;34m)\u001b[0m \u001b[0;31m#sum of prices\u001b[0m\u001b[0;34m\u001b[0m\u001b[0;34m\u001b[0m\u001b[0m\n\u001b[0m\u001b[1;32m      5\u001b[0m \u001b[0mmean\u001b[0m \u001b[0;34m=\u001b[0m \u001b[0mtotal_price\u001b[0m\u001b[0;34m/\u001b[0m\u001b[0mtotal\u001b[0m\u001b[0;34m\u001b[0m\u001b[0;34m\u001b[0m\u001b[0m\n\u001b[1;32m      6\u001b[0m \u001b[0mprint\u001b[0m\u001b[0;34m(\u001b[0m\u001b[0;34m'Mean = '\u001b[0m\u001b[0;34m,\u001b[0m\u001b[0mmean\u001b[0m\u001b[0;34m)\u001b[0m\u001b[0;34m\u001b[0m\u001b[0;34m\u001b[0m\u001b[0m\n",
            "\u001b[0;31mTypeError\u001b[0m: 'float' object is not callable"
          ]
        }
      ]
    },
    {
      "cell_type": "code",
      "source": [
        "#getting the median\n",
        "median = prices.median()"
      ],
      "metadata": {
        "id": "7VEjeOB92gT5"
      },
      "execution_count": 68,
      "outputs": []
    },
    {
      "cell_type": "code",
      "source": [
        "#getting the standard deviation\n",
        "# importing Statistics module\n",
        "import statistics\n",
        "stdev = statistics.stdev(prices)\n"
      ],
      "metadata": {
        "id": "oagITGVJ26ZU"
      },
      "execution_count": 72,
      "outputs": []
    },
    {
      "cell_type": "code",
      "source": [
        "# TODO: Minimum price of the data\n",
        "minimum_price = min_price\n",
        "\n",
        "# TODO: Maximum price of the data\n",
        "maximum_price = max_price\n",
        "\n",
        "# TODO: Mean price of the data\n",
        "mean_price = mean\n",
        "\n",
        "# TODO: Median price of the data\n",
        "median_price = median\n",
        "\n",
        "# TODO: Standard deviation of prices of the data\n",
        "std_price = stdev\n",
        "\n",
        "# Show the calculated statistics\n",
        "print(\"Statistics for Boston housing dataset:\\n\")\n",
        "print(\"Minimum price: ${:,.2f}\".format(minimum_price))\n",
        "print(\"Maximum price: ${:,.2f}\".format(maximum_price))\n",
        "print(\"Mean price: ${:,.2f}\".format(mean_price))\n",
        "print(\"Median price ${:,.2f}\".format(median_price))\n",
        "print(\"Standard deviation of prices: ${:,.2f}\".format(std_price))"
      ],
      "metadata": {
        "colab": {
          "base_uri": "https://localhost:8080/"
        },
        "id": "pwGo9jWH1sjw",
        "outputId": "d6d876c1-695f-473e-ee2e-c1976b83aecb"
      },
      "execution_count": 73,
      "outputs": [
        {
          "output_type": "stream",
          "name": "stdout",
          "text": [
            "Statistics for Boston housing dataset:\n",
            "\n",
            "Minimum price: $105,000.00\n",
            "Maximum price: $1,024,800.00\n",
            "Mean price: $454,342.94\n",
            "Median price $438,900.00\n",
            "Standard deviation of prices: $165,340.28\n"
          ]
        }
      ]
    },
    {
      "cell_type": "markdown",
      "source": [
        "### Question 1 - Feature Observation\n",
        "As a reminder, we are using three features from the Boston housing dataset: `'RM'`, `'LSTAT'`, and `'PTRATIO'`. For each data point (neighborhood):\n",
        "- `'RM'` is the average number of rooms among homes in the neighborhood.\n",
        "- `'LSTAT'` is the percentage of homeowners in the neighborhood considered \"lower class\" (working poor).\n",
        "- `'PTRATIO'` is the ratio of students to teachers in primary and secondary schools in the neighborhood.\n",
        "\n",
        "\n",
        "** Using your intuition, for each of the three features above, do you think that an increase in the value of that feature would lead to an **increase** in the value of `'MEDV'` or a **decrease** in the value of `'MEDV'`? Justify your answer for each.**\n"
      ],
      "metadata": {
        "id": "wAlihKgC3MxR"
      }
    },
    {
      "cell_type": "markdown",
      "source": [
        "## ** answer the question below **\n",
        "## your answer will reflect your understand"
      ],
      "metadata": {
        "id": "1hvvGb5z3PuJ"
      }
    },
    {
      "cell_type": "markdown",
      "source": [
        "* Would you expect a home that has an `'RM'` value(number of rooms) of 6 be worth more or less than a home that has an `'RM'` value of 7?\n"
      ],
      "metadata": {
        "id": "AqOEKPlo6NS5"
      }
    },
    {
      "cell_type": "markdown",
      "source": [
        "answer:\n"
      ],
      "metadata": {
        "id": "H9mCP9KV6RVM"
      }
    },
    {
      "cell_type": "markdown",
      "source": [
        "* Would you expect a neighborhood that has an `'LSTAT'` value(percent of lower class workers) of 15 have home prices be worth more or less than a neighborhood that has an `'LSTAT'` value of 20?\n"
      ],
      "metadata": {
        "id": "2OAdbW9A6XnT"
      }
    },
    {
      "cell_type": "markdown",
      "source": [
        "answer:"
      ],
      "metadata": {
        "id": "SbtFUdGX6ZUD"
      }
    },
    {
      "cell_type": "markdown",
      "source": [
        "* Would you expect a neighborhood that has an `'PTRATIO'` value(ratio of students to teachers) of 10 have home prices be worth more or less than a neighborhood that has an `'PTRATIO'` value of 15?"
      ],
      "metadata": {
        "id": "fTLYQS_X6cvl"
      }
    },
    {
      "cell_type": "markdown",
      "source": [
        "answer:"
      ],
      "metadata": {
        "id": "Gkv3cOnS6eKN"
      }
    },
    {
      "cell_type": "markdown",
      "source": [
        "----\n",
        "\n",
        "## Developing a Model\n",
        "In this second section of the project, you will develop the tools and techniques necessary for a model to make a prediction. Being able to make accurate evaluations of each model's performance through the use of these tools and techniques helps to greatly reinforce the confidence in your predictions."
      ],
      "metadata": {
        "id": "B_8_c61W6hSs"
      }
    },
    {
      "cell_type": "code",
      "source": [
        "from sklearn.model_selection import train_test_split\n",
        "x_train,x_test,y_train,y_test = train_test_split(x,y,test_size=0.25,random_state=42)"
      ],
      "metadata": {
        "id": "NxXHsCw764Fl"
      },
      "execution_count": 75,
      "outputs": []
    },
    {
      "cell_type": "code",
      "source": [
        "def get_y_pred(x_train,y_train,x_test):\n",
        "     from sklearn.linear_model import LinearRegression\n",
        "     model = LinearRegression()\n",
        "     model.fit(x_train,y_train)\n",
        "     y_pred = model.predict(x_test)\n",
        "     return y_pred"
      ],
      "metadata": {
        "id": "6oxiu9O07RWN"
      },
      "execution_count": 87,
      "outputs": []
    },
    {
      "cell_type": "code",
      "source": [
        "# TODO: Import 'r2_score'\n",
        "from sklearn.metrics import r2_score\n",
        "\n",
        "def performance_metric(y_test, y_predict):\n",
        "    y_pred =get_y_pred(x_train,y_train,x_test)\n",
        "\n",
        "    # TODO: Calculate the performance score between 'y_test' and 'y_predict'\n",
        "    score = r2_score(y_test, y_predict)\n",
        "\n",
        "    # Return the score\n",
        "    return score"
      ],
      "metadata": {
        "id": "TlfvnzFW6dbW"
      },
      "execution_count": 88,
      "outputs": []
    },
    {
      "cell_type": "code",
      "source": [
        "performance_metric(y_test,get_y_pred(x_train,y_train,x_test))\n"
      ],
      "metadata": {
        "colab": {
          "base_uri": "https://localhost:8080/"
        },
        "id": "IkSVRFSO6uJI",
        "outputId": "4f8b474a-60de-4a9e-f495-98637907bdf1"
      },
      "execution_count": 89,
      "outputs": [
        {
          "output_type": "execute_result",
          "data": {
            "text/plain": [
              "1.0"
            ]
          },
          "metadata": {},
          "execution_count": 89
        }
      ]
    },
    {
      "cell_type": "markdown",
      "source": [
        "### Question 2 - Goodness of Fit\n",
        "Assume that a dataset contains five data points and a model made the following predictions for the target variable:\n",
        "\n",
        "| True Value | Prediction |\n",
        "| :-------------: | :--------: |\n",
        "| 3.0 | 2.5 |\n",
        "| -0.5 | 0.0 |\n",
        "| 2.0 | 2.1 |\n",
        "| 7.0 | 7.8 |\n",
        "| 4.2 | 5.3 |\n",
        "\n",
        "Run the code cell below to use the `performance_metric` function and calculate this model's coefficient of determination."
      ],
      "metadata": {
        "id": "yyTyoLyb9G5y"
      }
    },
    {
      "cell_type": "code",
      "source": [
        "# Calculate the performance of this model\n",
        "score = performance_metric([3, -0.5, 2, 7, 4.2], [2.5, 0.0, 2.1, 7.8, 5.3])\n",
        "print (\"Model has a coefficient of determination, R^2, of {:.3f}.\".format(score))"
      ],
      "metadata": {
        "colab": {
          "base_uri": "https://localhost:8080/"
        },
        "id": "MqaRaLZA71eD",
        "outputId": "72859885-e791-41f3-9773-011db8121763"
      },
      "execution_count": 90,
      "outputs": [
        {
          "output_type": "stream",
          "name": "stdout",
          "text": [
            "Model has a coefficient of determination, R^2, of 0.923.\n"
          ]
        }
      ]
    },
    {
      "cell_type": "markdown",
      "source": [
        "* Would you consider this model to have successfully captured the variation of the target variable?\n",
        "* Why or why not?\n",
        "\n",
        "** Hint: **  The R2 score is the proportion of the variance in the dependent variable that is predictable from the independent variable. In other words:\n",
        "* R2 score of 0 means that the dependent variable cannot be predicted from the independent variable.\n",
        "* R2 score of 1 means the dependent variable can be predicted from the independent variable.\n",
        "* R2 score between 0 and 1 indicates the extent to which the dependent variable is predictable. An\n",
        "* R2 score of 0.40 means that 40 percent of the variance in Y is predictable from X."
      ],
      "metadata": {
        "id": "QNkN9yvE9Ns4"
      }
    },
    {
      "cell_type": "markdown",
      "source": [
        "answer:"
      ],
      "metadata": {
        "id": "QJjNqWHE9O7H"
      }
    },
    {
      "cell_type": "code",
      "source": [],
      "metadata": {
        "id": "nhS9amhd9JZb"
      },
      "execution_count": null,
      "outputs": []
    }
  ]
}