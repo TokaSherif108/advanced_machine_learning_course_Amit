{
 "cells": [
  {
   "cell_type": "markdown",
   "metadata": {},
   "source": [
    "\n",
    "<div style=\"border-radius:10px;\n",
    "            border : #015a2c solid;\n",
    "            background-color:#D7D9DB;\n",
    "           font-size:110%;\n",
    "           letter-spacing:0.5px;\n",
    "            text-align: center\">\n",
    "​\n",
    "<center><h1 style=\"padding: 25px 0px; color:#015a4c; font-weight: bold; font-family: Cursive\">\n",
    "Amit Project for Data Science Module <br><br>💡💡💡💡💡 <br><br> AI Online 74  </h1></center>\n",
    "<center><h3 style=\"padding-bottom: 25px; color:#025b2c; font-weight: bold; font-style:italic; font-family: Cursive\">\n",
    "Using Project: Trip data Ford go bike  </h3></center>     \n",
    "​\n",
    "</div>"
   ]
  },
  {
   "cell_type": "markdown",
   "metadata": {},
   "source": [
    "# Part I - (Dataset Exploration for Ford GoBike)\n",
    "\n",
    "### worked by ( Toka Sherif /2024 )\n",
    "\n",
    "## Introduction\n",
    "\n",
    ".\n",
    "\n",
    "> **Let's introduce our dataset:**\n",
    "\n",
    "\n",
    "======================================\n",
    "\n",
    ".\n",
    "\n",
    "**This data set information was produced from `Ford GoBike` System** the information in it talked about individual rides that were made in a bike-sharing system for covering San Francisco Bay area.** \n",
    "\n",
    ".\n"
   ]
  },
  {
   "cell_type": "markdown",
   "metadata": {},
   "source": [
    "\n",
    "\n",
    "> ## And here are the main exploring questions \n",
    "\n",
    "\n",
    "\n",
    "   **==================================================**\n",
    "\n",
    "\n",
    "\n",
    "- What is the structure of your dataset?\n",
    "\n",
    "\n",
    "- What are the main interesting features in the dataset?\n",
    "\n",
    "\n",
    "- What features in the dataset supported my investigation for these interesting features?\n",
    "\n",
    "\n",
    "\n",
    "\n",
    ".\n",
    "\n",
    "> ### Also here are the investigative questions classified into three types\n",
    "\n",
    "\n",
    "\n",
    "   **================================================**\n",
    "   \n",
    "   \n",
    "\n",
    "\n",
    "###  <a href='#011'> Univariate Exploration</a> \n",
    "\n",
    "- <a href='#1'> 1 ) . What is the distribution of `User type`?</a>  \n",
    "- <a href='#2'> 2 ) . What is the distribution for the `bike share users on all Trips`?</a>  \n",
    "- <a href='#3'> 3 ) . What is the distribution for users' `ages`?</a>  \n",
    "- <a href='#4'> 4 ) . Do the users' ages have `outlier` values?</a>\n",
    "- <a href='#5'> 5 ) . What is the distribution for the trip duration in `minutes`? </a>\n",
    "- <a href='#6'> 6) . What is the distribution for `member_gender`? </a>\n",
    "- <a href='#7'> 7) . What is the distribution for the trip duration in `Hours`?  </a>\n",
    "\n",
    "\n",
    "\n",
    "\n",
    "##  <a href='#111'> Bivariate Exploration</a> \n",
    "\n",
    "\n",
    "- <a href='#8'> 8 ) . What the `average duration` of trip for the categories of `user type`? </a>\n",
    "- <a href='#9'> 9 ) . How long is the duration of the trip for `each gender` in `minutes`? </a>\n",
    "- <a href='#10'> 10 ) . How long is the duration of the trip for each `user_type` in `minutes`?  </a>\n",
    "- <a href='#11'> 11 ) . How the user distribution depending on their `Age` and `user_type` ?</a>\n",
    "- <a href='#12'>12 ). How the user distribution depending on their `Age` and `member_gender` ?  </a>\n",
    "\n",
    "\n",
    "##  <a href='#1111'> Multivariate Exploration</a> \n",
    "\n",
    "\n",
    "- <a href='#13'> 13 ) . What is the Correlation between `each` variable in the dataset?</a>  \n",
    "- <a href='#14'> 14 ) . What is the Correlation between `specific numeric variables` in the dataset?</a>  \n",
    "- <a href='#15'> 15 ) . What is the  Correlation between `data_stat` variables in the dataset?</a>  \n",
    "\n",
    "\n",
    "##  <a href='#1100'> Conclusions </a> \n",
    "\n",
    "\n",
    "\n"
   ]
  },
  {
   "cell_type": "markdown",
   "metadata": {},
   "source": [
    "# <p style=\"border-radius:15px;border-style:solid;border-color:lightblue;border-width:3px;background-color:lightblue;padding: 20px;font-family:Verdana;color:#D81F26;font-size:30px;text-align: center;\">Import Libraries</p>"
   ]
  },
  {
   "cell_type": "code",
   "execution_count": null,
   "metadata": {},
   "outputs": [],
   "source": [
    "import numpy as np # linear algebra\n",
    "import pandas as pd # data processing, CSV file I/O (e.g. pd.read_csv)\n",
    "import os\n",
    "import matplotlib.pyplot as plt\n",
    "\n",
    "import seaborn as sb\n",
    "\n",
    "%matplotlib inline"
   ]
  },
  {
   "cell_type": "code",
   "execution_count": null,
   "metadata": {},
   "outputs": [],
   "source": [
    "# Load my dataset using pandas Dataframe\n",
    "\n"
   ]
  },
  {
   "cell_type": "code",
   "execution_count": null,
   "metadata": {},
   "outputs": [],
   "source": [
    "# here we make overview in high-level for data shape and composition\n",
    "\n"
   ]
  },
  {
   "cell_type": "code",
   "execution_count": null,
   "metadata": {},
   "outputs": [],
   "source": [
    "## check each var  datatype \n",
    "\n"
   ]
  },
  {
   "cell_type": "code",
   "execution_count": null,
   "metadata": {},
   "outputs": [],
   "source": [
    "## I display 15 rows to understand the content values more \n",
    "\n"
   ]
  },
  {
   "cell_type": "code",
   "execution_count": null,
   "metadata": {},
   "outputs": [],
   "source": [
    "# descriptive statistics for numeric variables\n"
   ]
  },
  {
   "cell_type": "markdown",
   "metadata": {},
   "source": [
    "\n",
    "\n",
    "> ### What is the structure of your dataset?\n",
    "\n",
    "\n",
    "\n",
    "\n",
    "\n",
    "- The structure of the dataset contains  ..... columns and ....... rows.\n",
    " \n",
    " \n",
    "- Most variables are ...... in nature , and here are **dtypes summary :**\n",
    "\n",
    "        - .....(7)\n",
    "        - .....(2)\n",
    "        - .....(7)\n",
    "        \n",
    "\n",
    "\n",
    "\n",
    "> ### What are the main interesting features in the dataset?\n",
    "\n",
    "\n",
    "\n",
    "\n",
    " **We got three main feature areas which are :**\n",
    " \n",
    " \n",
    " \n",
    " \n",
    "- \n",
    " \n",
    " \n",
    " \n",
    "- \n",
    " \n",
    "  \n",
    " \n",
    "  \n",
    "- \n",
    "\n",
    "\n",
    "\n",
    "\n",
    "> ### What features in the dataset supported my investigation for these interesting features?\n",
    "\n",
    "\n",
    "\n",
    "- \n",
    "\n",
    "\n",
    "\n",
    "- \n",
    "\n",
    "\n",
    "\n",
    "- \n",
    "\n",
    "\n",
    "\n",
    "-\n",
    "\n",
    "\n",
    "\n",
    "\n",
    "- \n",
    "\n",
    "\n"
   ]
  },
  {
   "cell_type": "markdown",
   "metadata": {},
   "source": [
    "##  More Exploring ideas to begin my investigation"
   ]
  },
  {
   "cell_type": "code",
   "execution_count": null,
   "metadata": {},
   "outputs": [],
   "source": [
    "#This code for describing statistical data ideas in a more organized and readable table\n",
    "\n"
   ]
  },
  {
   "cell_type": "code",
   "execution_count": null,
   "metadata": {},
   "outputs": [],
   "source": [
    "# display the information about each column\n",
    "\n"
   ]
  },
  {
   "cell_type": "markdown",
   "metadata": {},
   "source": [
    "## <mark>The above result show some missing values exist in some columns So let's display them </mark>"
   ]
  },
  {
   "cell_type": "code",
   "execution_count": null,
   "metadata": {},
   "outputs": [],
   "source": [
    "#yOUR CODES"
   ]
  },
  {
   "cell_type": "markdown",
   "metadata": {},
   "source": [
    "\n",
    "\n",
    "> ## <mark>The result above shows many missing data </mark>\n",
    "\n",
    "\n",
    "\n",
    "###  To fix this issue You will fill these values with ........... for numeric and ......for categorical"
   ]
  },
  {
   "cell_type": "code",
   "execution_count": null,
   "metadata": {},
   "outputs": [],
   "source": [
    "# trying to fill missing values in my datset using for loop \n",
    "\n",
    "\n"
   ]
  },
  {
   "cell_type": "code",
   "execution_count": null,
   "metadata": {},
   "outputs": [],
   "source": [
    "#check the Nulls \n"
   ]
  },
  {
   "cell_type": "markdown",
   "metadata": {},
   "source": [
    "### **And with a proper category for other (member gender)**"
   ]
  },
  {
   "cell_type": "code",
   "execution_count": null,
   "metadata": {},
   "outputs": [],
   "source": [
    "##  still got a missing value in the member_gender, so let's explore this column more \n",
    "\n",
    "# print(gbf.member_gender.head(15))"
   ]
  },
  {
   "cell_type": "code",
   "execution_count": null,
   "metadata": {},
   "outputs": [],
   "source": [
    "# fill  dataset with missing values.\n",
    "    \n"
   ]
  },
  {
   "cell_type": "code",
   "execution_count": null,
   "metadata": {},
   "outputs": [],
   "source": [
    "# print(gbf.member_gender.head(15))"
   ]
  },
  {
   "cell_type": "code",
   "execution_count": null,
   "metadata": {},
   "outputs": [],
   "source": [
    "## check my result above \n",
    "\n"
   ]
  },
  {
   "cell_type": "markdown",
   "metadata": {},
   "source": [
    "> ## <mark>The result above shows that we deal with all missing data </mark>"
   ]
  },
  {
   "cell_type": "markdown",
   "metadata": {},
   "source": [
    "### Now let's check duplicate value"
   ]
  },
  {
   "cell_type": "code",
   "execution_count": null,
   "metadata": {},
   "outputs": [],
   "source": [
    "##  check duplicate in dataset\n",
    "\n"
   ]
  },
  {
   "cell_type": "markdown",
   "metadata": {},
   "source": [
    "> ##If Not significant duplicated , so won't clean it \n",
    "\n",
    "\n",
    "### Now let's check the category columns to make more cleaning dataset "
   ]
  },
  {
   "cell_type": "markdown",
   "metadata": {},
   "source": []
  },
  {
   "cell_type": "code",
   "execution_count": null,
   "metadata": {},
   "outputs": [],
   "source": [
    "### check the category columns that included object\n"
   ]
  },
  {
   "cell_type": "markdown",
   "metadata": {},
   "source": [
    " > ## From all previous results above I found  :\n",
    " \n",
    " \n",
    " \n",
    " **=========================================================**\n",
    " \n",
    " \n",
    "\n",
    "> 1 ) **unique Value** as in ((`member_gender`)) : Not significant , so won't clean it\n",
    "\n",
    "\n",
    "\n",
    "> 2 ) **Incorrect data type** as in (( `user_type` &&\t`member_gender`)) :  significant change , so I need to clean it.\n",
    "\n",
    "\n",
    "> 3 ) **Good factor** for marketing work as in ((`member_birth_year`)) : so I need to clean it."
   ]
  },
  {
   "cell_type": "code",
   "execution_count": null,
   "metadata": {},
   "outputs": [],
   "source": [
    "##  step  2 ) Incorrect data type as in (( `user_type` &&\t`member_gender`)) :  significant change , so  need to clean it.\n",
    "\n"
   ]
  },
  {
   "cell_type": "code",
   "execution_count": null,
   "metadata": {},
   "outputs": [],
   "source": [
    "## check your work \n",
    "\n"
   ]
  },
  {
   "cell_type": "code",
   "execution_count": null,
   "metadata": {},
   "outputs": [],
   "source": [
    "## step 3 ) Good factor for marketing work as in ((`member_birth_year`)) : so need to clean it.\n",
    "## To know the target audience's age and serve on them\n",
    "\n",
    "# create a column for users' age depending on the current year\n",
    "\n"
   ]
  },
  {
   "cell_type": "code",
   "execution_count": null,
   "metadata": {},
   "outputs": [],
   "source": [
    "## check your work \n",
    "\n"
   ]
  },
  {
   "cell_type": "code",
   "execution_count": null,
   "metadata": {},
   "outputs": [],
   "source": [
    "## change the new column age data type from float to int\n",
    "\n"
   ]
  },
  {
   "cell_type": "code",
   "execution_count": null,
   "metadata": {},
   "outputs": [],
   "source": [
    "## create a function to know the average users ages\n"
   ]
  },
  {
   "cell_type": "code",
   "execution_count": null,
   "metadata": {},
   "outputs": [],
   "source": [
    "## another important factor to offer  marketing services is the trip duration time \n",
    "\n",
    "## need to change the time from second to minute to be more usable\n",
    "\n",
    "\n"
   ]
  },
  {
   "cell_type": "code",
   "execution_count": null,
   "metadata": {},
   "outputs": [],
   "source": [
    "## I need to change the time from second to Houre  to be more usable\n",
    "\n"
   ]
  },
  {
   "cell_type": "code",
   "execution_count": null,
   "metadata": {},
   "outputs": [],
   "source": [
    "## check your work \n"
   ]
  },
  {
   "cell_type": "markdown",
   "metadata": {},
   "source": []
  },
  {
   "cell_type": "markdown",
   "metadata": {},
   "source": [
    "\n",
    "# <p style=\"border-radius:15px;border-style:solid;border-color:lightblue;border-width:3px;background-color:lightblue;padding: 20px;font-family:Verdana;color:#D81F26;font-size:30px;text-align: center;\">Univariate Exploration</p>\n",
    "# <a id=\"011\"> Univariate Exploration</a>\n",
    "\n",
    "\n",
    "\n",
    "> In this section, investigate distributions of individual variables. If\n",
    "you see unusual points or outliers, take a deeper look to clean things up\n",
    "and prepare yourself to look at relationships between variables.\n",
    "\n"
   ]
  },
  {
   "cell_type": "markdown",
   "metadata": {},
   "source": [
    "\n",
    "# <a id=\"1\"> 1 ) . What is the distribution for User type?</a>"
   ]
  },
  {
   "cell_type": "code",
   "execution_count": null,
   "metadata": {},
   "outputs": [],
   "source": [
    "## I will import seaborn library to support me in making visualizations \n",
    "\n",
    "import seaborn as sns\n",
    "# plt.figure(figsize = (10,5), dpi = 200)\n",
    "\n",
    "# plot = sns.countplot(data=gbf, x='bike_share_for_all_trip')\n",
    "\n",
    "# plt.xlabel('User distribution')\n",
    "# plt.ylabel('Frequency')\n",
    "# plt.title(\"Represent the user's distribution depending on being a part of the Trips Program\")\n",
    "\n",
    "# plt.show()"
   ]
  },
  {
   "cell_type": "markdown",
   "metadata": {},
   "source": [
    "> ### <mark>Your analsys and exploration here </mark>"
   ]
  },
  {
   "cell_type": "markdown",
   "metadata": {},
   "source": [
    "# <a id=\"2\"> 2 ) What is the distribution for the bike share users on all Trips?</a>"
   ]
  },
  {
   "cell_type": "markdown",
   "metadata": {},
   "source": [
    "> ### <mark>Your analsys and exploration here </mark>"
   ]
  },
  {
   "cell_type": "markdown",
   "metadata": {},
   "source": [
    "# <a id=\"3\"> 3 ) What is the distribution for users' ages? </a>"
   ]
  },
  {
   "cell_type": "markdown",
   "metadata": {},
   "source": [
    "> ### <mark>Your analsys and exploration here </mark>"
   ]
  },
  {
   "cell_type": "markdown",
   "metadata": {},
   "source": [
    "\n",
    "# <a id=\"4\">  4 ) . Do the users' ages have outlier values?</a>\n"
   ]
  },
  {
   "cell_type": "markdown",
   "metadata": {},
   "source": [
    "> ### <mark>Your analsys and exploration here </mark>"
   ]
  },
  {
   "cell_type": "markdown",
   "metadata": {},
   "source": [
    "# <a id=\"5\">  5 ) . What is the distribution for the trip duration in minutes? </a>"
   ]
  },
  {
   "cell_type": "code",
   "execution_count": null,
   "metadata": {},
   "outputs": [],
   "source": [
    "## Review the statistic for trip duration in minutes\n",
    "\n"
   ]
  },
  {
   "cell_type": "code",
   "execution_count": null,
   "metadata": {},
   "outputs": [],
   "source": [
    "# Make visualization to easy get insight\n"
   ]
  },
  {
   "cell_type": "markdown",
   "metadata": {},
   "source": [
    "> ### <mark>Your analsys and exploration here </mark>"
   ]
  },
  {
   "cell_type": "markdown",
   "metadata": {},
   "source": [
    "\n",
    "# <a id=\"6\"> 6 ) . What is the distribution for member_gender?</a>"
   ]
  },
  {
   "cell_type": "code",
   "execution_count": null,
   "metadata": {},
   "outputs": [],
   "source": [
    "# Make visualization to easy get insight\n"
   ]
  },
  {
   "cell_type": "markdown",
   "metadata": {},
   "source": [
    "> ### <mark>Your analsys and exploration here </mark>"
   ]
  },
  {
   "cell_type": "markdown",
   "metadata": {},
   "source": [
    "# <a id=\"7\">    7 )  . What is the distribution for the trip duration in Hours?  </a>"
   ]
  },
  {
   "cell_type": "code",
   "execution_count": null,
   "metadata": {},
   "outputs": [],
   "source": [
    "# Make visualization to easy get insight\n"
   ]
  },
  {
   "cell_type": "markdown",
   "metadata": {},
   "source": [
    "> ### <mark>Your analsys and exploration here </mark>"
   ]
  },
  {
   "cell_type": "markdown",
   "metadata": {},
   "source": [
    "### The variables distribution:\n",
    "\n",
    "\n",
    "> The distribution of duration present that most of the trips were less than 30 minutes ( we can notice that from the minutes and the hour charts )\n",
    "\n",
    "\n",
    "> And the Age distribution is ( left Skewed ) as most users age are  22 - 39\n",
    "\n",
    "\n",
    "> Most users are subscribers, not Customers and  Males as shown in the charts above.\n",
    "\n",
    "\n",
    "\n",
    "### Were there any interesting and outliers \n",
    "\n",
    "\n",
    "- We got Age outliers for for more than 100 .\n",
    "\n",
    "\n",
    "\n",
    "- The distribution of duration was strange where the minutes and the hour charts were 30 minutes or less."
   ]
  },
  {
   "cell_type": "markdown",
   "metadata": {},
   "source": [
    "# <p style=\"border-radius:15px;border-style:solid;border-color:lightblue;border-width:3px;background-color:lightblue;padding: 20px;font-family:Verdana;color:#D81F26;font-size:30px;text-align: center;\">Bivariate Exploration</p>\n",
    "# <a id=\"111\"> Bivariate Exploration</a>\n",
    "\n",
    "Now let's investigate relationships between pairs of variables in our data."
   ]
  },
  {
   "cell_type": "markdown",
   "metadata": {},
   "source": [
    "# <a id=\"8\"> 8) . What the average duration of trip for the categories of user type?</a>"
   ]
  },
  {
   "cell_type": "code",
   "execution_count": null,
   "metadata": {},
   "outputs": [],
   "source": [
    "# Distribution of Age by user types\n",
    "\n"
   ]
  },
  {
   "cell_type": "markdown",
   "metadata": {},
   "source": [
    "# Make visualization to easy get insight\n"
   ]
  },
  {
   "cell_type": "markdown",
   "metadata": {},
   "source": [
    "> ### <mark>Your analsys and exploration here </mark>"
   ]
  },
  {
   "cell_type": "markdown",
   "metadata": {},
   "source": [
    "# <a id=\"9\">    9 ) . How long is the duration of the trip for each gender in minutes?  </a>"
   ]
  },
  {
   "cell_type": "code",
   "execution_count": null,
   "metadata": {},
   "outputs": [],
   "source": [
    "# Make visualization to easy get insight\n",
    "\n",
    "# ------------------------Duration distribution by member gender\n",
    "\n"
   ]
  },
  {
   "cell_type": "markdown",
   "metadata": {},
   "source": [
    "# Make visualization to easy get insight\n"
   ]
  },
  {
   "cell_type": "markdown",
   "metadata": {},
   "source": [
    "> ### <mark>Your analsys and exploration here </mark>"
   ]
  },
  {
   "cell_type": "markdown",
   "metadata": {},
   "source": [
    "# <a id=\"10 \"> 10 ) . How long is the duration of the trip for each user_type in minutes?  </a>"
   ]
  },
  {
   "cell_type": "code",
   "execution_count": null,
   "metadata": {},
   "outputs": [],
   "source": [
    "\n",
    "# Make visualization to easy get insight\n"
   ]
  },
  {
   "cell_type": "markdown",
   "metadata": {},
   "source": [
    "> ### <mark>Your analsys and exploration here </mark>"
   ]
  },
  {
   "cell_type": "markdown",
   "metadata": {},
   "source": [
    "# <a id=\"11\">  11 ) . How the user distribution depending on their Age and user_type ? </a>"
   ]
  },
  {
   "cell_type": "code",
   "execution_count": null,
   "metadata": {},
   "outputs": [],
   "source": [
    "\n",
    "# Make visualization to easy get insight\n"
   ]
  },
  {
   "cell_type": "markdown",
   "metadata": {},
   "source": [
    "> ### <mark>Your analsys and exploration here </mark>"
   ]
  },
  {
   "cell_type": "markdown",
   "metadata": {},
   "source": [
    "#  <a id=\"12\"> 12 ). How the user distribution depending on their Age and member_gender ?</a>"
   ]
  },
  {
   "cell_type": "code",
   "execution_count": null,
   "metadata": {},
   "outputs": [],
   "source": [
    "# Make visualization to easy get insight\n"
   ]
  },
  {
   "cell_type": "markdown",
   "metadata": {},
   "source": [
    "> ### <mark>Your analsys and exploration here </mark>"
   ]
  },
  {
   "cell_type": "markdown",
   "metadata": {},
   "source": [
    "### Talk about some of the relationships you observed in this part of the investigation. How did the feature(s) of interest vary with other features in the dataset?\n",
    "\n",
    "> ...................\n",
    "\n",
    "\n",
    "### Did you observe any interesting relationships between the other features (not the main feature(s) of interest)?\n",
    "\n",
    "> ...................."
   ]
  },
  {
   "cell_type": "markdown",
   "metadata": {},
   "source": [
    "# <p style=\"border-radius:15px;border-style:solid;border-color:lightblue;border-width:3px;background-color:lightblue;padding: 20px;font-family:Verdana;color:#D81F26;font-size:30px;text-align: center;\">Multivariate Exploration</p>\n",
    "# <a id=\"1111\"> Multivariate Exploration </a>\n",
    "\n",
    "> Create plots of three or more variables to investigate your data even\n",
    "further. Make sure that your investigations are justified, and follow from\n",
    "your work in the previous sections."
   ]
  },
  {
   "cell_type": "code",
   "execution_count": null,
   "metadata": {},
   "outputs": [],
   "source": [
    "## check your work \n"
   ]
  },
  {
   "cell_type": "markdown",
   "metadata": {},
   "source": [
    "\n",
    "# <a id=\"13\">  13 ) . What is the  Correlation between each variable in the dataset?</a>"
   ]
  },
  {
   "cell_type": "code",
   "execution_count": null,
   "metadata": {},
   "outputs": [],
   "source": [
    "# Make visualization to easy get insight\n"
   ]
  },
  {
   "cell_type": "markdown",
   "metadata": {},
   "source": [
    "\n",
    "\n",
    "> ### <mark>Your analsys and exploration here </mark>\n",
    "\n",
    "Example usage\n",
    "- There is `no Correlation` for any variable with time ( `duration sec /minutes/hours`)\n"
   ]
  },
  {
   "cell_type": "markdown",
   "metadata": {},
   "source": [
    "\n",
    "# <a id=\"14\"> 14 )  .  What is the  Correlation between `specific numeric variables` in the dataset?</a>\n"
   ]
  },
  {
   "cell_type": "code",
   "execution_count": null,
   "metadata": {},
   "outputs": [],
   "source": [
    "# Make visualization to easy get insight\n",
    "\n",
    "\n"
   ]
  },
  {
   "cell_type": "markdown",
   "metadata": {},
   "source": [
    "> ### <mark>Your analsys and exploration here </mark>\n",
    "\n",
    "Example usage\n",
    "- There is `no Correlation` for any variable with time ( `duration sec /minutes`)\n",
    "\n",
    "\n",
    "\n",
    "\n",
    "- \n",
    "\n",
    "\n",
    "\n",
    "\n",
    "- \n",
    "\n",
    "\n"
   ]
  },
  {
   "cell_type": "markdown",
   "metadata": {},
   "source": [
    "# <a id=\"15\">  15 ) What is the  Correlation between data_stat variables in the dataset?</a>\n"
   ]
  },
  {
   "cell_type": "code",
   "execution_count": null,
   "metadata": {},
   "outputs": [
    {
     "data": {
      "text/plain": [
       "'\"\"This time I will use heatmap  to explain how Correlation between data_stat variables\\n\\nin the dataset in more clear and specific percentage'"
      ]
     },
     "metadata": {},
     "output_type": "display_data"
    }
   ],
   "source": [
    "\n",
    "\"\"\"\"\"This time I will use heatmap  to explain how Correlation between data_stat variables\n",
    "\n",
    "in the dataset in more clear and specific percentage\"\"\"\n",
    "\n",
    "# Make visualization to easy get insight\n",
    "\n"
   ]
  },
  {
   "cell_type": "markdown",
   "metadata": {},
   "source": [
    "> ### <mark>The above charts show how Correlation between specific numeric variables in the dataset using heatmap plots  </mark>\n",
    "\n",
    "\n",
    "\n",
    "**Actually the `heat map`  display the above ideas in clear percentages**\n",
    "\n",
    "\n",
    "\n",
    "- There is `no Correlation` for any variable with time ( `duration sec /minutes`)\n",
    "\n",
    "\n",
    "\n",
    "\n",
    "- There is a `negative  Correlation` between  member_birth_year  and age which normal.\n",
    "\n",
    "\n",
    "\n",
    "\n",
    "- There is `no significant Correlation` for any variable with `bike_id `\n",
    "\n"
   ]
  },
  {
   "cell_type": "markdown",
   "metadata": {},
   "source": [
    "# <p style=\"border-radius:15px;border-style:solid;border-color:lightblue;border-width:3px;background-color:lightblue;padding: 20px;font-family:Verdana;color:#D81F26;font-size:30px;text-align: center;\">Conclusions</p>\n",
    "# <a id=\"1100\"> Conclusions </a>\n",
    "\n",
    "#example\n",
    "- Most users were Male.\n",
    "\n",
    "\n",
    "- \n",
    "\n",
    "- \n",
    "\n",
    "- \n",
    "\n",
    "\n",
    "\n",
    "## limitation \n",
    "example\n",
    "- We got missing data which we fix some of them .\n",
    "\n",
    "- \n"
   ]
  },
  {
   "cell_type": "markdown",
   "metadata": {},
   "source": []
  }
 ],
 "metadata": {
  "language_info": {
   "name": "python"
  }
 },
 "nbformat": 4,
 "nbformat_minor": 2
}
