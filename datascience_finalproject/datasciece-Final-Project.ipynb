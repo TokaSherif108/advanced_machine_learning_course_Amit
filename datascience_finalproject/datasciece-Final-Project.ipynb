{
 "cells": [
  {
   "cell_type": "markdown",
   "id": "58b74018",
   "metadata": {
    "execution": {
     "iopub.execute_input": "2022-07-09T14:25:43.577524Z",
     "iopub.status.busy": "2022-07-09T14:25:43.577125Z",
     "iopub.status.idle": "2022-07-09T14:25:43.583064Z",
     "shell.execute_reply": "2022-07-09T14:25:43.581948Z",
     "shell.execute_reply.started": "2022-07-09T14:25:43.577494Z"
    },
    "papermill": {
     "duration": 0.020455,
     "end_time": "2024-05-08T19:18:46.175321",
     "exception": false,
     "start_time": "2024-05-08T19:18:46.154866",
     "status": "completed"
    },
    "tags": []
   },
   "source": [
    "\n",
    "<div style=\"border-radius:10px;\n",
    "            border : #015a2c solid;\n",
    "            background-color:#D7D9DB;\n",
    "           font-size:110%;\n",
    "           letter-spacing:0.5px;\n",
    "            text-align: center\">\n",
    "​\n",
    "<center><h1 style=\"padding: 25px 0px; color:#015a4c; font-weight: bold; font-family: Cursive\">\n",
    "Amit Project for Data Science Module <br><br>💡💡💡💡💡 <br><br> AI Online 74  </h1></center>\n",
    "<center><h3 style=\"padding-bottom: 25px; color:#025b2c; font-weight: bold; font-style:italic; font-family: Cursive\">\n",
    "Using Project: Trip data Ford go bike  </h3></center>     \n",
    "​\n",
    "</div>"
   ]
  },
  {
   "cell_type": "markdown",
   "id": "8255d1c5",
   "metadata": {
    "papermill": {
     "duration": 0.019782,
     "end_time": "2024-05-08T19:18:46.214320",
     "exception": false,
     "start_time": "2024-05-08T19:18:46.194538",
     "status": "completed"
    },
    "tags": []
   },
   "source": [
    "# Part I - (Dataset Exploration for Ford GoBike)\n",
    "\n",
    "### worked by (Your Name/2024 )\n",
    "\n",
    "## Introduction\n",
    "\n",
    ".\n",
    "\n",
    "> **Let's introduce our dataset:**\n",
    "\n",
    "\n",
    "======================================\n",
    "\n",
    ".\n",
    "\n",
    "**This data set information was produced from `Ford GoBike` System** the information in it talked about individual rides that were made in a bike-sharing system for covering San Francisco Bay area.** \n",
    "\n",
    ".\n"
   ]
  },
  {
   "cell_type": "markdown",
   "id": "5da4edda",
   "metadata": {
    "papermill": {
     "duration": 0.018105,
     "end_time": "2024-05-08T19:18:46.251444",
     "exception": false,
     "start_time": "2024-05-08T19:18:46.233339",
     "status": "completed"
    },
    "tags": []
   },
   "source": [
    "\n",
    "\n",
    "> ## And here are the main exploring questions \n",
    "\n",
    "\n",
    "\n",
    "   **==================================================**\n",
    "\n",
    "\n",
    "\n",
    "- What is the structure of your dataset?\n",
    "\n",
    "\n",
    "- What are the main interesting features in the dataset?\n",
    "\n",
    "\n",
    "- What features in the dataset supported my investigation for these interesting features?\n",
    "\n",
    "\n",
    "\n",
    "\n",
    ".\n",
    "\n",
    "> ### Also here are the investigative questions classified into three types\n",
    "\n",
    "\n",
    "\n",
    "   **================================================**\n",
    "   \n",
    "   \n",
    "\n",
    "\n",
    "###  <a href='#011'> Univariate Exploration</a> \n",
    "\n",
    "- <a href='#1'> 1 ) . What is the distribution of `User type`?</a>  \n",
    "- <a href='#2'> 2 ) . What is the distribution for the `bike share users on all Trips`?</a>  \n",
    "- <a href='#3'> 3 ) . What is the distribution for users' `ages`?</a>  \n",
    "- <a href='#4'> 4 ) . Do the users' ages have `outlier` values?</a>\n",
    "- <a href='#5'> 5 ) . What is the distribution for the trip duration in `minutes`? </a>\n",
    "- <a href='#6'> 6) . What is the distribution for `member_gender`? </a>\n",
    "- <a href='#7'> 7) . What is the distribution for the trip duration in `Hours`?  </a>\n",
    "\n",
    "\n",
    "\n",
    "\n",
    "##  <a href='#111'> Bivariate Exploration</a> \n",
    "\n",
    "\n",
    "- <a href='#8'> 8 ) . What the `average duration` of trip for the categories of `user type`? </a>\n",
    "- <a href='#9'> 9 ) . How long is the duration of the trip for `each gender` in `minutes`? </a>\n",
    "- <a href='#10'> 10 ) . How long is the duration of the trip for each `user_type` in `minutes`?  </a>\n",
    "- <a href='#11'> 11 ) . How the user distribution depending on their `Age` and `user_type` ?</a>\n",
    "- <a href='#12'>12 ). How the user distribution depending on their `Age` and `member_gender` ?  </a>\n",
    "\n",
    "\n",
    "##  <a href='#1111'> Multivariate Exploration</a> \n",
    "\n",
    "\n",
    "- <a href='#13'> 13 ) . What is the Correlation between `each` variable in the dataset?</a>  \n",
    "- <a href='#14'> 14 ) . What is the Correlation between `specific numeric variables` in the dataset?</a>  \n",
    "- <a href='#15'> 15 ) . What is the  Correlation between `data_stat` variables in the dataset?</a>  \n",
    "\n",
    "\n",
    "##  <a href='#1100'> Conclusions </a> \n",
    "\n",
    "\n",
    "\n"
   ]
  },
  {
   "cell_type": "markdown",
   "id": "f600ad88",
   "metadata": {
    "papermill": {
     "duration": 0.018288,
     "end_time": "2024-05-08T19:18:46.353867",
     "exception": false,
     "start_time": "2024-05-08T19:18:46.335579",
     "status": "completed"
    },
    "tags": []
   },
   "source": [
    "# <p style=\"border-radius:15px;border-style:solid;border-color:lightblue;border-width:3px;background-color:lightblue;padding: 20px;font-family:Verdana;color:#D81F26;font-size:30px;text-align: center;\">Import Libraries</p>"
   ]
  },
  {
   "cell_type": "code",
   "execution_count": 2,
   "id": "be25aff1",
   "metadata": {
    "execution": {
     "iopub.execute_input": "2024-05-08T19:18:46.395860Z",
     "iopub.status.busy": "2024-05-08T19:18:46.394969Z",
     "iopub.status.idle": "2024-05-08T19:18:47.624619Z",
     "shell.execute_reply": "2024-05-08T19:18:47.623289Z"
    },
    "papermill": {
     "duration": 1.255463,
     "end_time": "2024-05-08T19:18:47.627956",
     "exception": false,
     "start_time": "2024-05-08T19:18:46.372493",
     "status": "completed"
    },
    "tags": []
   },
   "outputs": [],
   "source": [
    "import numpy as np # linear algebra\n",
    "import pandas as pd # data processing, CSV file I/O (e.g. pd.read_csv)\n",
    "import os\n",
    "import matplotlib.pyplot as plt\n",
    "\n",
    "import seaborn as sb\n",
    "\n",
    "%matplotlib inline"
   ]
  },
  {
   "cell_type": "code",
   "execution_count": 14,
   "id": "ca12f426",
   "metadata": {
    "execution": {
     "iopub.execute_input": "2024-05-08T19:18:47.668552Z",
     "iopub.status.busy": "2024-05-08T19:18:47.667822Z",
     "iopub.status.idle": "2024-05-08T19:18:48.581464Z",
     "shell.execute_reply": "2024-05-08T19:18:48.580158Z"
    },
    "papermill": {
     "duration": 0.937184,
     "end_time": "2024-05-08T19:18:48.584608",
     "exception": false,
     "start_time": "2024-05-08T19:18:47.647424",
     "status": "completed"
    },
    "tags": []
   },
   "outputs": [],
   "source": [
    "# Load my dataset using pandas Dataframe\n",
    "\n"
   ]
  },
  {
   "cell_type": "code",
   "execution_count": 13,
   "id": "77211578",
   "metadata": {
    "execution": {
     "iopub.execute_input": "2024-05-08T19:18:48.623710Z",
     "iopub.status.busy": "2024-05-08T19:18:48.623116Z",
     "iopub.status.idle": "2024-05-08T19:18:48.629135Z",
     "shell.execute_reply": "2024-05-08T19:18:48.627907Z"
    },
    "papermill": {
     "duration": 0.028342,
     "end_time": "2024-05-08T19:18:48.631603",
     "exception": false,
     "start_time": "2024-05-08T19:18:48.603261",
     "status": "completed"
    },
    "tags": []
   },
   "outputs": [],
   "source": [
    "# here we make overview in high-level for data shape and composition\n",
    "\n"
   ]
  },
  {
   "cell_type": "code",
   "execution_count": 15,
   "id": "ba2001a7",
   "metadata": {
    "execution": {
     "iopub.execute_input": "2024-05-08T19:18:48.671066Z",
     "iopub.status.busy": "2024-05-08T19:18:48.670599Z",
     "iopub.status.idle": "2024-05-08T19:18:48.678028Z",
     "shell.execute_reply": "2024-05-08T19:18:48.676571Z"
    },
    "papermill": {
     "duration": 0.03103,
     "end_time": "2024-05-08T19:18:48.681691",
     "exception": false,
     "start_time": "2024-05-08T19:18:48.650661",
     "status": "completed"
    },
    "tags": []
   },
   "outputs": [],
   "source": [
    "## check each var  datatype \n",
    "\n"
   ]
  },
  {
   "cell_type": "code",
   "execution_count": 16,
   "id": "10407f10",
   "metadata": {
    "execution": {
     "iopub.execute_input": "2024-05-08T19:18:48.722892Z",
     "iopub.status.busy": "2024-05-08T19:18:48.722449Z",
     "iopub.status.idle": "2024-05-08T19:18:48.743090Z",
     "shell.execute_reply": "2024-05-08T19:18:48.741887Z"
    },
    "papermill": {
     "duration": 0.044069,
     "end_time": "2024-05-08T19:18:48.745705",
     "exception": false,
     "start_time": "2024-05-08T19:18:48.701636",
     "status": "completed"
    },
    "tags": []
   },
   "outputs": [],
   "source": [
    "## I display 15 rows to understand the content values more \n",
    "\n"
   ]
  },
  {
   "cell_type": "code",
   "execution_count": 17,
   "id": "2ea7b86a",
   "metadata": {
    "execution": {
     "iopub.execute_input": "2024-05-08T19:18:48.785984Z",
     "iopub.status.busy": "2024-05-08T19:18:48.785173Z",
     "iopub.status.idle": "2024-05-08T19:18:48.917818Z",
     "shell.execute_reply": "2024-05-08T19:18:48.916122Z"
    },
    "papermill": {
     "duration": 0.156422,
     "end_time": "2024-05-08T19:18:48.920941",
     "exception": false,
     "start_time": "2024-05-08T19:18:48.764519",
     "status": "completed"
    },
    "tags": []
   },
   "outputs": [],
   "source": [
    "# descriptive statistics for numeric variables\n"
   ]
  },
  {
   "cell_type": "markdown",
   "id": "4eae9eea",
   "metadata": {
    "execution": {
     "iopub.execute_input": "2022-07-09T14:43:28.843544Z",
     "iopub.status.busy": "2022-07-09T14:43:28.843133Z",
     "iopub.status.idle": "2022-07-09T14:43:29.410168Z",
     "shell.execute_reply": "2022-07-09T14:43:29.409279Z",
     "shell.execute_reply.started": "2022-07-09T14:43:28.84351Z"
    },
    "papermill": {
     "duration": 0.01949,
     "end_time": "2024-05-08T19:18:48.959466",
     "exception": false,
     "start_time": "2024-05-08T19:18:48.939976",
     "status": "completed"
    },
    "tags": []
   },
   "source": [
    "\n",
    "\n",
    "> ### What is the structure of your dataset?\n",
    "\n",
    "\n",
    "\n",
    "\n",
    "\n",
    "- The structure of the dataset contains  ..... columns and ....... rows.\n",
    " \n",
    " \n",
    "- Most variables are ...... in nature , and here are **dtypes summary :**\n",
    "\n",
    "        - .....(7)\n",
    "        - .....(2)\n",
    "        - .....(7)\n",
    "        \n",
    "\n",
    "\n",
    "\n",
    "> ### What are the main interesting features in the dataset?\n",
    "\n",
    "\n",
    "\n",
    "\n",
    " **We got three main feature areas which are :**\n",
    " \n",
    " \n",
    " \n",
    " \n",
    "- \n",
    " \n",
    " \n",
    " \n",
    "- \n",
    " \n",
    "  \n",
    " \n",
    "  \n",
    "- \n",
    "\n",
    "\n",
    "\n",
    "\n",
    "> ### What features in the dataset supported my investigation for these interesting features?\n",
    "\n",
    "\n",
    "\n",
    "- \n",
    "\n",
    "\n",
    "\n",
    "- \n",
    "\n",
    "\n",
    "\n",
    "- \n",
    "\n",
    "\n",
    "\n",
    "-\n",
    "\n",
    "\n",
    "\n",
    "\n",
    "- \n",
    "\n",
    "\n"
   ]
  },
  {
   "cell_type": "markdown",
   "id": "c2f86aee",
   "metadata": {
    "execution": {
     "iopub.execute_input": "2022-07-30T03:19:48.371337Z",
     "iopub.status.busy": "2022-07-30T03:19:48.370908Z",
     "iopub.status.idle": "2022-07-30T03:19:48.376456Z",
     "shell.execute_reply": "2022-07-30T03:19:48.375263Z",
     "shell.execute_reply.started": "2022-07-30T03:19:48.371292Z"
    },
    "papermill": {
     "duration": 0.018643,
     "end_time": "2024-05-08T19:18:48.997310",
     "exception": false,
     "start_time": "2024-05-08T19:18:48.978667",
     "status": "completed"
    },
    "tags": []
   },
   "source": [
    "##  More Exploring ideas to begin my investigation"
   ]
  },
  {
   "cell_type": "code",
   "execution_count": 18,
   "id": "67439e25",
   "metadata": {
    "execution": {
     "iopub.execute_input": "2024-05-08T19:18:49.038282Z",
     "iopub.status.busy": "2024-05-08T19:18:49.037800Z",
     "iopub.status.idle": "2024-05-08T19:18:49.168949Z",
     "shell.execute_reply": "2024-05-08T19:18:49.167261Z"
    },
    "papermill": {
     "duration": 0.155189,
     "end_time": "2024-05-08T19:18:49.172375",
     "exception": false,
     "start_time": "2024-05-08T19:18:49.017186",
     "status": "completed"
    },
    "tags": []
   },
   "outputs": [],
   "source": [
    "#This code for describing statistical data ideas in a more organized and readable table\n",
    "\n"
   ]
  },
  {
   "cell_type": "code",
   "execution_count": 19,
   "id": "1c1776a1",
   "metadata": {
    "execution": {
     "iopub.execute_input": "2024-05-08T19:18:49.221830Z",
     "iopub.status.busy": "2024-05-08T19:18:49.221408Z",
     "iopub.status.idle": "2024-05-08T19:18:49.311952Z",
     "shell.execute_reply": "2024-05-08T19:18:49.309888Z"
    },
    "papermill": {
     "duration": 0.115831,
     "end_time": "2024-05-08T19:18:49.315083",
     "exception": false,
     "start_time": "2024-05-08T19:18:49.199252",
     "status": "completed"
    },
    "tags": []
   },
   "outputs": [],
   "source": [
    "# display the information about each column\n",
    "\n"
   ]
  },
  {
   "cell_type": "markdown",
   "id": "c847664a",
   "metadata": {
    "papermill": {
     "duration": 0.020416,
     "end_time": "2024-05-08T19:18:49.357002",
     "exception": false,
     "start_time": "2024-05-08T19:18:49.336586",
     "status": "completed"
    },
    "tags": []
   },
   "source": [
    "## <mark>The above result show some missing values exist in some columns So let's display them </mark>"
   ]
  },
  {
   "cell_type": "code",
   "execution_count": 20,
   "id": "b35fa248",
   "metadata": {
    "execution": {
     "iopub.execute_input": "2024-05-08T19:18:49.399184Z",
     "iopub.status.busy": "2024-05-08T19:18:49.398751Z",
     "iopub.status.idle": "2024-05-08T19:18:49.477290Z",
     "shell.execute_reply": "2024-05-08T19:18:49.475887Z"
    },
    "papermill": {
     "duration": 0.102282,
     "end_time": "2024-05-08T19:18:49.480112",
     "exception": false,
     "start_time": "2024-05-08T19:18:49.377830",
     "status": "completed"
    },
    "tags": []
   },
   "outputs": [],
   "source": [
    "#yOUR CODES"
   ]
  },
  {
   "cell_type": "markdown",
   "id": "e29ddd13",
   "metadata": {
    "papermill": {
     "duration": 0.020625,
     "end_time": "2024-05-08T19:18:49.521635",
     "exception": false,
     "start_time": "2024-05-08T19:18:49.501010",
     "status": "completed"
    },
    "tags": []
   },
   "source": [
    "\n",
    "\n",
    "> ## <mark>The result above shows many missing data </mark>\n",
    "\n",
    "\n",
    "\n",
    "###  To fix this issue You will fill these values with ........... for numeric and ......for categorical"
   ]
  },
  {
   "cell_type": "code",
   "execution_count": null,
   "id": "290bf1eb",
   "metadata": {
    "execution": {
     "iopub.execute_input": "2024-05-08T19:18:49.563277Z",
     "iopub.status.busy": "2024-05-08T19:18:49.562861Z",
     "iopub.status.idle": "2024-05-08T19:18:49.641347Z",
     "shell.execute_reply": "2024-05-08T19:18:49.640013Z"
    },
    "papermill": {
     "duration": 0.102178,
     "end_time": "2024-05-08T19:18:49.644179",
     "exception": false,
     "start_time": "2024-05-08T19:18:49.542001",
     "status": "completed"
    },
    "tags": []
   },
   "outputs": [],
   "source": [
    "# trying to fill missing values in my datset using for loop \n",
    "\n",
    "\n"
   ]
  },
  {
   "cell_type": "code",
   "execution_count": 21,
   "id": "9609a1af",
   "metadata": {
    "execution": {
     "iopub.execute_input": "2024-05-08T19:18:49.685764Z",
     "iopub.status.busy": "2024-05-08T19:18:49.685335Z",
     "iopub.status.idle": "2024-05-08T19:18:49.764792Z",
     "shell.execute_reply": "2024-05-08T19:18:49.763405Z"
    },
    "papermill": {
     "duration": 0.103491,
     "end_time": "2024-05-08T19:18:49.767579",
     "exception": false,
     "start_time": "2024-05-08T19:18:49.664088",
     "status": "completed"
    },
    "tags": []
   },
   "outputs": [],
   "source": [
    "#check the Nulls \n"
   ]
  },
  {
   "cell_type": "markdown",
   "id": "d41407c1",
   "metadata": {
    "papermill": {
     "duration": 0.019537,
     "end_time": "2024-05-08T19:18:49.808235",
     "exception": false,
     "start_time": "2024-05-08T19:18:49.788698",
     "status": "completed"
    },
    "tags": []
   },
   "source": [
    "### **And with a proper category for other (member gender)**"
   ]
  },
  {
   "cell_type": "code",
   "execution_count": 22,
   "id": "c713848e",
   "metadata": {
    "execution": {
     "iopub.execute_input": "2024-05-08T19:18:49.849728Z",
     "iopub.status.busy": "2024-05-08T19:18:49.849329Z",
     "iopub.status.idle": "2024-05-08T19:18:49.856593Z",
     "shell.execute_reply": "2024-05-08T19:18:49.855292Z"
    },
    "papermill": {
     "duration": 0.031278,
     "end_time": "2024-05-08T19:18:49.859460",
     "exception": false,
     "start_time": "2024-05-08T19:18:49.828182",
     "status": "completed"
    },
    "tags": []
   },
   "outputs": [],
   "source": [
    "##  still got a missing value in the member_gender, so let's explore this column more \n",
    "\n",
    "# print(gbf.member_gender.head(15))"
   ]
  },
  {
   "cell_type": "code",
   "execution_count": 23,
   "id": "d325b144",
   "metadata": {
    "execution": {
     "iopub.execute_input": "2024-05-08T19:18:49.901264Z",
     "iopub.status.busy": "2024-05-08T19:18:49.900822Z",
     "iopub.status.idle": "2024-05-08T19:18:49.920563Z",
     "shell.execute_reply": "2024-05-08T19:18:49.919286Z"
    },
    "papermill": {
     "duration": 0.044514,
     "end_time": "2024-05-08T19:18:49.923678",
     "exception": false,
     "start_time": "2024-05-08T19:18:49.879164",
     "status": "completed"
    },
    "tags": []
   },
   "outputs": [],
   "source": [
    "# fill  dataset with missing values.\n",
    "    \n"
   ]
  },
  {
   "cell_type": "code",
   "execution_count": 24,
   "id": "37328e6f",
   "metadata": {
    "execution": {
     "iopub.execute_input": "2024-05-08T19:18:49.965917Z",
     "iopub.status.busy": "2024-05-08T19:18:49.965487Z",
     "iopub.status.idle": "2024-05-08T19:18:49.973222Z",
     "shell.execute_reply": "2024-05-08T19:18:49.971688Z"
    },
    "papermill": {
     "duration": 0.032513,
     "end_time": "2024-05-08T19:18:49.976123",
     "exception": false,
     "start_time": "2024-05-08T19:18:49.943610",
     "status": "completed"
    },
    "tags": []
   },
   "outputs": [],
   "source": [
    "# print(gbf.member_gender.head(15))"
   ]
  },
  {
   "cell_type": "code",
   "execution_count": 25,
   "id": "f965efd2",
   "metadata": {
    "execution": {
     "iopub.execute_input": "2024-05-08T19:18:50.018002Z",
     "iopub.status.busy": "2024-05-08T19:18:50.017545Z",
     "iopub.status.idle": "2024-05-08T19:18:50.095031Z",
     "shell.execute_reply": "2024-05-08T19:18:50.093789Z"
    },
    "papermill": {
     "duration": 0.101688,
     "end_time": "2024-05-08T19:18:50.097806",
     "exception": false,
     "start_time": "2024-05-08T19:18:49.996118",
     "status": "completed"
    },
    "tags": []
   },
   "outputs": [],
   "source": [
    "## check my result above \n",
    "\n"
   ]
  },
  {
   "cell_type": "markdown",
   "id": "3c492d96",
   "metadata": {
    "papermill": {
     "duration": 0.020179,
     "end_time": "2024-05-08T19:18:50.138323",
     "exception": false,
     "start_time": "2024-05-08T19:18:50.118144",
     "status": "completed"
    },
    "tags": []
   },
   "source": [
    "> ## <mark>The result above shows that we deal with all missing data </mark>"
   ]
  },
  {
   "cell_type": "markdown",
   "id": "898da118",
   "metadata": {
    "papermill": {
     "duration": 0.02091,
     "end_time": "2024-05-08T19:18:50.179612",
     "exception": false,
     "start_time": "2024-05-08T19:18:50.158702",
     "status": "completed"
    },
    "tags": []
   },
   "source": [
    "### Now let's check duplicate value"
   ]
  },
  {
   "cell_type": "code",
   "execution_count": 26,
   "id": "8a75c2b0",
   "metadata": {
    "execution": {
     "iopub.execute_input": "2024-05-08T19:18:50.224473Z",
     "iopub.status.busy": "2024-05-08T19:18:50.224022Z",
     "iopub.status.idle": "2024-05-08T19:18:50.444357Z",
     "shell.execute_reply": "2024-05-08T19:18:50.442986Z"
    },
    "papermill": {
     "duration": 0.245305,
     "end_time": "2024-05-08T19:18:50.447038",
     "exception": false,
     "start_time": "2024-05-08T19:18:50.201733",
     "status": "completed"
    },
    "tags": []
   },
   "outputs": [],
   "source": [
    "##  check duplicate in dataset\n",
    "\n"
   ]
  },
  {
   "cell_type": "markdown",
   "id": "03c9e674",
   "metadata": {
    "papermill": {
     "duration": 0.021079,
     "end_time": "2024-05-08T19:18:50.489125",
     "exception": false,
     "start_time": "2024-05-08T19:18:50.468046",
     "status": "completed"
    },
    "tags": []
   },
   "source": [
    "> ##If Not significant duplicated , so won't clean it \n",
    "\n",
    "\n",
    "### Now let's check the category columns to make more cleaning dataset "
   ]
  },
  {
   "cell_type": "markdown",
   "id": "77e0fe0d",
   "metadata": {},
   "source": []
  },
  {
   "cell_type": "code",
   "execution_count": 27,
   "id": "b0ca328c",
   "metadata": {
    "execution": {
     "iopub.execute_input": "2024-05-08T19:18:50.531712Z",
     "iopub.status.busy": "2024-05-08T19:18:50.531257Z",
     "iopub.status.idle": "2024-05-08T19:18:50.825026Z",
     "shell.execute_reply": "2024-05-08T19:18:50.823700Z"
    },
    "papermill": {
     "duration": 0.318114,
     "end_time": "2024-05-08T19:18:50.827691",
     "exception": false,
     "start_time": "2024-05-08T19:18:50.509577",
     "status": "completed"
    },
    "tags": []
   },
   "outputs": [],
   "source": [
    "### check the category columns that included object\n"
   ]
  },
  {
   "cell_type": "markdown",
   "id": "c4d5c747",
   "metadata": {
    "papermill": {
     "duration": 0.020478,
     "end_time": "2024-05-08T19:18:50.869371",
     "exception": false,
     "start_time": "2024-05-08T19:18:50.848893",
     "status": "completed"
    },
    "tags": []
   },
   "source": [
    " > ## From all previous results above I found  :\n",
    " \n",
    " \n",
    " \n",
    " **=========================================================**\n",
    " \n",
    " \n",
    "\n",
    "> 1 ) **unique Value** as in ((`member_gender`)) : Not significant , so won't clean it\n",
    "\n",
    "\n",
    "\n",
    "> 2 ) **Incorrect data type** as in (( `user_type` &&\t`member_gender`)) :  significant change , so I need to clean it.\n",
    "\n",
    "\n",
    "> 3 ) **Good factor** for marketing work as in ((`member_birth_year`)) : so I need to clean it."
   ]
  },
  {
   "cell_type": "code",
   "execution_count": 28,
   "id": "6d5e42ea",
   "metadata": {
    "execution": {
     "iopub.execute_input": "2024-05-08T19:18:50.913447Z",
     "iopub.status.busy": "2024-05-08T19:18:50.912988Z",
     "iopub.status.idle": "2024-05-08T19:18:50.972279Z",
     "shell.execute_reply": "2024-05-08T19:18:50.970960Z"
    },
    "papermill": {
     "duration": 0.084749,
     "end_time": "2024-05-08T19:18:50.974963",
     "exception": false,
     "start_time": "2024-05-08T19:18:50.890214",
     "status": "completed"
    },
    "tags": []
   },
   "outputs": [],
   "source": [
    "##  step  2 ) Incorrect data type as in (( `user_type` &&\t`member_gender`)) :  significant change , so  need to clean it.\n",
    "\n"
   ]
  },
  {
   "cell_type": "code",
   "execution_count": 29,
   "id": "53487898",
   "metadata": {
    "execution": {
     "iopub.execute_input": "2024-05-08T19:18:51.019200Z",
     "iopub.status.busy": "2024-05-08T19:18:51.018738Z",
     "iopub.status.idle": "2024-05-08T19:18:51.083808Z",
     "shell.execute_reply": "2024-05-08T19:18:51.081907Z"
    },
    "papermill": {
     "duration": 0.090425,
     "end_time": "2024-05-08T19:18:51.086398",
     "exception": false,
     "start_time": "2024-05-08T19:18:50.995973",
     "status": "completed"
    },
    "tags": []
   },
   "outputs": [],
   "source": [
    "## check your work \n",
    "\n"
   ]
  },
  {
   "cell_type": "code",
   "execution_count": 30,
   "id": "8cad598c",
   "metadata": {
    "execution": {
     "iopub.execute_input": "2024-05-08T19:18:51.131723Z",
     "iopub.status.busy": "2024-05-08T19:18:51.130903Z",
     "iopub.status.idle": "2024-05-08T19:18:51.138039Z",
     "shell.execute_reply": "2024-05-08T19:18:51.136935Z"
    },
    "papermill": {
     "duration": 0.033714,
     "end_time": "2024-05-08T19:18:51.140820",
     "exception": false,
     "start_time": "2024-05-08T19:18:51.107106",
     "status": "completed"
    },
    "tags": []
   },
   "outputs": [],
   "source": [
    "## step 3 ) Good factor for marketing work as in ((`member_birth_year`)) : so need to clean it.\n",
    "## To know the target audience's age and serve on them\n",
    "\n",
    "# create a column for users' age depending on the current year\n",
    "\n"
   ]
  },
  {
   "cell_type": "code",
   "execution_count": 36,
   "id": "ebd88c51",
   "metadata": {
    "execution": {
     "iopub.execute_input": "2024-05-08T19:18:51.184908Z",
     "iopub.status.busy": "2024-05-08T19:18:51.184040Z",
     "iopub.status.idle": "2024-05-08T19:18:51.213533Z",
     "shell.execute_reply": "2024-05-08T19:18:51.212514Z"
    },
    "papermill": {
     "duration": 0.054775,
     "end_time": "2024-05-08T19:18:51.216222",
     "exception": false,
     "start_time": "2024-05-08T19:18:51.161447",
     "status": "completed"
    },
    "tags": []
   },
   "outputs": [],
   "source": [
    "## check your work \n",
    "\n"
   ]
  },
  {
   "cell_type": "code",
   "execution_count": 32,
   "id": "129b23cd",
   "metadata": {
    "execution": {
     "iopub.execute_input": "2024-05-08T19:18:51.263527Z",
     "iopub.status.busy": "2024-05-08T19:18:51.262711Z",
     "iopub.status.idle": "2024-05-08T19:18:51.348559Z",
     "shell.execute_reply": "2024-05-08T19:18:51.346960Z"
    },
    "papermill": {
     "duration": 0.114638,
     "end_time": "2024-05-08T19:18:51.351803",
     "exception": false,
     "start_time": "2024-05-08T19:18:51.237165",
     "status": "completed"
    },
    "tags": []
   },
   "outputs": [],
   "source": [
    "## change the new column age data type from float to int\n",
    "\n"
   ]
  },
  {
   "cell_type": "code",
   "execution_count": 33,
   "id": "148630fe",
   "metadata": {
    "execution": {
     "iopub.execute_input": "2024-05-08T19:18:51.398506Z",
     "iopub.status.busy": "2024-05-08T19:18:51.397193Z",
     "iopub.status.idle": "2024-05-08T19:18:51.406308Z",
     "shell.execute_reply": "2024-05-08T19:18:51.405081Z"
    },
    "papermill": {
     "duration": 0.03367,
     "end_time": "2024-05-08T19:18:51.408765",
     "exception": false,
     "start_time": "2024-05-08T19:18:51.375095",
     "status": "completed"
    },
    "tags": []
   },
   "outputs": [],
   "source": [
    "## create a function to know the average users ages\n"
   ]
  },
  {
   "cell_type": "code",
   "execution_count": 34,
   "id": "4a619022",
   "metadata": {
    "execution": {
     "iopub.execute_input": "2024-05-08T19:18:51.452980Z",
     "iopub.status.busy": "2024-05-08T19:18:51.452540Z",
     "iopub.status.idle": "2024-05-08T19:18:51.464247Z",
     "shell.execute_reply": "2024-05-08T19:18:51.462991Z"
    },
    "papermill": {
     "duration": 0.037035,
     "end_time": "2024-05-08T19:18:51.467115",
     "exception": false,
     "start_time": "2024-05-08T19:18:51.430080",
     "status": "completed"
    },
    "tags": []
   },
   "outputs": [],
   "source": [
    "## another important factor to offer  marketing services is the trip duration time \n",
    "\n",
    "## need to change the time from second to minute to be more usable\n",
    "\n",
    "\n"
   ]
  },
  {
   "cell_type": "code",
   "execution_count": 35,
   "id": "f39d9e69",
   "metadata": {
    "execution": {
     "iopub.execute_input": "2024-05-08T19:18:51.511089Z",
     "iopub.status.busy": "2024-05-08T19:18:51.510671Z",
     "iopub.status.idle": "2024-05-08T19:18:51.519872Z",
     "shell.execute_reply": "2024-05-08T19:18:51.518620Z"
    },
    "papermill": {
     "duration": 0.034249,
     "end_time": "2024-05-08T19:18:51.522448",
     "exception": false,
     "start_time": "2024-05-08T19:18:51.488199",
     "status": "completed"
    },
    "tags": []
   },
   "outputs": [],
   "source": [
    "## I need to change the time from second to Houre  to be more usable\n",
    "\n"
   ]
  },
  {
   "cell_type": "code",
   "execution_count": 37,
   "id": "bf214403",
   "metadata": {},
   "outputs": [],
   "source": [
    "## check your work \n"
   ]
  },
  {
   "cell_type": "markdown",
   "id": "c6079a1a",
   "metadata": {
    "papermill": {
     "duration": 0.020633,
     "end_time": "2024-05-08T19:18:51.564034",
     "exception": false,
     "start_time": "2024-05-08T19:18:51.543401",
     "status": "completed"
    },
    "tags": []
   },
   "source": []
  },
  {
   "cell_type": "markdown",
   "id": "893a8c3e",
   "metadata": {
    "papermill": {
     "duration": 0.020482,
     "end_time": "2024-05-08T19:18:51.605502",
     "exception": false,
     "start_time": "2024-05-08T19:18:51.585020",
     "status": "completed"
    },
    "tags": []
   },
   "source": [
    "\n",
    "# <p style=\"border-radius:15px;border-style:solid;border-color:lightblue;border-width:3px;background-color:lightblue;padding: 20px;font-family:Verdana;color:#D81F26;font-size:30px;text-align: center;\">Univariate Exploration</p>\n",
    "# <a id=\"011\"> Univariate Exploration</a>\n",
    "\n",
    "\n",
    "\n",
    "> In this section, investigate distributions of individual variables. If\n",
    "you see unusual points or outliers, take a deeper look to clean things up\n",
    "and prepare yourself to look at relationships between variables.\n",
    "\n"
   ]
  },
  {
   "cell_type": "markdown",
   "id": "ce56e6be",
   "metadata": {
    "papermill": {
     "duration": 0.021833,
     "end_time": "2024-05-08T19:18:51.649191",
     "exception": false,
     "start_time": "2024-05-08T19:18:51.627358",
     "status": "completed"
    },
    "tags": []
   },
   "source": [
    "\n",
    "# <a id=\"1\"> 1 ) . What is the distribution for User type?</a>"
   ]
  },
  {
   "cell_type": "code",
   "execution_count": null,
   "id": "da155188",
   "metadata": {
    "execution": {
     "iopub.execute_input": "2024-05-08T19:18:51.694549Z",
     "iopub.status.busy": "2024-05-08T19:18:51.693993Z",
     "iopub.status.idle": "2024-05-08T19:18:51.698940Z",
     "shell.execute_reply": "2024-05-08T19:18:51.697829Z"
    },
    "papermill": {
     "duration": 0.030263,
     "end_time": "2024-05-08T19:18:51.701329",
     "exception": false,
     "start_time": "2024-05-08T19:18:51.671066",
     "status": "completed"
    },
    "tags": []
   },
   "outputs": [],
   "source": [
    "## I will import seaborn library to support me in making visualizations \n",
    "\n",
    "import seaborn as sns\n",
    "# plt.figure(figsize = (10,5), dpi = 200)\n",
    "\n",
    "# plot = sns.countplot(data=gbf, x='bike_share_for_all_trip')\n",
    "\n",
    "# plt.xlabel('User distribution')\n",
    "# plt.ylabel('Frequency')\n",
    "# plt.title(\"Represent the user's distribution depending on being a part of the Trips Program\")\n",
    "\n",
    "# plt.show()"
   ]
  },
  {
   "cell_type": "markdown",
   "id": "8fdfefd1",
   "metadata": {
    "execution": {
     "iopub.execute_input": "2022-07-30T03:28:33.811729Z",
     "iopub.status.busy": "2022-07-30T03:28:33.811320Z",
     "iopub.status.idle": "2022-07-30T03:28:33.817587Z",
     "shell.execute_reply": "2022-07-30T03:28:33.816362Z",
     "shell.execute_reply.started": "2022-07-30T03:28:33.811696Z"
    },
    "papermill": {
     "duration": 0.0226,
     "end_time": "2024-05-08T19:18:52.145271",
     "exception": false,
     "start_time": "2024-05-08T19:18:52.122671",
     "status": "completed"
    },
    "tags": []
   },
   "source": [
    "> ### <mark>Your analsys and exploration here </mark>"
   ]
  },
  {
   "cell_type": "markdown",
   "id": "1ab6a61e",
   "metadata": {
    "papermill": {
     "duration": 0.022984,
     "end_time": "2024-05-08T19:18:52.190739",
     "exception": false,
     "start_time": "2024-05-08T19:18:52.167755",
     "status": "completed"
    },
    "tags": []
   },
   "source": [
    "# <a id=\"2\"> 2 ) What is the distribution for the bike share users on all Trips?</a>"
   ]
  },
  {
   "cell_type": "markdown",
   "id": "364ffa81",
   "metadata": {
    "papermill": {
     "duration": 0.024808,
     "end_time": "2024-05-08T19:18:52.704181",
     "exception": false,
     "start_time": "2024-05-08T19:18:52.679373",
     "status": "completed"
    },
    "tags": []
   },
   "source": [
    "> ### <mark>Your analsys and exploration here </mark>"
   ]
  },
  {
   "cell_type": "markdown",
   "id": "4a656681",
   "metadata": {
    "papermill": {
     "duration": 0.024421,
     "end_time": "2024-05-08T19:18:52.752898",
     "exception": false,
     "start_time": "2024-05-08T19:18:52.728477",
     "status": "completed"
    },
    "tags": []
   },
   "source": [
    "# <a id=\"3\"> 3 ) What is the distribution for users' ages? </a>"
   ]
  },
  {
   "cell_type": "markdown",
   "id": "aaddc041",
   "metadata": {
    "papermill": {
     "duration": 0.024745,
     "end_time": "2024-05-08T19:18:53.219658",
     "exception": false,
     "start_time": "2024-05-08T19:18:53.194913",
     "status": "completed"
    },
    "tags": []
   },
   "source": [
    "> ### <mark>Your analsys and exploration here </mark>"
   ]
  },
  {
   "cell_type": "markdown",
   "id": "01e99ec2",
   "metadata": {
    "papermill": {
     "duration": 0.024025,
     "end_time": "2024-05-08T19:18:53.268701",
     "exception": false,
     "start_time": "2024-05-08T19:18:53.244676",
     "status": "completed"
    },
    "tags": []
   },
   "source": [
    "\n",
    "# <a id=\"4\">  4 ) . Do the users' ages have outlier values?</a>\n"
   ]
  },
  {
   "cell_type": "markdown",
   "id": "94649142",
   "metadata": {
    "execution": {
     "iopub.execute_input": "2022-07-30T03:30:06.647115Z",
     "iopub.status.busy": "2022-07-30T03:30:06.646700Z",
     "iopub.status.idle": "2022-07-30T03:30:06.654926Z",
     "shell.execute_reply": "2022-07-30T03:30:06.652763Z",
     "shell.execute_reply.started": "2022-07-30T03:30:06.647081Z"
    },
    "papermill": {
     "duration": 0.023611,
     "end_time": "2024-05-08T19:18:53.316739",
     "exception": false,
     "start_time": "2024-05-08T19:18:53.293128",
     "status": "completed"
    },
    "tags": []
   },
   "source": [
    "> ### <mark>Your analsys and exploration here </mark>"
   ]
  },
  {
   "cell_type": "markdown",
   "id": "9594cf70",
   "metadata": {
    "papermill": {
     "duration": 0.025594,
     "end_time": "2024-05-08T19:18:53.787206",
     "exception": false,
     "start_time": "2024-05-08T19:18:53.761612",
     "status": "completed"
    },
    "tags": []
   },
   "source": [
    "# <a id=\"5\">  5 ) . What is the distribution for the trip duration in minutes? </a>"
   ]
  },
  {
   "cell_type": "code",
   "execution_count": 1,
   "id": "b16e11f1",
   "metadata": {
    "execution": {
     "iopub.execute_input": "2024-05-08T19:18:53.841097Z",
     "iopub.status.busy": "2024-05-08T19:18:53.840678Z",
     "iopub.status.idle": "2024-05-08T19:18:53.858264Z",
     "shell.execute_reply": "2024-05-08T19:18:53.857077Z"
    },
    "papermill": {
     "duration": 0.047619,
     "end_time": "2024-05-08T19:18:53.860818",
     "exception": false,
     "start_time": "2024-05-08T19:18:53.813199",
     "status": "completed"
    },
    "tags": []
   },
   "outputs": [],
   "source": [
    "## Review the statistic for trip duration in minutes\n",
    "\n"
   ]
  },
  {
   "cell_type": "code",
   "execution_count": 2,
   "id": "bf5247de",
   "metadata": {
    "execution": {
     "iopub.execute_input": "2024-05-08T19:18:53.914860Z",
     "iopub.status.busy": "2024-05-08T19:18:53.914418Z",
     "iopub.status.idle": "2024-05-08T19:18:54.342662Z",
     "shell.execute_reply": "2024-05-08T19:18:54.341115Z"
    },
    "papermill": {
     "duration": 0.458722,
     "end_time": "2024-05-08T19:18:54.345708",
     "exception": false,
     "start_time": "2024-05-08T19:18:53.886986",
     "status": "completed"
    },
    "tags": []
   },
   "outputs": [],
   "source": [
    "# Make visualization to easy get insight\n"
   ]
  },
  {
   "cell_type": "markdown",
   "id": "6d91b7f7",
   "metadata": {
    "papermill": {
     "duration": 0.027594,
     "end_time": "2024-05-08T19:18:54.401179",
     "exception": false,
     "start_time": "2024-05-08T19:18:54.373585",
     "status": "completed"
    },
    "tags": []
   },
   "source": [
    "> ### <mark>Your analsys and exploration here </mark>"
   ]
  },
  {
   "cell_type": "markdown",
   "id": "d563360f",
   "metadata": {
    "papermill": {
     "duration": 0.027079,
     "end_time": "2024-05-08T19:18:54.456767",
     "exception": false,
     "start_time": "2024-05-08T19:18:54.429688",
     "status": "completed"
    },
    "tags": []
   },
   "source": [
    "\n",
    "# <a id=\"6\"> 6 ) . What is the distribution for member_gender?</a>"
   ]
  },
  {
   "cell_type": "code",
   "execution_count": 3,
   "id": "65500a29",
   "metadata": {
    "execution": {
     "iopub.execute_input": "2024-05-08T19:18:54.515785Z",
     "iopub.status.busy": "2024-05-08T19:18:54.514596Z",
     "iopub.status.idle": "2024-05-08T19:18:54.814861Z",
     "shell.execute_reply": "2024-05-08T19:18:54.813659Z"
    },
    "papermill": {
     "duration": 0.332401,
     "end_time": "2024-05-08T19:18:54.817557",
     "exception": false,
     "start_time": "2024-05-08T19:18:54.485156",
     "status": "completed"
    },
    "tags": []
   },
   "outputs": [],
   "source": [
    "# Make visualization to easy get insight\n"
   ]
  },
  {
   "cell_type": "markdown",
   "id": "4629d35e",
   "metadata": {
    "papermill": {
     "duration": 0.028038,
     "end_time": "2024-05-08T19:18:54.874400",
     "exception": false,
     "start_time": "2024-05-08T19:18:54.846362",
     "status": "completed"
    },
    "tags": []
   },
   "source": [
    "> ### <mark>Your analsys and exploration here </mark>"
   ]
  },
  {
   "cell_type": "markdown",
   "id": "ae88af93",
   "metadata": {
    "papermill": {
     "duration": 0.030323,
     "end_time": "2024-05-08T19:18:54.933945",
     "exception": false,
     "start_time": "2024-05-08T19:18:54.903622",
     "status": "completed"
    },
    "tags": []
   },
   "source": [
    "# <a id=\"7\">    7 )  . What is the distribution for the trip duration in Hours?  </a>"
   ]
  },
  {
   "cell_type": "code",
   "execution_count": 4,
   "id": "d7bee747",
   "metadata": {
    "execution": {
     "iopub.execute_input": "2024-05-08T19:18:54.995677Z",
     "iopub.status.busy": "2024-05-08T19:18:54.995210Z",
     "iopub.status.idle": "2024-05-08T19:18:55.351354Z",
     "shell.execute_reply": "2024-05-08T19:18:55.350021Z"
    },
    "papermill": {
     "duration": 0.38995,
     "end_time": "2024-05-08T19:18:55.354065",
     "exception": false,
     "start_time": "2024-05-08T19:18:54.964115",
     "status": "completed"
    },
    "tags": []
   },
   "outputs": [],
   "source": [
    "# Make visualization to easy get insight\n"
   ]
  },
  {
   "cell_type": "markdown",
   "id": "8c34fabf",
   "metadata": {
    "papermill": {
     "duration": 0.029429,
     "end_time": "2024-05-08T19:18:55.413759",
     "exception": false,
     "start_time": "2024-05-08T19:18:55.384330",
     "status": "completed"
    },
    "tags": []
   },
   "source": [
    "> ### <mark>Your analsys and exploration here </mark>"
   ]
  },
  {
   "cell_type": "markdown",
   "id": "796695d2",
   "metadata": {
    "papermill": {
     "duration": 0.029701,
     "end_time": "2024-05-08T19:18:55.475214",
     "exception": false,
     "start_time": "2024-05-08T19:18:55.445513",
     "status": "completed"
    },
    "tags": []
   },
   "source": [
    "### The variables distribution:\n",
    "\n",
    "\n",
    "> The distribution of duration present that most of the trips were less than 30 minutes ( we can notice that from the minutes and the hour charts )\n",
    "\n",
    "\n",
    "> And the Age distribution is ( left Skewed ) as most users age are  22 - 39\n",
    "\n",
    "\n",
    "> Most users are subscribers, not Customers and  Males as shown in the charts above.\n",
    "\n",
    "\n",
    "\n",
    "### Were there any interesting and outliers \n",
    "\n",
    "\n",
    "- We got Age outliers for for more than 100 .\n",
    "\n",
    "\n",
    "\n",
    "- The distribution of duration was strange where the minutes and the hour charts were 30 minutes or less."
   ]
  },
  {
   "cell_type": "markdown",
   "id": "e77f0d7b",
   "metadata": {
    "papermill": {
     "duration": 0.030295,
     "end_time": "2024-05-08T19:18:55.535533",
     "exception": false,
     "start_time": "2024-05-08T19:18:55.505238",
     "status": "completed"
    },
    "tags": []
   },
   "source": [
    "# <p style=\"border-radius:15px;border-style:solid;border-color:lightblue;border-width:3px;background-color:lightblue;padding: 20px;font-family:Verdana;color:#D81F26;font-size:30px;text-align: center;\">Bivariate Exploration</p>\n",
    "# <a id=\"111\"> Bivariate Exploration</a>\n",
    "\n",
    "Now let's investigate relationships between pairs of variables in our data."
   ]
  },
  {
   "cell_type": "markdown",
   "id": "18cb1241",
   "metadata": {
    "papermill": {
     "duration": 0.031188,
     "end_time": "2024-05-08T19:18:55.597833",
     "exception": false,
     "start_time": "2024-05-08T19:18:55.566645",
     "status": "completed"
    },
    "tags": []
   },
   "source": [
    "# <a id=\"8\"> 8) . What the average duration of trip for the categories of user type?</a>"
   ]
  },
  {
   "cell_type": "code",
   "execution_count": null,
   "id": "1bc30891",
   "metadata": {
    "execution": {
     "iopub.execute_input": "2024-05-08T19:18:55.663148Z",
     "iopub.status.busy": "2024-05-08T19:18:55.662682Z",
     "iopub.status.idle": "2024-05-08T19:18:55.889207Z",
     "shell.execute_reply": "2024-05-08T19:18:55.887947Z"
    },
    "papermill": {
     "duration": 0.262594,
     "end_time": "2024-05-08T19:18:55.892095",
     "exception": false,
     "start_time": "2024-05-08T19:18:55.629501",
     "status": "completed"
    },
    "tags": []
   },
   "outputs": [],
   "source": [
    "# Distribution of Age by user types\n",
    "\n"
   ]
  },
  {
   "cell_type": "markdown",
   "id": "c04bd835",
   "metadata": {
    "papermill": {
     "duration": 0.030573,
     "end_time": "2024-05-08T19:18:55.954202",
     "exception": false,
     "start_time": "2024-05-08T19:18:55.923629",
     "status": "completed"
    },
    "tags": []
   },
   "source": [
    "# Make visualization to easy get insight\n"
   ]
  },
  {
   "cell_type": "markdown",
   "id": "3a40f5e2",
   "metadata": {},
   "source": [
    "> ### <mark>Your analsys and exploration here </mark>"
   ]
  },
  {
   "cell_type": "markdown",
   "id": "aadd20d4",
   "metadata": {
    "papermill": {
     "duration": 0.029335,
     "end_time": "2024-05-08T19:18:56.013896",
     "exception": false,
     "start_time": "2024-05-08T19:18:55.984561",
     "status": "completed"
    },
    "tags": []
   },
   "source": [
    "# <a id=\"9\">    9 ) . How long is the duration of the trip for each gender in minutes?  </a>"
   ]
  },
  {
   "cell_type": "code",
   "execution_count": null,
   "id": "c5cfff86",
   "metadata": {
    "execution": {
     "iopub.execute_input": "2024-05-08T19:18:56.075806Z",
     "iopub.status.busy": "2024-05-08T19:18:56.074968Z",
     "iopub.status.idle": "2024-05-08T19:18:58.998551Z",
     "shell.execute_reply": "2024-05-08T19:18:58.997208Z"
    },
    "papermill": {
     "duration": 2.958578,
     "end_time": "2024-05-08T19:18:59.002139",
     "exception": false,
     "start_time": "2024-05-08T19:18:56.043561",
     "status": "completed"
    },
    "tags": []
   },
   "outputs": [],
   "source": [
    "# Make visualization to easy get insight\n",
    "\n",
    "# ------------------------Duration distribution by member gender\n",
    "\n"
   ]
  },
  {
   "cell_type": "markdown",
   "id": "5adf025b",
   "metadata": {
    "papermill": {
     "duration": 0.031591,
     "end_time": "2024-05-08T19:18:59.064827",
     "exception": false,
     "start_time": "2024-05-08T19:18:59.033236",
     "status": "completed"
    },
    "tags": []
   },
   "source": [
    "# Make visualization to easy get insight\n"
   ]
  },
  {
   "cell_type": "markdown",
   "id": "aee81203",
   "metadata": {},
   "source": [
    "> ### <mark>Your analsys and exploration here </mark>"
   ]
  },
  {
   "cell_type": "markdown",
   "id": "695f4dd0",
   "metadata": {
    "papermill": {
     "duration": 0.032573,
     "end_time": "2024-05-08T19:18:59.128580",
     "exception": false,
     "start_time": "2024-05-08T19:18:59.096007",
     "status": "completed"
    },
    "tags": []
   },
   "source": [
    "# <a id=\"10 \"> 10 ) . How long is the duration of the trip for each user_type in minutes?  </a>"
   ]
  },
  {
   "cell_type": "code",
   "execution_count": 7,
   "id": "a9af5bd1",
   "metadata": {
    "execution": {
     "iopub.execute_input": "2024-05-08T19:18:59.193725Z",
     "iopub.status.busy": "2024-05-08T19:18:59.193329Z",
     "iopub.status.idle": "2024-05-08T19:18:59.370471Z",
     "shell.execute_reply": "2024-05-08T19:18:59.369530Z"
    },
    "papermill": {
     "duration": 0.213174,
     "end_time": "2024-05-08T19:18:59.372944",
     "exception": false,
     "start_time": "2024-05-08T19:18:59.159770",
     "status": "completed"
    },
    "tags": []
   },
   "outputs": [],
   "source": [
    "\n",
    "# Make visualization to easy get insight\n"
   ]
  },
  {
   "cell_type": "markdown",
   "id": "2fbfffdd",
   "metadata": {
    "papermill": {
     "duration": 0.030586,
     "end_time": "2024-05-08T19:18:59.436672",
     "exception": false,
     "start_time": "2024-05-08T19:18:59.406086",
     "status": "completed"
    },
    "tags": []
   },
   "source": [
    "> ### <mark>Your analsys and exploration here </mark>"
   ]
  },
  {
   "cell_type": "markdown",
   "id": "1c031115",
   "metadata": {
    "papermill": {
     "duration": 0.030853,
     "end_time": "2024-05-08T19:18:59.500064",
     "exception": false,
     "start_time": "2024-05-08T19:18:59.469211",
     "status": "completed"
    },
    "tags": []
   },
   "source": [
    "# <a id=\"11\">  11 ) . How the user distribution depending on their Age and user_type ? </a>"
   ]
  },
  {
   "cell_type": "code",
   "execution_count": 8,
   "id": "3b90bb19",
   "metadata": {
    "execution": {
     "iopub.execute_input": "2024-05-08T19:18:59.566719Z",
     "iopub.status.busy": "2024-05-08T19:18:59.566085Z",
     "iopub.status.idle": "2024-05-08T19:18:59.912305Z",
     "shell.execute_reply": "2024-05-08T19:18:59.911119Z"
    },
    "papermill": {
     "duration": 0.382956,
     "end_time": "2024-05-08T19:18:59.915371",
     "exception": false,
     "start_time": "2024-05-08T19:18:59.532415",
     "status": "completed"
    },
    "tags": []
   },
   "outputs": [],
   "source": [
    "\n",
    "# Make visualization to easy get insight\n"
   ]
  },
  {
   "cell_type": "markdown",
   "id": "4cbe24d3",
   "metadata": {
    "papermill": {
     "duration": 0.031741,
     "end_time": "2024-05-08T19:18:59.980930",
     "exception": false,
     "start_time": "2024-05-08T19:18:59.949189",
     "status": "completed"
    },
    "tags": []
   },
   "source": [
    "> ### <mark>Your analsys and exploration here </mark>"
   ]
  },
  {
   "cell_type": "markdown",
   "id": "2b64f4e9",
   "metadata": {
    "papermill": {
     "duration": 0.033128,
     "end_time": "2024-05-08T19:19:00.046934",
     "exception": false,
     "start_time": "2024-05-08T19:19:00.013806",
     "status": "completed"
    },
    "tags": []
   },
   "source": [
    "#  <a id=\"12\"> 12 ). How the user distribution depending on their Age and member_gender ?</a>"
   ]
  },
  {
   "cell_type": "code",
   "execution_count": 9,
   "id": "6dacd14a",
   "metadata": {
    "execution": {
     "iopub.execute_input": "2024-05-08T19:19:00.114966Z",
     "iopub.status.busy": "2024-05-08T19:19:00.114490Z",
     "iopub.status.idle": "2024-05-08T19:19:00.491590Z",
     "shell.execute_reply": "2024-05-08T19:19:00.490321Z"
    },
    "papermill": {
     "duration": 0.415016,
     "end_time": "2024-05-08T19:19:00.495267",
     "exception": false,
     "start_time": "2024-05-08T19:19:00.080251",
     "status": "completed"
    },
    "tags": []
   },
   "outputs": [],
   "source": [
    "# Make visualization to easy get insight\n"
   ]
  },
  {
   "cell_type": "markdown",
   "id": "2dd41e12",
   "metadata": {
    "papermill": {
     "duration": 0.033401,
     "end_time": "2024-05-08T19:19:00.565677",
     "exception": false,
     "start_time": "2024-05-08T19:19:00.532276",
     "status": "completed"
    },
    "tags": []
   },
   "source": [
    "> ### <mark>Your analsys and exploration here </mark>"
   ]
  },
  {
   "cell_type": "markdown",
   "id": "e8970237",
   "metadata": {
    "papermill": {
     "duration": 0.033295,
     "end_time": "2024-05-08T19:19:00.633271",
     "exception": false,
     "start_time": "2024-05-08T19:19:00.599976",
     "status": "completed"
    },
    "tags": []
   },
   "source": [
    "### Talk about some of the relationships you observed in this part of the investigation. How did the feature(s) of interest vary with other features in the dataset?\n",
    "\n",
    "> ...................\n",
    "\n",
    "\n",
    "### Did you observe any interesting relationships between the other features (not the main feature(s) of interest)?\n",
    "\n",
    "> ...................."
   ]
  },
  {
   "cell_type": "markdown",
   "id": "be04d446",
   "metadata": {
    "papermill": {
     "duration": 0.03374,
     "end_time": "2024-05-08T19:19:00.701869",
     "exception": false,
     "start_time": "2024-05-08T19:19:00.668129",
     "status": "completed"
    },
    "tags": []
   },
   "source": [
    "# <p style=\"border-radius:15px;border-style:solid;border-color:lightblue;border-width:3px;background-color:lightblue;padding: 20px;font-family:Verdana;color:#D81F26;font-size:30px;text-align: center;\">Multivariate Exploration</p>\n",
    "# <a id=\"1111\"> Multivariate Exploration </a>\n",
    "\n",
    "> Create plots of three or more variables to investigate your data even\n",
    "further. Make sure that your investigations are justified, and follow from\n",
    "your work in the previous sections."
   ]
  },
  {
   "cell_type": "code",
   "execution_count": null,
   "id": "94da7cd0",
   "metadata": {},
   "outputs": [],
   "source": [
    "## check your work \n"
   ]
  },
  {
   "cell_type": "markdown",
   "id": "ade8b4be",
   "metadata": {
    "papermill": {
     "duration": 0.034492,
     "end_time": "2024-05-08T19:19:00.771230",
     "exception": false,
     "start_time": "2024-05-08T19:19:00.736738",
     "status": "completed"
    },
    "tags": []
   },
   "source": [
    "\n",
    "# <a id=\"13\">  13 ) . What is the  Correlation between each variable in the dataset?</a>"
   ]
  },
  {
   "cell_type": "code",
   "execution_count": 10,
   "id": "ddba4e75",
   "metadata": {
    "execution": {
     "iopub.execute_input": "2024-05-08T19:19:00.842561Z",
     "iopub.status.busy": "2024-05-08T19:19:00.841730Z",
     "iopub.status.idle": "2024-05-08T19:19:02.331091Z",
     "shell.execute_reply": "2024-05-08T19:19:02.329589Z"
    },
    "papermill": {
     "duration": 1.531842,
     "end_time": "2024-05-08T19:19:02.338068",
     "exception": false,
     "start_time": "2024-05-08T19:19:00.806226",
     "status": "completed"
    },
    "tags": []
   },
   "outputs": [],
   "source": [
    "# Make visualization to easy get insight\n"
   ]
  },
  {
   "cell_type": "markdown",
   "id": "81bf674a",
   "metadata": {
    "papermill": {
     "duration": 0.040414,
     "end_time": "2024-05-08T19:19:02.419056",
     "exception": false,
     "start_time": "2024-05-08T19:19:02.378642",
     "status": "completed"
    },
    "tags": []
   },
   "source": [
    "\n",
    "\n",
    "> ### <mark>Your analsys and exploration here </mark>\n",
    "\n",
    "Example usage\n",
    "- There is `no Correlation` for any variable with time ( `duration sec /minutes/hours`)\n"
   ]
  },
  {
   "cell_type": "markdown",
   "id": "0de8bcef",
   "metadata": {
    "papermill": {
     "duration": 0.041216,
     "end_time": "2024-05-08T19:19:02.501874",
     "exception": false,
     "start_time": "2024-05-08T19:19:02.460658",
     "status": "completed"
    },
    "tags": []
   },
   "source": [
    "\n",
    "# <a id=\"14\"> 14 )  .  What is the  Correlation between `specific numeric variables` in the dataset?</a>\n"
   ]
  },
  {
   "cell_type": "code",
   "execution_count": 11,
   "id": "4e1851c8",
   "metadata": {
    "execution": {
     "iopub.execute_input": "2024-05-08T19:19:02.586438Z",
     "iopub.status.busy": "2024-05-08T19:19:02.585564Z",
     "iopub.status.idle": "2024-05-08T19:19:15.830347Z",
     "shell.execute_reply": "2024-05-08T19:19:15.829084Z"
    },
    "papermill": {
     "duration": 13.29349,
     "end_time": "2024-05-08T19:19:15.835911",
     "exception": false,
     "start_time": "2024-05-08T19:19:02.542421",
     "status": "completed"
    },
    "tags": []
   },
   "outputs": [],
   "source": [
    "# Make visualization to easy get insight\n",
    "\n",
    "\n"
   ]
  },
  {
   "cell_type": "markdown",
   "id": "b5e3995b",
   "metadata": {
    "papermill": {
     "duration": 0.046689,
     "end_time": "2024-05-08T19:19:15.930253",
     "exception": false,
     "start_time": "2024-05-08T19:19:15.883564",
     "status": "completed"
    },
    "tags": []
   },
   "source": [
    "> ### <mark>Your analsys and exploration here </mark>\n",
    "\n",
    "Example usage\n",
    "- There is `no Correlation` for any variable with time ( `duration sec /minutes`)\n",
    "\n",
    "\n",
    "\n",
    "\n",
    "- \n",
    "\n",
    "\n",
    "\n",
    "\n",
    "- \n",
    "\n",
    "\n"
   ]
  },
  {
   "cell_type": "markdown",
   "id": "97fea6e5",
   "metadata": {
    "papermill": {
     "duration": 0.044683,
     "end_time": "2024-05-08T19:19:16.022736",
     "exception": false,
     "start_time": "2024-05-08T19:19:15.978053",
     "status": "completed"
    },
    "tags": []
   },
   "source": [
    "# <a id=\"15\">  15 ) What is the  Correlation between data_stat variables in the dataset?</a>\n"
   ]
  },
  {
   "cell_type": "code",
   "execution_count": 12,
   "id": "76e8afc4",
   "metadata": {
    "execution": {
     "iopub.execute_input": "2024-05-08T19:19:16.114795Z",
     "iopub.status.busy": "2024-05-08T19:19:16.114016Z",
     "iopub.status.idle": "2024-05-08T19:19:16.553808Z",
     "shell.execute_reply": "2024-05-08T19:19:16.552337Z"
    },
    "papermill": {
     "duration": 0.489697,
     "end_time": "2024-05-08T19:19:16.557573",
     "exception": false,
     "start_time": "2024-05-08T19:19:16.067876",
     "status": "completed"
    },
    "tags": []
   },
   "outputs": [
    {
     "data": {
      "text/plain": [
       "'\"\"This time I will use heatmap  to explain how Correlation between data_stat variables\\n\\nin the dataset in more clear and specific percentage'"
      ]
     },
     "execution_count": 12,
     "metadata": {},
     "output_type": "execute_result"
    }
   ],
   "source": [
    "\n",
    "\"\"\"\"\"This time I will use heatmap  to explain how Correlation between data_stat variables\n",
    "\n",
    "in the dataset in more clear and specific percentage\"\"\"\n",
    "\n",
    "# Make visualization to easy get insight\n",
    "\n"
   ]
  },
  {
   "cell_type": "markdown",
   "id": "33301163",
   "metadata": {
    "papermill": {
     "duration": 0.047459,
     "end_time": "2024-05-08T19:19:16.653147",
     "exception": false,
     "start_time": "2024-05-08T19:19:16.605688",
     "status": "completed"
    },
    "tags": []
   },
   "source": [
    "> ### <mark>The above charts show how Correlation between specific numeric variables in the dataset using heatmap plots  </mark>\n",
    "\n",
    "\n",
    "\n",
    "**Actually the `heat map`  display the above ideas in clear percentages**\n",
    "\n",
    "\n",
    "\n",
    "- There is `no Correlation` for any variable with time ( `duration sec /minutes`)\n",
    "\n",
    "\n",
    "\n",
    "\n",
    "- There is a `negative  Correlation` between  member_birth_year  and age which normal.\n",
    "\n",
    "\n",
    "\n",
    "\n",
    "- There is `no significant Correlation` for any variable with `bike_id `\n",
    "\n"
   ]
  },
  {
   "cell_type": "markdown",
   "id": "c7d52286",
   "metadata": {
    "papermill": {
     "duration": 0.047263,
     "end_time": "2024-05-08T19:19:16.750071",
     "exception": false,
     "start_time": "2024-05-08T19:19:16.702808",
     "status": "completed"
    },
    "tags": []
   },
   "source": [
    "# <p style=\"border-radius:15px;border-style:solid;border-color:lightblue;border-width:3px;background-color:lightblue;padding: 20px;font-family:Verdana;color:#D81F26;font-size:30px;text-align: center;\">Conclusions</p>\n",
    "# <a id=\"1100\"> Conclusions </a>\n",
    "\n",
    "#example\n",
    "- Most users were Male.\n",
    "\n",
    "\n",
    "- \n",
    "\n",
    "- \n",
    "\n",
    "- \n",
    "\n",
    "\n",
    "\n",
    "## limitation \n",
    "example\n",
    "- We got missing data which we fix some of them .\n",
    "\n",
    "- \n"
   ]
  },
  {
   "cell_type": "markdown",
   "id": "8960d6bc",
   "metadata": {},
   "source": []
  }
 ],
 "metadata": {
  "kaggle": {
   "accelerator": "none",
   "dataSources": [
    {
     "datasetId": 2328822,
     "sourceId": 4414579,
     "sourceType": "datasetVersion"
    }
   ],
   "dockerImageVersionId": 30203,
   "isGpuEnabled": false,
   "isInternetEnabled": true,
   "language": "python",
   "sourceType": "notebook"
  },
  "kernelspec": {
   "display_name": "venv",
   "language": "python",
   "name": "python3"
  },
  "language_info": {
   "codemirror_mode": {
    "name": "ipython",
    "version": 3
   },
   "file_extension": ".py",
   "mimetype": "text/x-python",
   "name": "python",
   "nbconvert_exporter": "python",
   "pygments_lexer": "ipython3",
   "version": "3.10.0rc2"
  },
  "papermill": {
   "default_parameters": {},
   "duration": 42.862916,
   "end_time": "2024-05-08T19:19:17.815863",
   "environment_variables": {},
   "exception": null,
   "input_path": "__notebook__.ipynb",
   "output_path": "__notebook__.ipynb",
   "parameters": {},
   "start_time": "2024-05-08T19:18:34.952947",
   "version": "2.3.4"
  }
 },
 "nbformat": 4,
 "nbformat_minor": 5
}
