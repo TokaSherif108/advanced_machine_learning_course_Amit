{
 "cells": [
  {
   "cell_type": "markdown",
   "metadata": {
    "id": "2830-mzSX2PB"
   },
   "source": [
    "# Write the code to answer the following questions\n",
    "\n"
   ]
  },
  {
   "cell_type": "markdown",
   "metadata": {},
   "source": [
    "# 0- Imports"
   ]
  },
  {
   "cell_type": "code",
   "execution_count": 25,
   "metadata": {
    "id": "rZEWa_7FX2PK"
   },
   "outputs": [],
   "source": [
    "# Import neccessary libraries"
   ]
  },
  {
   "cell_type": "markdown",
   "metadata": {
    "id": "sMl59NfIX2PL"
   },
   "source": [
    "# 1- Read Salaries.csv as DataFrame & Call it `sal`."
   ]
  },
  {
   "cell_type": "code",
   "execution_count": 27,
   "metadata": {
    "id": "7vC7tycVX2PM",
    "scrolled": true
   },
   "outputs": [],
   "source": [
    "# Read the data"
   ]
  },
  {
   "cell_type": "markdown",
   "metadata": {
    "id": "6g_KGmX8X2PM"
   },
   "source": [
    "# 2- Check the head of the DataFrame"
   ]
  },
  {
   "cell_type": "code",
   "execution_count": 29,
   "metadata": {},
   "outputs": [],
   "source": [
    "# write the answer here"
   ]
  },
  {
   "cell_type": "markdown",
   "metadata": {
    "id": "tF2bm9RkX2PP"
   },
   "source": [
    "# 3- Use the .info() method to find out how many entries there are."
   ]
  },
  {
   "cell_type": "code",
   "execution_count": 31,
   "metadata": {},
   "outputs": [],
   "source": [
    "# write the answer here"
   ]
  },
  {
   "cell_type": "markdown",
   "metadata": {},
   "source": [
    "# 4- Convert BasePay & OvertimePay columns to numerical columns"
   ]
  },
  {
   "cell_type": "code",
   "execution_count": 33,
   "metadata": {},
   "outputs": [],
   "source": [
    "# write the answer here\n",
    "# Hint: you need to google search for this or ask ChatGPT "
   ]
  },
  {
   "cell_type": "markdown",
   "metadata": {
    "id": "d1pLDDUEX2PQ"
   },
   "source": [
    "# 5- What is the average BasePay?"
   ]
  },
  {
   "cell_type": "code",
   "execution_count": 35,
   "metadata": {},
   "outputs": [],
   "source": [
    "# write the answer here"
   ]
  },
  {
   "cell_type": "markdown",
   "metadata": {
    "id": "3wAwEFlaX2PR"
   },
   "source": [
    "# 6- What is the highest amount of OvertimePay in the dataset?"
   ]
  },
  {
   "cell_type": "code",
   "execution_count": 37,
   "metadata": {},
   "outputs": [],
   "source": [
    "# write the answer here"
   ]
  },
  {
   "cell_type": "markdown",
   "metadata": {
    "id": "0fXY6xuDX2PS"
   },
   "source": [
    "# 7- What is the job title of  JOSEPH DRISCOLL?"
   ]
  },
  {
   "cell_type": "code",
   "execution_count": 39,
   "metadata": {},
   "outputs": [],
   "source": [
    "# write the answer here"
   ]
  },
  {
   "cell_type": "markdown",
   "metadata": {
    "id": "a0O0EuHQX2PU"
   },
   "source": [
    "# 8- How much does JOSEPH DRISCOLL make (including benefits)?"
   ]
  },
  {
   "cell_type": "code",
   "execution_count": 41,
   "metadata": {},
   "outputs": [],
   "source": [
    "# write the answer here"
   ]
  },
  {
   "cell_type": "markdown",
   "metadata": {
    "id": "svHDQjtzX2PV"
   },
   "source": [
    "# 9- What is the name of highest paid person (including benefits)?"
   ]
  },
  {
   "cell_type": "code",
   "execution_count": 43,
   "metadata": {},
   "outputs": [],
   "source": [
    "# write the answer here"
   ]
  },
  {
   "cell_type": "markdown",
   "metadata": {
    "id": "iEKJF8S0X2PW"
   },
   "source": [
    "# 10- What is the name of lowest paid person (including benefits)? Do you notice something strange about how much he or she is paid"
   ]
  },
  {
   "cell_type": "code",
   "execution_count": 45,
   "metadata": {},
   "outputs": [],
   "source": [
    "# write the answer here"
   ]
  },
  {
   "cell_type": "markdown",
   "metadata": {
    "id": "E8yvQD5gX2PX"
   },
   "source": [
    "# 11- What was the average (mean) BasePay of all employees per year? (2011-2014)?"
   ]
  },
  {
   "cell_type": "code",
   "execution_count": 47,
   "metadata": {},
   "outputs": [],
   "source": [
    "# write the answer here"
   ]
  },
  {
   "cell_type": "markdown",
   "metadata": {
    "id": "3CzRhfOzX2PX"
   },
   "source": [
    "# 12- How many unique job titles are there?"
   ]
  },
  {
   "cell_type": "code",
   "execution_count": 49,
   "metadata": {},
   "outputs": [],
   "source": [
    "# write the answer here"
   ]
  },
  {
   "cell_type": "markdown",
   "metadata": {
    "id": "64njguizX2PY"
   },
   "source": [
    "# 13- What are the top 5 most common jobs?"
   ]
  },
  {
   "cell_type": "code",
   "execution_count": 51,
   "metadata": {},
   "outputs": [],
   "source": [
    "# write the answer here"
   ]
  },
  {
   "cell_type": "markdown",
   "metadata": {
    "id": "Zfqi1oVPX2PY"
   },
   "source": [
    "# 14- How many Job Titles were represented by only one person in 2013? (e.g. Job Titles with only one occurence in 2013?)"
   ]
  },
  {
   "cell_type": "code",
   "execution_count": 53,
   "metadata": {},
   "outputs": [],
   "source": [
    "# write the answer here"
   ]
  },
  {
   "cell_type": "markdown",
   "metadata": {
    "id": "jjt00xJhX2PZ"
   },
   "source": [
    "# 15- How many people have the word Chief in their job title? (This is pretty tricky)"
   ]
  },
  {
   "cell_type": "code",
   "execution_count": 55,
   "metadata": {},
   "outputs": [],
   "source": [
    "# write the answer here"
   ]
  },
  {
   "cell_type": "markdown",
   "metadata": {
    "id": "RsokFRnsX2Pa"
   },
   "source": [
    "# 16- Bonus: Is there a correlation between length of the Job Title string and Salary?"
   ]
  },
  {
   "cell_type": "code",
   "execution_count": 59,
   "metadata": {},
   "outputs": [],
   "source": [
    "# write the answer here"
   ]
  },
  {
   "cell_type": "markdown",
   "metadata": {
    "id": "YCRjzLlyX2Pb"
   },
   "source": [
    "# Great Job!"
   ]
  }
 ],
 "metadata": {
  "colab": {
   "provenance": []
  },
  "kernelspec": {
   "display_name": "Python 3 (ipykernel)",
   "language": "python",
   "name": "python3"
  },
  "language_info": {
   "codemirror_mode": {
    "name": "ipython",
    "version": 3
   },
   "file_extension": ".py",
   "mimetype": "text/x-python",
   "name": "python",
   "nbconvert_exporter": "python",
   "pygments_lexer": "ipython3",
   "version": "3.10.9"
  }
 },
 "nbformat": 4,
 "nbformat_minor": 1
}
